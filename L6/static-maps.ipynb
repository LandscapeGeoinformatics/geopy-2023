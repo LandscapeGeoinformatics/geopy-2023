{
  "cells": [
    {
      "cell_type": "markdown",
      "metadata": {},
      "source": [
        "# Static maps with matplotlib\n",
        "\n",
        "## Download datasets\n",
        "\n",
        "Before we start you need to download (and then extract) the dataset\n",
        "zip-package used during this lesson [from this\n",
        "link](../files/data/L6/L6.zip).\n",
        "\n",
        "You should have following Shapefiles in the `Data` folder:\n",
        "\n",
        "> -   population_square_km.shp\n",
        "> -   schools_tartu.shp\n",
        "> -   roads.shp\n",
        "\n",
        "``` \n",
        "population_square_km.shp.xml  schools_tartu.cpg\n",
        "population_square_km.shx      schools_tartu.csv\n",
        "roads.cpg                     schools_tartu.dbf\n",
        "roads.dbf                     schools_tartu.prj\n",
        "L6.zip                        roads.prj                     schools_tartu.sbn\n",
        "roads.sbn                     schools_tartu.sbx\n",
        "roads.sbx                     schools_tartu.shp             schools5.csv\n",
        "population_square_km.cpg      roads.shp                     schools_tartu.shp.xml\n",
        "population_square_km.dbf      roads.shp.xml                 schools_tartu.shx\n",
        "population_square_km.prj      roads.shx                     schools_tartu.txt.xml\n",
        "population_square_km.sbn\n",
        "population_square_km.sbx\n",
        "population_square_km.shp\n",
        "```\n",
        "\n",
        "## Static maps in Geopandas\n",
        "\n",
        "We have already seen during the previous lessons quite many examples how\n",
        "to create static maps using Geopandas.\n",
        "\n",
        "Thus, we won't spend too much time repeating making such maps but\n",
        "let's create one with more layers on it.\n",
        "\n",
        "Let's create a static neighbourhood map with roads and schools line on\n",
        "it and population density as a background.\n",
        "\n",
        "First, we need to read the data."
      ]
    },
    {
      "cell_type": "code",
      "metadata": {},
      "source": [
        "import geopandas as gpd\n",
        "import matplotlib.pyplot as plt\n",
        "import os\n",
        "%matplotlib inline\n",
        "\n",
        "# Filepaths\n",
        "folder = \"../files/data/L6\"\n",
        "\n",
        "grid_fp = os.path.join(folder, \"population_square_km.shp\")\n",
        "roads_fp = os.path.join(folder, \"roads.shp\")\n",
        "schools_fp = os.path.join(folder, \"schools_tartu.shp\")\n",
        "\n",
        "# Read files\n",
        "grid = gpd.read_file(grid_fp)\n",
        "roads = gpd.read_file(roads_fp)\n",
        "schools = gpd.read_file(schools_fp)"
      ],
      "execution_count": null,
      "outputs": []
    },
    {
      "cell_type": "markdown",
      "metadata": {},
      "source": [
        "Then, we need to be sure that the files are in the same coordinate\n",
        "system. Let's use the crs of our travel time grid."
      ]
    },
    {
      "cell_type": "code",
      "metadata": {},
      "source": [
        "gridCRS = grid.crs\n",
        "roads['geometry'] = roads['geometry'].to_crs(crs=gridCRS)\n",
        "schools['geometry'] = schools['geometry'].to_crs(crs=gridCRS)"
      ],
      "execution_count": null,
      "outputs": []
    },
    {
      "cell_type": "markdown",
      "metadata": {},
      "source": [
        "Let's check the histgram first:"
      ]
    },
    {
      "cell_type": "code",
      "metadata": {},
      "source": [
        "# Plot\n",
        "grid.hist(column=\"Population\", bins=100)\n",
        "# Add title\n",
        "plt.title(\"Amount of population km2 Tartumaa histogram\")\n",
        "plt.tight_layout()"
      ],
      "execution_count": null,
      "outputs": []
    },
    {
      "cell_type": "markdown",
      "metadata": {},
      "source": [
        "Finally we can make a visualization using the `.plot()` -function in\n",
        "Geopandas. The `.plot()` function takes all the matplotlib parameters\n",
        "where appropriate. For example we can adjust various parameters\n",
        "\n",
        "-   `ax` if used, then can indicate a joint plot axes onto which to\n",
        "    plot, used to plot several times (several layers etc) into the same\n",
        "    plot (using the same axes, i.e. x and y coords)\n",
        "-   `column` which dataframe column to plot\n",
        "-   `linewidth` if feature with an outline, or being a line feature then\n",
        "    line width\n",
        "-   `markersize` size of point/marker element to plot\n",
        "-   `color` colour for the layers/feature to plot\n",
        "-   `cmap` [colormaps (*cmap* -\n",
        "    parameter)](https://matplotlib.org/stable/users/explain/colors/colormaps.html)\n",
        "-   `alpha` transparency 0-1\n",
        "-   `legend` True/False show the legend\n",
        "-   `scheme` one of 3 basic classification schemes (\"quantiles\",\n",
        "    \"equal_interval\", \"fisher_jenks\"), beyond that use PySAL\n",
        "    explicitly\n",
        "-   `k` number of classes for above scheme if used.\n",
        "-   `vmin` indicate a minimal value from the data column to be\n",
        "    considered when plotting (also affects the classification scheme),\n",
        "    can be used to \"normalise\" several plots where the data values\n",
        "    don't aligh exactly\n",
        "-   `vmax` indicate a maximal value from the data column to be\n",
        "    considered when plotting (also affects the classification scheme),\n",
        "    can be used to \"normalise\" several plots where the data values\n",
        "    don't aligh exactly"
      ]
    },
    {
      "cell_type": "code",
      "metadata": {},
      "source": [
        "fig, ax = plt.subplots(figsize=(9, 7))\n",
        "\n",
        "# Visualize the population density into 5 classes using \"Quantiles\" classification scheme\n",
        "# Add also a little bit of transparency with `alpha` parameter\n",
        "# (ranges from 0 to 1 where 0 is fully transparent and 1 has no transparency)\n",
        "grid.plot(column=\"Population\", ax=ax, linewidth=0.03, cmap=\"Reds\", scheme=\"quantiles\", k=5, alpha=0.8, legend=True)\n",
        "\n",
        "# Add roads on top of the grid\n",
        "# (use ax parameter to define the map on top of which the second items are plotted)\n",
        "roads.plot(ax=ax, color=\"grey\", linewidth=1.5)\n",
        "\n",
        "# Add schools on top of the previous map\n",
        "schools.plot(ax=ax, color=\"cyan\", markersize=9.0)\n",
        "\n",
        "# Remove the empty white-space around the axes\n",
        "plt.title(\"population km2 Tartumaa in relation to schools and major roads\")\n",
        "\n",
        "ax.set_ylabel('Northing in EPSG:3301 Estonian grid (metres)')\n",
        "ax.set_xlabel('Easting in EPSG:3301 Estonian grid (metres)')\n",
        "\n",
        "plt.tight_layout()"
      ],
      "execution_count": null,
      "outputs": []
    },
    {
      "cell_type": "markdown",
      "metadata": {},
      "source": [
        "``` python\n",
        "outfp = \"static_map.png\"\n",
        "plt.savefig(outfp, dpi=300)\n",
        "```\n",
        "\n",
        "This kind of approach can be used really effectively to produce large\n",
        "quantities of nice looking maps (*though this example of ours isn't\n",
        "that pretty yet, but it could be*) which is one of the most useful\n",
        "aspects of coding and what makes it so important to learn how to code.\n",
        "\n",
        "## EarthPy DEM and Hillshade raster with normal GeoDataFrame vector data\n",
        "\n",
        "We introduced EarthPy in the lesson about working with raster data.\n",
        "EarthPy also explicitly relies on matplotlib for plotting operations.\n",
        "However, most of EarthPy's practical plotting operations aim at raster\n",
        "data. This adds some neat features on top of rasterio.plot for\n",
        "convenience again.\n",
        "\n",
        "<https://earthpy.readthedocs.io/en/latest/gallery_vignettes/index.html>\n",
        "\n",
        "In this example I demonstrate how to combine raster plots from EarthPy\n",
        "and our standard GeoPandas vector plots:\n",
        "\n",
        "Let's load the DEM via rasterio and start with all the imports."
      ]
    },
    {
      "cell_type": "code",
      "metadata": {},
      "source": [
        "import numpy as np\n",
        "import matplotlib.pyplot as plt\n",
        "import earthpy as et\n",
        "import earthpy.spatial as es\n",
        "import earthpy.plot as ep\n",
        "import rasterio as rio\n",
        "\n",
        "dtm = '../files/data/L5/dem.tif'\n",
        "\n",
        "# Open the DEM with Rasterio\n",
        "src = rio.open(dtm)\n",
        "elevation = src.read(1)"
      ],
      "execution_count": null,
      "outputs": []
    },
    {
      "cell_type": "markdown",
      "metadata": {},
      "source": [
        "Now we load the vector datasets. polygons and points. We will also\n",
        "visualize the point-in-polygon query for the Idaoja subcatchment."
      ]
    },
    {
      "cell_type": "code",
      "metadata": {},
      "source": [
        "import geopandas as gpd\n",
        "\n",
        "catchments = gpd.read_file('../files/data/L5/porijogi_sub_catchments.geojson').to_crs(3301)\n",
        "\n",
        "subcatch = catchments.loc[catchments['NAME_1']=='Idaoja']\n",
        "\n",
        "# protected species under class 3 monitoring sightings\n",
        "species_fp = \"../files/data/L3/category_3_species_porijogi.gpkg\"\n",
        "\n",
        "species_data = gpd.read_file(species_fp, layer='category_3_species_porijogi', driver='GPKG')"
      ],
      "execution_count": null,
      "outputs": []
    },
    {
      "cell_type": "markdown",
      "metadata": {},
      "source": [
        "The actual spatial analysis is now not so scary anymore."
      ]
    },
    {
      "cell_type": "code",
      "metadata": {},
      "source": [
        "pip_mask = species_data.within(subcatch.loc[0, 'geometry'])\n",
        "pip_data = species_data.loc[pip_mask]"
      ],
      "execution_count": null,
      "outputs": []
    },
    {
      "cell_type": "markdown",
      "metadata": {},
      "source": [
        "However, for legends we will plot the elevation colorbar from EarthPy\n",
        "plot, but we should also add information about the observed species\n",
        "records. So we will stitch together a custom legend info:"
      ]
    },
    {
      "cell_type": "code",
      "metadata": {},
      "source": [
        "import matplotlib.patches as mpatches\n",
        "import matplotlib.pyplot as plt\n",
        "import collections\n",
        "\n",
        "patchList = []\n",
        "\n",
        "data_key = mpatches.Patch(color=\"gold\", label=\"Selected Idaoja species\")\n",
        "\n",
        "patchList.append(data_key)"
      ],
      "execution_count": null,
      "outputs": []
    },
    {
      "cell_type": "markdown",
      "metadata": {},
      "source": [
        "For effects, we add the hillshade to the plot. It gives us some nice\n",
        "tactile pattern for the DEM image."
      ]
    },
    {
      "cell_type": "code",
      "metadata": {},
      "source": [
        "hillshade = es.hillshade(elevation)"
      ],
      "execution_count": null,
      "outputs": []
    },
    {
      "cell_type": "markdown",
      "metadata": {},
      "source": [
        "The tricky bit to combine the raster and vector plots here in this\n",
        "example is that they have different spatial extents. They should be in\n",
        "the same CRS anyway, but in order to align the gridded, array-based\n",
        "images with the discrete vector shapes is in providing spatial context.\n",
        "\n",
        "For this we need to provide a tuple/list, that holds minx, maxx, miny\n",
        "and maxy coordinate values like so:"
      ]
    },
    {
      "cell_type": "code",
      "metadata": {},
      "source": [
        "# to define the bounds of the map (important for the raster layers plot)\n",
        "extent = (src.bounds.left, src.bounds.right, src.bounds.bottom, src.bounds.top)"
      ],
      "execution_count": null,
      "outputs": []
    },
    {
      "cell_type": "markdown",
      "metadata": {},
      "source": [
        "Now we can combine these plots nicely together."
      ]
    },
    {
      "cell_type": "code",
      "metadata": {},
      "source": [
        "fig, ax = plt.subplots(figsize=(12,8))\n",
        "\n",
        "ep.plot_bands(elevation, ax=ax, cmap=\"terrain\", extent=extent, title=\"Lidar Digital Elevation Model (DEM)n overlayed on top of a hillshade\" )\n",
        "\n",
        "ep.plot_bands(hillshade, cmap='Greys', extent=extent, ax=ax, alpha=0.3, cbar=None)\n",
        "\n",
        "catchments.plot(ax=ax, facecolor=\"none\", edgecolor='black', lw=0.7)\n",
        "\n",
        "subcatch.plot(ax=ax, facecolor='red', alpha=0.2)\n",
        "\n",
        "pip_data.plot(ax=ax, color='gold', markersize=10, legend=True)\n",
        "\n",
        "plt.legend(handles=patchList, loc='lower center', bbox_to_anchor=(-0.5, -0.1), ncol=1)\n",
        "\n",
        "plt.tight_layout()\n",
        "\n",
        "plt.savefig('DEM_hillshade_etc.png')"
      ],
      "execution_count": null,
      "outputs": []
    },
    {
      "cell_type": "markdown",
      "metadata": {},
      "source": [
        "## Special plots types with Geoplot\n",
        "\n",
        "<https://residentmario.github.io/geoplot/gallery/index.html>\n",
        "\n",
        "::: {.callout-tip}\n",
        "From the website:\n",
        "\n",
        "Geoplot is a high-level Python geospatial plotting library designed for\n",
        "data scientists and geospatial analysts that just want to get things\n",
        "done. It is an extension to cartopy and matplotlib which makes mapping\n",
        "easy.\n",
        ":::\n",
        "\n",
        "Geoplot provides a few handy plot types, that would be very complicated\n",
        "to manually describe in matplotlib. In the following some examples are\n",
        "shown, that use data from earlier lesson.\n",
        "\n",
        "**Using web tile layer as background and mapclassify directly**\n",
        "\n",
        "We want to create a choropleth plot and use one of those shiny web\n",
        "basemaps in a static plot.\n",
        "\n",
        "Then of course we want to provide a reclassified visualisation of our\n",
        "polygon data, in this case the population in administrative units.\n",
        "Let's load the dataset and, again, convert that column into numbers."
      ]
    },
    {
      "cell_type": "code",
      "metadata": {},
      "source": [
        "import geopandas as gpd\n",
        "import matplotlib.pyplot as plt\n",
        "import pandas as pd\n",
        "\n",
        "fp = \"../files/data/L4/population_admin_units.shp\"\n",
        "\n",
        "acc = gpd.read_file(fp)\n",
        "acc['pop_int'] = acc['population'].apply(pd.to_numeric, errors='coerce').dropna()\n",
        "acc_wgs84 = acc.to_crs(4326)"
      ],
      "execution_count": null,
      "outputs": []
    },
    {
      "cell_type": "markdown",
      "metadata": {},
      "source": [
        "Now let's import a couple useful helpers here and get going with\n",
        "Geoplot, which ties these things nicely together:\n",
        "\n",
        "For te background layr we can use a small package, named *contextily*\n",
        "that provides that functionaly. For the classification we use of course\n",
        "mapclassify.\n",
        "\n",
        "<https://contextily.readthedocs.io/en/latest/>"
      ]
    },
    {
      "cell_type": "code",
      "metadata": {},
      "source": [
        "import geoplot as gplt\n",
        "import geoplot.crs as gcrs\n",
        "\n",
        "import mapclassify as mc\n",
        "\n",
        "import contextily as ctx"
      ],
      "execution_count": null,
      "outputs": []
    },
    {
      "cell_type": "markdown",
      "metadata": {},
      "source": [
        "The Geoplot library works a bit different in that way, that it takes\n",
        "over the axes object. We sort of have to pass it around downstream:"
      ]
    },
    {
      "cell_type": "code",
      "metadata": {},
      "source": [
        "# receive the **ax** object from a ``geoplot gplt.*`` function\n",
        "ax = gplt.webmap(df=acc_wgs84, projection=gcrs.WebMercator(), zoom=8, provider=ctx.providers.CartoDB.Positron, figsize=(10,8))\n",
        "\n",
        "# create classifier\n",
        "scheme = mc.FisherJenks(acc_wgs84[['pop_int']], k=5)\n",
        "\n",
        "# create choropleth plot, inserting the classifieras scheme and the ax object like we are used to\n",
        "gplt.choropleth(\n",
        "    acc_wgs84, hue='pop_int', projection=gcrs.WebMercator(),\n",
        "    edgecolor='white', linewidth=1, alpha=0.7,\n",
        "    cmap='viridis', legend=True,\n",
        "    ax=ax,\n",
        "    scheme=scheme\n",
        ")\n",
        "\n",
        "# set a title\n",
        "plt.title(\"Population per municipality\", fontsize=20)"
      ],
      "execution_count": null,
      "outputs": []
    },
    {
      "cell_type": "markdown",
      "metadata": {},
      "source": [
        "**GeoPlot cartogram, using a variable as scale for size of polygon**\n",
        "\n",
        "I'd like to demonstrate the cartographic method of a **cartogram**.\n",
        "\n",
        "A cartogram distorts (grows or shrinks) polygons on a map according to\n",
        "the magnitude of some input data. A basic cartogram specifies data, a\n",
        "projection, and a scale parameter.\n",
        "\n",
        "<https://residentmario.github.io/geoplot/api_reference.html>\n",
        "\n",
        "Here I also show, that you can have a dark background, is a option to\n",
        "set in matplotlib. STrong colors and contrasts work well on a dark\n",
        "background."
      ]
    },
    {
      "cell_type": "code",
      "metadata": {},
      "source": [
        "# set dark background for matplotlib-based plots\n",
        "plt.style.use('dark_background')\n",
        "\n",
        "# again, we need to take the ax object with us to the next plot\n",
        "# we also reuse the scheme mc classifier\n",
        "# hue tells from which column to take the value\n",
        "ax = gplt.cartogram(\n",
        "    acc_wgs84, scale='pop_int', projection=gcrs.AlbersEqualArea(),\n",
        "    legend=True, legend_kwargs={'bbox_to_anchor': (1, 0.9)}, legend_var='hue',\n",
        "    hue='pop_int',\n",
        "    scheme=scheme,\n",
        "    cmap='viridis',\n",
        "    limits=(0.5, 1),\n",
        "    figsize=(15,12)\n",
        ")\n",
        "# for comparison we also plot the original size boundaries\n",
        "gplt.polyplot(acc_wgs84, facecolor='white', edgecolor='white', alpha=0.8, ax=ax)\n",
        "\n",
        "plt.title(\"Population per municipality as cartogram\", fontsize=20)"
      ],
      "execution_count": null,
      "outputs": []
    },
    {
      "cell_type": "markdown",
      "metadata": {},
      "source": [
        "**GeoPlot making a static KDE plot as contour or filled**\n",
        "\n",
        "Geoplot provides a variety of practical use-case-based plot types. The\n",
        "last one I'd like to show here is the KDEplot.\n",
        "\n",
        "Kernel density estimation (KDE) is a technique that non-parameterically\n",
        "estimates a distribution function for a sample of point observations. It\n",
        "is not a heatmap as such, as we don't scale based on parameter values\n",
        "from the point data, but only the number of points close together. KDEs\n",
        "are a popular tool for analyzing data distributions.\n",
        "\n",
        "A basic kdeplot takes pointwise data as input. For spatial context,\n",
        "let's also plot an underlying basemap. For completeness we also set\n",
        "title and save the plot.\n",
        "\n",
        "<https://residentmario.github.io/geoplot/api_reference.html>"
      ]
    },
    {
      "cell_type": "code",
      "metadata": {},
      "source": [
        "# reset the background to default / white again\n",
        "plt.style.use('default')"
      ],
      "execution_count": null,
      "outputs": []
    },
    {
      "cell_type": "markdown",
      "metadata": {},
      "source": [
        "The underlying webmap plot function has a few limitations, for example\n",
        "that it interpretes geomtries as WGS84 rto calculate extent etc. Also,\n",
        "the webmap only plots tiles in WebMercator projection. So we reproject\n",
        "the data to WGS84."
      ]
    },
    {
      "cell_type": "code",
      "metadata": {},
      "source": [
        "c4 = catchments.to_crs(4326)\n",
        "s4 = species_data.to_crs(4326)"
      ],
      "execution_count": null,
      "outputs": []
    },
    {
      "cell_type": "markdown",
      "metadata": {},
      "source": [
        "Now we build up the whole plot example. We can initialize our matplotlib\n",
        "*plt* handle, but not the *ax* object. As you see, we have to take the\n",
        "*ax* object from each function and pass it to the next. With the *plt*\n",
        "handle we have the context to save the image to a file."
      ]
    },
    {
      "cell_type": "code",
      "metadata": {},
      "source": [
        "fig = plt.figure()\n",
        "\n",
        "proj = gcrs.WebMercator()\n",
        "\n",
        "ax = gplt.webmap(df=gpd.overlay(c4, s4, how='union'), projection=proj, zoom=10, provider=ctx.providers.Stamen.Toner, figsize=(15,12))\n",
        "\n",
        "ax = gplt.pointplot(s4, projection=proj, color='green', edgecolor='white',  linewidth=0.5, alpha=0.8, ax=ax)\n",
        "\n",
        "ax = gplt.kdeplot(s4, projection=proj, cmap='YlOrRd', shade=False, linewidths=5, alpha=0.7, ax=ax)\n",
        "\n",
        "ax.set_title(\"Distribution of recorded specimen in south Tartu county\", fontsize=18)\n",
        "\n",
        "plt.savefig(\"species-kde.png\", bbox_inches='tight')"
      ],
      "execution_count": null,
      "outputs": []
    },
    {
      "cell_type": "markdown",
      "metadata": {},
      "source": [
        "The KDEplot function provides a *shade* parameter, that allows us to\n",
        "switch between contour lines and filled contours."
      ]
    },
    {
      "cell_type": "code",
      "metadata": {},
      "source": [
        "proj = gcrs.AlbersEqualArea()\n",
        "\n",
        "ax = gplt.pointplot(s4, projection=proj, color='green', edgecolor='white',  linewidth=0.5, alpha=0.8, figsize=(15,12))\n",
        "\n",
        "ax = gplt.polyplot(c4, projection=proj, edgecolor='black',  linewidth=2, alpha=0.7, ax=ax)\n",
        "\n",
        "ax = gplt.kdeplot(s4, projection=proj, cmap='YlOrRd', shade=True, alpha=0.7, ax=ax)"
      ],
      "execution_count": null,
      "outputs": []
    },
    {
      "cell_type": "markdown",
      "metadata": {},
      "source": [
        "::: todo\n",
        "**Task:**\n",
        "\n",
        "> Try to change your plotting parameters, colors and colormaps and see\n",
        "> how your results change! Change the order of plotting the layers and\n",
        "> vector plotting criteria and see how they change the results.\n",
        ":::\n",
        "\n",
        "\n",
        "**Download the notebook:**\n",
        "\n",
        "[file:static-maps.ipynb](../files/data/L6/static-maps.ipynb)\n",
        "\n",
        "**Launch in the web/MyBinder:**\n",
        "\n",
        "[![](../files/img/colab-badge.svg)](https://colab.research.google.com/github/LandscapeGeoinformatics/geopy-2023/blob/main/L6/static-maps.ipynb){target=\"blank\"}\n",
        "\n",
        "[![image](https://mybinder.org/badge_logo.svg)](https://mybinder.org/v2/gh/allixender/testgeo2020b/master?filepath=L6%2Fstatic-maps.ipynb)"
      ]
    }
  ],
  "metadata": {
    "kernelspec": {
      "name": "python3",
      "language": "python",
      "display_name": "Python 3 (ipykernel)"
    }
  },
  "nbformat": 4,
  "nbformat_minor": 4
}