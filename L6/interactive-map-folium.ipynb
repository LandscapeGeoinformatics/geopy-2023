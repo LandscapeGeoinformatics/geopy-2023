{
  "cells": [
    {
      "cell_type": "markdown",
      "metadata": {},
      "source": [
        "# Interactive maps on Leaflet\n",
        "\n",
        "Whenever you go into a website that has some kind of interactive map, it\n",
        "is quite probable that you are wittnessing a map that has been made with\n",
        "a JavaScipt library called [Leaflet](http://leafletjs.com/) (the other\n",
        "popular one that you might have wittnessed is called\n",
        "[OpenLayers](https://openlayers.org/)).\n",
        "\n",
        "There is also a Python module called\n",
        "[Folium](https://python-visualization.github.io/folium/) that makes it\n",
        "possible visualize data that's been manipulated in Python on an\n",
        "interactive Leaflet map.\n",
        "\n",
        "::: {.callout}\n",
        "\n",
        "The Folium Python package creates a Leaflet JavaScript webmap. In the\n",
        "document here, several of these Leaflet maps were live generated. Having\n",
        "several JavaScript interactions from Leaflet might cause some maps to\n",
        "not show correctly. This is a known issue, but for the sake of\n",
        "reproducible code listed for your learning experience we take this\n",
        "disadvantage :-)\n",
        ":::\n",
        "\n",
        "## Creating a simple interactive web-map\n",
        "\n",
        "Let's first see how we can do a simple interactive web-map without any\n",
        "data on it. We just visualize OpenStreetMap on a specific location of\n",
        "the a world.\n",
        "\n",
        "First thing that we need to do is to create a Map instance. There are\n",
        "few parameters that we can use to adjust how in our Map instance that\n",
        "will affect how the background map will look like. We should already be\n",
        "able to see what our map looks like. More details can be found in\n",
        "[module API\n",
        "documentation](https://python-visualization.github.io/folium/modules.html)."
      ]
    },
    {
      "cell_type": "code",
      "metadata": {},
      "source": [
        "import folium\n",
        "\n",
        "# Create a Map instance\n",
        "m = folium.Map(location=[58.37, 26.72], zoom_start=11, control_scale=True, prefer_canvas=True, width=600, height=400)"
      ],
      "execution_count": null,
      "outputs": []
    },
    {
      "cell_type": "markdown",
      "metadata": {},
      "source": [
        "The first parameter `location` takes a pair of lat, lon values as list\n",
        "as an input which will determine where the map will be positioned when\n",
        "user opens up the map. `zoom_start` -parameter adjusts the default\n",
        "zoom-level for the map (the higher the number the closer the zoom is).\n",
        "`control_scale` defines if map should have a scalebar or not.\n",
        "\n",
        "Now we can check how it looks, by either displaying it directly in the\n",
        "Jupyter Notebook:\n",
        "\n",
        "``` python\n",
        "# To display it in a Jupyter notebook, simply ask for the object representation\n",
        "m\n",
        "```\n",
        "\n",
        "or explicitly with the `display()` function:\n"
      ]
    },
    {
      "cell_type": "code",
      "metadata": {},
      "source": [
        "display(m)"
      ],
      "execution_count": null,
      "outputs": []
    },
    {
      "cell_type": "markdown",
      "metadata": {},
      "source": [
        "You can also save it into a html file which we can open in the browser:"
      ]
    },
    {
      "cell_type": "code",
      "metadata": {},
      "source": [
        "# Filepath to the output \n",
        "outfp = \"../files/data/L6/folium_base_map.html\"\n",
        "\n",
        "# Save the map\n",
        "m.save(outfp)"
      ],
      "execution_count": null,
      "outputs": []
    },
    {
      "cell_type": "markdown",
      "metadata": {},
      "source": [
        "It will now just show the basemap in such a way that we initialized it.\n",
        "\n",
        "Take a look at the map by clicking it with right mouse and open it with\n",
        "Google Chrome which then opens it up in a web browser.\n",
        "\n",
        "Let's change the basemap style to `CartoDB Positron` and change the\n",
        "location of our map slightly. The `tiles` -parameter is used for\n",
        "changing the background map provider and map style (see here for all\n",
        "possible ones)."
      ]
    },
    {
      "cell_type": "code",
      "metadata": {},
      "source": [
        "# Let's change the basemap style to 'Stamen Toner'\n",
        "m = folium.Map(location=[58.37, 26.72], tiles=\"cartodb positron\" ,\n",
        "    zoom_start=11, control_scale=True, prefer_canvas=True, width=600,\n",
        "    height=400)\n",
        "\n",
        "display(m)"
      ],
      "execution_count": null,
      "outputs": []
    },
    {
      "cell_type": "markdown",
      "metadata": {},
      "source": [
        "::: {.callout-tip}\n",
        "Task\n",
        "\n",
        "Play around with the parameters and save the map and see how those\n",
        "changes affect the look of the map.\n",
        ":::\n",
        "\n",
        "## Adding layers to the map\n",
        "\n",
        "Adding layers to a web-map is fairly straightforward with Folium and\n",
        "similar procedure as with Bokeh and we can use familiar tools to handle\n",
        "the data, i.e. Geopandas. Our ultimate aim is to create a plot like this\n",
        "where population in Tartumaa, road network and the schools are plotted\n",
        "on top of a web-map.\n",
        "\n",
        "First we need to prepare the data."
      ]
    },
    {
      "cell_type": "code",
      "metadata": {},
      "source": [
        "import geopandas as gpd\n",
        "from shapely.geometry import LineString, MultiLineString\n",
        "import os\n",
        "\n",
        "# Filepaths\n",
        "folder = \"../files/data/L6\"\n",
        "\n",
        "grid_fp = os.path.join(folder, \"population_square_km.shp\")\n",
        "roads_fp = os.path.join(folder, \"roads.shp\")\n",
        "schools_fp = os.path.join(folder, \"schools_tartu.shp\")\n",
        "\n",
        "# Read files\n",
        "grid = gpd.read_file(grid_fp)\n",
        "roads = gpd.read_file(roads_fp)\n",
        "schools = gpd.read_file(schools_fp)\n",
        "\n",
        "# Re-project to WGS84, Folium requires all data to be in WGS84\n",
        "grid = grid.to_crs(epsg=4326)\n",
        "roads = roads.to_crs(epsg=4326)\n",
        "schools = schools.to_crs(epsg=4326)\n",
        "\n",
        "# Make a selection (only data above 0 and below 1000)\n",
        "grid = grid.loc[(grid['Population'] > 0)]\n",
        "\n",
        "# Create a Geo-id which is needed by the Folium\n",
        "# (it needs to have a unique identifier for each row)\n",
        "grid['geoid'] = grid.index.astype(str)\n",
        "roads['geoid'] = roads.index.astype(str)\n",
        "schools['geoid'] = schools.index.astype(str)\n",
        "\n",
        "# Select data\n",
        "grid = grid[['geoid', 'Population', 'geometry']]\n",
        "roads = roads[['geoid', 'TYYP', 'geometry']]\n",
        "schools = schools[['geoid', 'name', 'geometry']]\n",
        "\n",
        "# convert the dataframe to geojson\n",
        "grid_jsontxt = grid.to_json()\n",
        "roads_jsontxt = roads.to_json()\n",
        "schools_jsontxt = schools.to_json()"
      ],
      "execution_count": null,
      "outputs": []
    },
    {
      "cell_type": "markdown",
      "metadata": {},
      "source": [
        "Now we have our data stored in the `grid_jsontxt` etc. variables as\n",
        "GeoJSON format which basically contains the data as text in a similar\n",
        "way that it would be written in a `.geojson` -file.\n",
        "\n",
        "Now we can start visualizing our data with Folium."
      ]
    },
    {
      "cell_type": "code",
      "metadata": {},
      "source": [
        "m = folium.Map(location=[58.37, 26.72], zoom_start=11, \n",
        "               control_scale=True, prefer_canvas=True, width=600, height=400)\n",
        "\n",
        "folium.GeoJson(grid_jsontxt).add_to(m)\n",
        "folium.GeoJson(roads_jsontxt).add_to(m)\n",
        "folium.GeoJson(schools_jsontxt).add_to(m)\n",
        "\n",
        "display(m)"
      ],
      "execution_count": null,
      "outputs": []
    },
    {
      "cell_type": "markdown",
      "metadata": {},
      "source": [
        "Let's again save the file:"
      ]
    },
    {
      "cell_type": "code",
      "metadata": {},
      "source": [
        "# Filepath to the output\n",
        "outfp = \"../files/data/L6/folium_geojson_plain.html\"\n",
        "\n",
        "# Save the map\n",
        "m.save(outfp)"
      ],
      "execution_count": null,
      "outputs": []
    },
    {
      "cell_type": "markdown",
      "metadata": {},
      "source": [
        "While we can see the geometries, shapes etc, it is not really a helpful\n",
        "map. The roads are barely visible, and the school point markers are\n",
        "fancy, but there are too many on top of each other.\n",
        "\n",
        "So let's prepare our visualisation step by step. At first we want to\n",
        "make a choropleth map. You remember, the classic map with coloured\n",
        "polygons based on an attribute value.\n",
        "\n",
        "There are some example Folium notebooks provided by the developers, e.g.\n",
        "for\n",
        "[Colormaps:](https://nbviewer.org/github/python-visualization/folium/tree/main/examples/Colormaps.ipynb)"
      ]
    },
    {
      "cell_type": "code",
      "metadata": {},
      "source": [
        "# create a default tiles base map\n",
        "m = folium.Map(location=[58.37, 26.72],\n",
        "               zoom_start=8, control_scale=True,\n",
        "               prefer_canvas=True, width=600, height=400)\n",
        "\n",
        "# Create Choropleth map from the polygons where the colors are coming from a column \"Population\"\n",
        "# Notice: the 'geoid' column that we created earlier needs to be assigned always as the first column\n",
        "\n",
        "# create a basic choropleth map, just polygons with some style information\n",
        "\n",
        "folium.Choropleth( geo_data=grid_jsontxt, fill_color='red', fill_opacity=0.3, line_weight=1, ).add_to(m)\n",
        "\n",
        "folium.LayerControl(collapsed=True).add_to(m)\n",
        "\n",
        "display(m)"
      ],
      "execution_count": null,
      "outputs": []
    },
    {
      "cell_type": "markdown",
      "metadata": {},
      "source": [
        "And in order to save the file:"
      ]
    },
    {
      "cell_type": "code",
      "metadata": {},
      "source": [
        "# Filepath to the output\n",
        "outfp = \"../files/data/L6/folium_choropleth_plain.html\"\n",
        "\n",
        "# Save the map\n",
        "m.save(outfp)"
      ],
      "execution_count": null,
      "outputs": []
    },
    {
      "cell_type": "markdown",
      "metadata": {},
      "source": [
        "Lets take it a bit further, by classifiying the population column again\n",
        "with Natural Breaks from PySAL. Create Choropleth map where the colors\n",
        "are now related to the column \"pop_km2\".\n",
        "\n",
        "Notice, we also need the 'geoid' column that we created earlier. And\n",
        "it needs to be assigned always as the first column. And we are adding a\n",
        "LayerControl widget to the map, so we can activate/deactivate layers.\n",
        "\n",
        "For more infoprmation and configuration examples, you can check [Folium\n",
        "GeoJSON and Choropleth examples\n",
        "here](https://nbviewer.jupyter.org/github/python-visualization/folium/blob/master/examples/GeoJSON_and_choropleth.ipynb)."
      ]
    },
    {
      "cell_type": "code",
      "metadata": {},
      "source": [
        "import mapclassify as mc\n",
        "\n",
        "# Initialize the classifier and apply it\n",
        "classifier = mc.NaturalBreaks.make(k=5)\n",
        "\n",
        "grid['pop_km2'] = grid[['Population']].apply(classifier)\n",
        "\n",
        "m = folium.Map(location=[58.37, 26.72], tiles='OpenStreetMap',\n",
        "               zoom_start=8, control_scale=True,\n",
        "               prefer_canvas=True, width=600, height=400)\n",
        "\n",
        "folium.Choropleth( geo_data=grid_jsontxt, data=grid, columns=['geoid', 'pop_km2'], \n",
        "                  key_on=\"feature.id\", fill_opacity=0.5, line_opacity=0.2,\n",
        "                  line_color='white', line_weight=0,\n",
        "                  legend_name='Population classified Natural Breaks in Tartu',\n",
        "                  name='Population Grid', highlight=False, fill_color='RdBu' ).add_to(m)\n",
        "\n",
        "# and we are adding a LayerControl widget to the map, so we can\n",
        "# activate/deactivate the layer\n",
        "folium.LayerControl(collapsed=True).add_to(m)\n",
        "\n",
        "display(m)"
      ],
      "execution_count": null,
      "outputs": []
    },
    {
      "cell_type": "markdown",
      "metadata": {},
      "source": [
        "Now, we prepare the road lines:"
      ]
    },
    {
      "cell_type": "code",
      "metadata": {},
      "source": [
        "# define the function to extract the linestring coordinates\n",
        "def getLinesAsPointList(row, geom):\n",
        "    \"\"\"Returns a list of coordinate pair \n",
        "    tuples for the line ('lat', 'lon') of a LineString geometry\n",
        "    \"\"\"\n",
        "    if isinstance(row[geom], MultiLineString):\n",
        "        # lets ignore multiline strings for now\n",
        "        return []\n",
        "    else:\n",
        "        list_x = list(row[geom].coords.xy[0])\n",
        "        list_y = list(row[geom].coords.xy[1])\n",
        "        # we need lat lon order for the folium map!\n",
        "        return list(zip(list_y, list_x))"
      ],
      "execution_count": null,
      "outputs": []
    },
    {
      "cell_type": "code",
      "metadata": {},
      "source": [
        "# Calculate x and y coordinates of the line\n",
        "roads['points_list'] = roads.apply(getLinesAsPointList, geom='geometry', axis=1)\n",
        "\n",
        "# list of lat lon coordinate pair tuples\n",
        "# roadpoints = [a for a in roads['points_list'].tolist() if len(a) >=2 ]\n",
        "\n",
        "roadpoints = []\n",
        "\n",
        "for a in roads['points_list'].tolist():\n",
        "    if len(a) >=2:\n",
        "        roadpoints.append(a)\n",
        "\n",
        "m = folium.Map(location=[58.37, 26.72],\n",
        "               tiles='OpenStreetMap', zoom_start=8, control_scale=True,\n",
        "               prefer_canvas=True, width=600, height=400)\n",
        "\n",
        "for road in roadpoints:\n",
        "    folium.PolyLine(locations=road, color=\"red\", weight=2.5, opacity=1).add_to(m)"
      ],
      "execution_count": null,
      "outputs": []
    },
    {
      "cell_type": "markdown",
      "metadata": {},
      "source": [
        "``` python\n",
        "# To display it in a Jupyter notebook, simply ask for the object representation\n",
        "m\n",
        "```\n",
        "\n",
        "And finally let's see how we can put points on a map with a bit more\n",
        "control:"
      ]
    },
    {
      "cell_type": "code",
      "metadata": {},
      "source": [
        "# define the function to extract the linestring coordinates\n",
        "from shapely.geometry import Point\n",
        "\n",
        "def getPoints(row, geom):\n",
        "    \"\"\"Returns coordinate pair tuples for the point ('lat', 'lon') of a Point geometry\"\"\"\n",
        "    if isinstance(row[geom], Point):\n",
        "        # we need lat lon order for the folium map!!!\n",
        "        return (row[geom].y, row[geom].x)\n",
        "    else:\n",
        "        return ()"
      ],
      "execution_count": null,
      "outputs": []
    },
    {
      "cell_type": "markdown",
      "metadata": {},
      "source": [
        "Then we create a fresh new map instance and add the schools\n",
        "programmatically:"
      ]
    },
    {
      "cell_type": "code",
      "metadata": {},
      "source": [
        "m = folium.Map(location=[58.37, 26.72], tiles='Cartodb dark_matter',\n",
        "               zoom_start=8, control_scale=True,\n",
        "               prefer_canvas=True, width=600, height=400)\n",
        "\n",
        "# Calculate x and y coordinates of the line\n",
        "schools['points_tuple'] = schools.apply(getPoints, geom='geometry', axis=1)\n",
        "\n",
        "for idx, school in schools.iterrows():\n",
        "    folium.CircleMarker(location=school['points_tuple'], \n",
        "                        popup=school['name'], color=\"yellow\", radius=2.5, opacity=0.9).add_to(m)"
      ],
      "execution_count": null,
      "outputs": []
    },
    {
      "cell_type": "markdown",
      "metadata": {},
      "source": [
        "``` python\n",
        "display(m)\n",
        "\n",
        "# Filepath to the output\n",
        "outfp = \"../files/data/L6/folium_better_circle.html\"\n",
        "\n",
        "# Save the map\n",
        "m.save(outfp)\n",
        "```\n",
        "\n",
        "This works ok. But now let's try something new to reduce the clutter of\n",
        "many points. For this we add a \"clustering\" functionality, so that you\n",
        "see how many points are in an area, without seeing each point. When you\n",
        "zoom in, this display adapts and shows more spatial details. This way\n",
        "you can provide summary overviews and drill down to each point when\n",
        "desired."
      ]
    },
    {
      "cell_type": "code",
      "metadata": {},
      "source": [
        "from folium.plugins import MarkerCluster\n",
        "\n",
        "# Get lat and lon of points\n",
        "latlon = [[tup[0], tup[1]] for tup in schools['points_tuple'].tolist()]\n",
        "\n",
        "m = folium.Map(location=[58.37, 26.72],\n",
        "               tiles='OpenStreetMap', zoom_start=8, control_scale=True,\n",
        "               prefer_canvas=True, width=600, height=400)\n",
        "\n",
        "# This function creates clusters for the points that are in the same area\n",
        "# and then places them on the map\n",
        "MarkerCluster(locations=latlon, fill_color='#2b8cbe',\n",
        "              name=\"Schools\", number_of_sides=6, radius=6).add_to(m)\n",
        "\n",
        "# we also add a layer control to handle the clustered points as a\n",
        "# single layer.\n",
        "folium.LayerControl().add_to(m)\n",
        "\n",
        "display(m)"
      ],
      "execution_count": null,
      "outputs": []
    },
    {
      "cell_type": "markdown",
      "metadata": {},
      "source": [
        "We can also visualise dense point concentrations on a map with a\n",
        "heatmap. Folium provides [various plugins for extended\n",
        "functionality](https://python-visualization.github.io/folium/plugins.html)"
      ]
    },
    {
      "cell_type": "code",
      "metadata": {},
      "source": [
        "from folium.plugins import HeatMap\n",
        "import numpy as np\n",
        "\n",
        "# you can use weights for the heatmap,\n",
        "# in order to make points more important.\n",
        "# To demonstrate I use random values, though.\n",
        "random_weights = np.random.randint(low=1, high=10, size=len(schools))\n",
        "\n",
        "# we add lat, lon, and also weights, into each data point tuple\n",
        "heat_data = []\n",
        "\n",
        "# Get lat and lon of points, you can do that with or without weights\n",
        "for idx, row in schools.iterrows():\n",
        "    tup = row['points_tuple']\n",
        "    elem = [tup[0], tup[1], int(random_weights[idx])]\n",
        "    heat_data.append(elem)\n",
        "\n",
        "# create the base map\n",
        "m = folium.Map(location=[58.37, 26.72], tiles='OpenStreetMap',\n",
        "               zoom_start=8, control_scale=True,\n",
        "               prefer_canvas=True, width=600, height=400)\n",
        "\n",
        "# This function creates the heatmap based on the points and weights\n",
        "# that are in close area and then places them on the map\n",
        "HeatMap(data=heat_data, name=\"schools density\", min_opacity=0.5,\n",
        "        max_zoom=18, max_val=1.0, radius=25, blur=15, overlay=True,\n",
        "        control=True).add_to(m)\n",
        "\n",
        "# and we add the layer control\n",
        "folium.LayerControl().add_to(m)\n",
        "\n",
        "display(m)"
      ],
      "execution_count": null,
      "outputs": []
    },
    {
      "cell_type": "markdown",
      "metadata": {},
      "source": [
        "For mor edetailed API information, [consult the\n",
        "docs](https://python-visualization.github.io/folium/plugins.html#folium.plugins.HeatMap).\n",
        "\n",
        "And now we can put it all together in one map:"
      ]
    },
    {
      "cell_type": "code",
      "metadata": {},
      "source": [
        "# basemap\n",
        "m = folium.Map(location=[58.37, 26.72], tiles='OpenStreetMap',\n",
        "               zoom_start=8, control_scale=True, prefer_canvas=True,\n",
        "               width=600, height=400)\n",
        "\n",
        "# coloured polygon layer\n",
        "folium.Choropleth( geo_data=grid_jsontxt,\n",
        "                  data=grid, columns=['geoid', 'pop_km2'], key_on=\"feature.id\",\n",
        "                  fill_color='RdBu', fill_opacity=0.5, line_opacity=0.2,\n",
        "                  line_color='white', line_weight=0,\n",
        "                  legend_name='Population in Tartu',\n",
        "                  name='Population Grid', highlight=False ).add_to(m)\n",
        "\n",
        "# heatmap layer\n",
        "HeatMap(data=heat_data, name=\"schools density\",\n",
        "        min_opacity=0.5, max_zoom=18, max_val=1.0, radius=25, blur=15,\n",
        "        overlay=True, control=True).add_to(m)\n",
        "\n",
        "# initalise a road layer holding object\n",
        "roads_layer = folium.FeatureGroup(name=\"roads layer\")\n",
        "\n",
        "# add the roads to the intermediate layer object, and not directly to the map\n",
        "# for road in roadpoints:\n",
        "folium.PolyLine(locations=road, color=\"grey\", weight=2.5, opacity=1).add_to(roads_layer)\n",
        "\n",
        "# then we add the roads layer to the map\n",
        "roads_layer.add_to(m)\n",
        "\n",
        "# This function creates clusters for the points that are in the same area\n",
        "marker_cluster = MarkerCluster(name=\"Schools marker cluster\", number_of_sides=6, radius=6)\n",
        "\n",
        "# and then places them in the marker cluster\n",
        "for idx, school in schools.iterrows():\n",
        "    folium.Marker(location=school['points_tuple'], popup=school['name'], color=\"yellow\", radius=5,\n",
        "                  opacity=0.9).add_to(marker_cluster)\n",
        "\n",
        "# and add the marker cluster to the map\n",
        "marker_cluster.add_to(m)\n",
        "\n",
        "# create another layer object for the circle markers\n",
        "circles_layer = folium.FeatureGroup(name=\"circles layer\")\n",
        "\n",
        "# the yellow school circles as reference\n",
        "for idx, school in schools.iterrows():\n",
        "    folium.CircleMarker(location=school['points_tuple'],\n",
        "                        popup=school['name'], color=\"yellow\", radius=2.5,\n",
        "                        opacity=0.9).add_to(circles_layer)\n",
        "\n",
        "# and add the circle layer to the map\n",
        "circles_layer.add_to(m)\n",
        "\n",
        "# add the layer control switch, which can now control the separate\n",
        "# layer holding objects for the single points and roads\n",
        "folium.LayerControl().add_to(m)"
      ],
      "execution_count": null,
      "outputs": []
    },
    {
      "cell_type": "markdown",
      "metadata": {},
      "source": [
        "That's it! Now we have a cool interactive map with markers, clustered\n",
        "markers, roads, a heatmap and a choropleth grid showing the population\n",
        "in the Tartumaa Region on top of a basemap. You can save it and open it\n",
        "with your browser and see the result."
      ]
    },
    {
      "cell_type": "code",
      "metadata": {},
      "source": [
        "display(m)"
      ],
      "execution_count": null,
      "outputs": []
    },
    {
      "cell_type": "markdown",
      "metadata": {},
      "source": [
        "And save the file:"
      ]
    },
    {
      "cell_type": "code",
      "metadata": {},
      "source": [
        "# Filepath to the output\n",
        "outfp = \"../files/data/L6/folium_full_map.html\"\n",
        "\n",
        "# Save the map\n",
        "m.save(outfp)"
      ],
      "execution_count": null,
      "outputs": []
    },
    {
      "cell_type": "markdown",
      "metadata": {},
      "source": [
        "For more example notebooks check the [GitHub notebook\n",
        "examples:](https://nbviewer.org/github/python-visualization/folium/tree/main/examples/)\n",
        "\n",
        "**Download the notebook:**\n",
        "\n",
        "[file:interactive-map-folium.ipynb](../files/data/L6/interactive-map-folium.ipynb)\n",
        "\n",
        "**Launch in the web/MyBinder:**\n",
        "\n",
        "[![](../files/img/colab-badge.svg)](https://colab.research.google.com/github/LandscapeGeoinformatics/geopy-2023/blob/main/L6/interactive-map-folium.ipynb){target=\"blank\"}\n",
        "\n",
        "[![image](https://mybinder.org/badge_logo.svg)](https://mybinder.org/v2/gh/allixender/testgeo2020b/master?filepath=L6%2Finteractive-map-folium.ipynb)\n"
      ]
    }
  ],
  "metadata": {
    "kernelspec": {
      "name": "python3",
      "language": "python",
      "display_name": "Python 3 (ipykernel)"
    }
  },
  "nbformat": 4,
  "nbformat_minor": 4
}