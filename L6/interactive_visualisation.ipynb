{
  "cells": [
    {
      "cell_type": "markdown",
      "metadata": {},
      "source": [
        "# Introduction to Interactive Dashboards with Panel\n",
        "\n",
        "Panel is an open-source Python library that enables users to create custom interactive web apps and dashboards using their existing data-processing environments. Unlike many dashboarding tools, Panel is built to integrate seamlessly with the PyData ecosystem, meaning it works naturally with tools like pandas, Matplotlib, Holoviews, and even geospatial libraries. With a wide variety of built-in widgets, layouts, and themes, Panel offers a high degree of customization while maintaining Python-centric workflows. Its ability to produce both standalone apps and embeddable components for existing web applications makes it highly versatile for both data scientists and developers aiming for rich, interactive visualizations and analytics.\n",
        "\n",
        "## Why use Panel?\n",
        "\n",
        "Panel offers a suite of unique advantages when it comes to crafting interactive dashboards:\n",
        "\n",
        "- **Pythonic Integration**: No need to juggle between languages. Design, script, and visualize all within your Python environment.\n",
        "  \n",
        "- **Holoviz Ecosystem**: Being a part of the Holoviz family, Panel works effortlessly with other libraries like Holoviews, Datashader, and Param, ensuring a cohesive data visualization experience.\n",
        "  \n",
        "- **Versatility**: Whether you're aiming for a quick prototype or a production-ready application, Panel has you covered. It supports both notebook-based development for rapid iteration and standalone deployment for broader access.\n",
        "  \n",
        "- **Extensibility**: Panel isn't limited to its built-in widgets. If needed, it can be extended with custom JavaScript, ensuring that you're never boxed in by limitations.\n",
        "  \n",
        "- **Rich Widget Collection**: From sliders to color pickers, Panel's comprehensive widget suite allows for intricate user interactivity without demanding extensive coding.\n",
        "\n",
        "- **Seamless Deployment**: Once your dashboard is ready, Panel supports various deployment options, including Jupyter, standalone servers, and even embedding in larger web applications.\n",
        "\n",
        "Choosing Panel streamlines the dashboard development process, ensuring a smooth transition from data processing to interactive visualization, all within the Python landscape.\n",
        "\n",
        "## Comparison with other dashboarding tools\n",
        "\n",
        "- [ACM SIG KDD 2022 Conference Holoviz & Panel Tutorial](https://holoviz-community.github.io/HoloViz_KDD2022/#outline)\n",
        "- [Python Dashboarding Landscape: Plotly Dash, Panel, Voila, and Streamlit](https://anaconda.cloud/dashboardlandscape)\n",
        "- [Quansight: Dash, Voila, Panel, & Streamlit - Our Thoughts on the Big Four Dashboarding Tools](https://quansight.com/post/dash-voila-panel-streamlit-our-thoughts-on-the-big-four-dashboarding-tools/)\n",
        "\n",
        "\n",
        "## HvPlot Introduction\n",
        "\n",
        "If you have tried to visualize a `pandas.DataFrame` before, then you have likely encountered the [Pandas .plot() API](https://pandas.pydata.org/pandas-docs/stable/user_guide/visualization.html). These plotting commands use [Matplotlib](http://matplotlib.org) to render static PNGs or SVGs in a Jupyter notebook using the `inline` backend, or interactive figures via `%matplotlib widget`, with a command that can be as simple as `df.plot()` for a DataFrame with one or two columns. \n",
        "\n",
        "The Pandas .plot() API has emerged as a de-facto standard for high-level plotting APIs in Python, and is now supported by many different libraries that use various underlying plotting engines to provide additional power and flexibility. Learning this API allows you to access capabilities provided by a wide variety of underlying tools, with relatively little additional effort. The libraries currently supporting this API include:\n",
        "\n",
        "- [Pandas](https://pandas.pydata.org/pandas-docs/stable/user_guide/visualization.html) -- Matplotlib-based API included with Pandas. Static or interactive output in Jupyter notebooks.\n",
        "- [hvPlot](https://hvplot.pyviz.org) -- HoloViews and Bokeh-based interactive plots for Pandas, GeoPandas, xarray, Dask, Intake, and Streamz data.\n",
        "- [xarray](https://xarray.pydata.org/en/stable/plotting.html) -- Matplotlib-based API included with xarray, based on pandas .plot API. Static or interactive output in Jupyter notebooks.\n",
        "- [GeoViews](http://geoviews.org/) -- provides a set of coordinate-aware data types (geometries) and functions for visual integration with the HoloViews library, to explore and visualize geographical datasets, "
      ]
    },
    {
      "cell_type": "code",
      "metadata": {},
      "source": [
        "import holoviews as hv\n",
        "import hvplot.pandas"
      ],
      "execution_count": null,
      "outputs": []
    },
    {
      "cell_type": "code",
      "metadata": {},
      "source": [
        "from bokeh.sampledata.autompg import autompg_clean as df\n",
        "# you may also read in data from a local file, for example using\n",
        "# df = pd.read_csv('data.csv')"
      ],
      "execution_count": null,
      "outputs": []
    },
    {
      "cell_type": "code",
      "metadata": {},
      "source": [
        "df.describe()"
      ],
      "execution_count": null,
      "outputs": []
    },
    {
      "cell_type": "markdown",
      "metadata": {},
      "source": [
        "The first thing that we'd like to do with this data is visualize two features of the dataset: mpg and hp. So we would like to make a scatter or points plot where x is mpg and y is hp.\n",
        "\n",
        "We can do that for the smaller dataframe using the pandas.plot API and Matplotlib:"
      ]
    },
    {
      "cell_type": "code",
      "metadata": {},
      "source": [
        "df.plot.scatter(x='mpg', y='hp');"
      ],
      "execution_count": null,
      "outputs": []
    },
    {
      "cell_type": "markdown",
      "metadata": {},
      "source": [
        "### Using .hvplot\n",
        "\n",
        "As you can see above, the Pandas API gives you a usable plot very easily. You can make a very similar plot with the same arguments using hvplot, after importing hvplot.pandas to install hvPlot support into Pandas:"
      ]
    },
    {
      "cell_type": "code",
      "metadata": {},
      "source": [
        "df.hvplot.scatter(x='mpg', y='hp')"
      ],
      "execution_count": null,
      "outputs": []
    },
    {
      "cell_type": "markdown",
      "metadata": {},
      "source": [
        "### Other kinds of plots\n",
        "\n",
        "Use tab completion to explore the available plot types.\n",
        "\n",
        "``` python\n",
        "df.hvplot.<TAB>\n",
        "```\n",
        "\n",
        "Plot types available include:\n",
        "\n",
        "- .area(): Plots a area chart similar to a line chart except for filling the area under the curve and optionally stacking\n",
        "\n",
        "- .bar(): Plots a bar chart that can be stacked or grouped\n",
        "\n",
        "- .bivariate(): Plots 2D density of a set of points\n",
        "\n",
        "- .box(): Plots a box-whisker chart comparing the distribution of one or more variables\n",
        "\n",
        "- .heatmap(): Plots a heatmap to visualizing a variable across two independent dimensions\n",
        "\n",
        "- .hexbins(): Plots hex bins\n",
        "\n",
        "- .hist(): Plots the distribution of one or histograms as a set of bins\n",
        "\n",
        "- .kde(): Plots the kernel density estimate of one or more variables.\n",
        "\n",
        "- .line(): Plots a line chart (such as for a time series)\n",
        "\n",
        "- .scatter(): Plots a scatter chart comparing two variables\n",
        "\n",
        "- .step(): Plots a step chart akin to a line plot\n",
        "\n",
        "- .table(): Generates a SlickGrid DataTable\n",
        "\n",
        "- .violin(): Plots a violin plot comparing the distribution of one or more variables using the kernel density estimate\n"
      ]
    },
    {
      "cell_type": "code",
      "metadata": {},
      "source": [
        "# default is line plot\n",
        "df.sort_values(by='mpg').hvplot(x='mpg', y='hp')"
      ],
      "execution_count": null,
      "outputs": []
    },
    {
      "cell_type": "code",
      "metadata": {},
      "source": [
        "# histogram\n",
        "df.hvplot.hist('mpg', bins=100)"
      ],
      "execution_count": null,
      "outputs": []
    },
    {
      "cell_type": "markdown",
      "metadata": {},
      "source": [
        "### Graphics \"grammar\"\n",
        "\n",
        "`+`  and `*` - to have several plots (`+`) or to plot overlays (`*`)"
      ]
    },
    {
      "cell_type": "code",
      "metadata": {},
      "source": [
        "df.hvplot.hist('mpg', bins=10, width=300) + df.hvplot.scatter(x='mpg', y='hp', width=300)"
      ],
      "execution_count": null,
      "outputs": []
    },
    {
      "cell_type": "markdown",
      "metadata": {},
      "source": [
        "Separate single country:"
      ]
    },
    {
      "cell_type": "code",
      "metadata": {},
      "source": [
        "df[df.origin=='Asia'].hvplot.scatter(x='mpg', y='hp', by='origin') "
      ],
      "execution_count": null,
      "outputs": []
    },
    {
      "cell_type": "markdown",
      "metadata": {},
      "source": [
        "Different plots with same \"axes\" on top of each other as overlay:"
      ]
    },
    {
      "cell_type": "code",
      "metadata": {},
      "source": [
        "( \n",
        "    df[df.origin=='Asia'].hvplot.scatter(x='mpg', y='hp', by='origin') * \n",
        "    df[df.origin=='Europe'].hvplot.scatter(x='mpg', y='hp', by='origin') * \n",
        "    df[df.origin=='North America'].hvplot.scatter(x='mpg', y='hp', by='origin') \n",
        ")"
      ],
      "execution_count": null,
      "outputs": []
    },
    {
      "cell_type": "markdown",
      "metadata": {},
      "source": [
        "## Recap: Interactive plotting and data exploration with hvPlot and GeoViews\n",
        "\n",
        "Since recent versions, GeoPandas support the `.explore()` function that allows\n",
        "interactive plotting of the data. This function is based on the [hvPlot](https://hvplot.pyviz.org/)\n",
        "\n",
        "Let's recap GeoDataFrame.explore() with:\n",
        "\n",
        "```python\n",
        "# lets use the data from the previous example\n",
        "data.explore()\n",
        "```"
      ]
    },
    {
      "cell_type": "code",
      "metadata": {},
      "source": [
        "import geopandas as gpd\n",
        "\n",
        "# protected species under class 3 monitoring sightings\n",
        "species_fp = \"../files/data/L3/category_3_species_porijogi.gpkg\"\n",
        "species_data = gpd.read_file(species_fp, layer='category_3_species_porijogi', driver='GPKG')\n",
        "display(species_data.head(5))"
      ],
      "execution_count": null,
      "outputs": []
    },
    {
      "cell_type": "code",
      "metadata": {},
      "source": [
        "species_data.explore()"
      ],
      "execution_count": null,
      "outputs": []
    },
    {
      "cell_type": "markdown",
      "metadata": {},
      "source": [
        "GeoViews, like matplotlib, has a large number of options to customize the plots. \n",
        "Let's plot more interactively, this will also work exactly in the Panel dashboard."
      ]
    },
    {
      "cell_type": "code",
      "metadata": {},
      "source": [
        "import geoviews as gv\n",
        "import geoviews.feature as gf\n",
        "import cartopy.crs as crs\n",
        "from geoviews import opts, tile_sources as gvts\n",
        "\n",
        "from bokeh.plotting import figure, output_file, show\n",
        "gv.extension('bokeh')\n",
        "\n",
        "species_data_wgs84 = species_data.to_crs(4326)\n",
        "\n",
        "opts.defaults(opts.WMTS())\n",
        "\n",
        "data_view = gv.Points(species_data_wgs84, vdims=['LIIK', 'NIMI']).opts(tools=['hover'])"
      ],
      "execution_count": null,
      "outputs": []
    },
    {
      "cell_type": "code",
      "metadata": {},
      "source": [
        "(data_view  * gvts.OSM).opts(width=600, height=400, projection=crs.Mercator())"
      ],
      "execution_count": null,
      "outputs": []
    },
    {
      "cell_type": "markdown",
      "metadata": {},
      "source": [
        "## Basic Panel Concepts\n",
        "\n",
        "### Panel components\n",
        "- **Panes**: Description of what panes are in Panel.\n",
        "- **Widgets**: Different widgets available in Panel and their uses.\n",
        "- **Layouts**: How to layout different components in Panel.\n",
        "\n",
        "### Running a Panel app\n",
        "- Steps to run a Panel app and different modes of running.\n",
        "\n",
        "### Difference between a static output and an interactive server\n",
        "- Understanding the static vs server modes in Panel.\n",
        "\n",
        "\n",
        "the Easiest Way to Create an Interactive Dashboard in Python from any DataFrame.  If you already know some Pandas, you can almost immediately use `hvPlot` `.interactive` and `Panel` to turn your DataFrame processing pipeline into a dashboard! It just takes a few lines of familiar code to make an interactive dashboard."
      ]
    },
    {
      "cell_type": "code",
      "metadata": {},
      "source": [
        "import panel as pn\n",
        "\n",
        "pn.extension('tabulator', sizing_mode=\"stretch_width\")"
      ],
      "execution_count": null,
      "outputs": []
    },
    {
      "cell_type": "code",
      "metadata": {},
      "source": [
        "import hvplot.pandas\n",
        "import holoviews as hv\n",
        "\n",
        "hv.extension('bokeh')"
      ],
      "execution_count": null,
      "outputs": []
    },
    {
      "cell_type": "code",
      "metadata": {},
      "source": [
        "from bokeh.sampledata.autompg import autompg_clean as df\n",
        "df.head()"
      ],
      "execution_count": null,
      "outputs": []
    },
    {
      "cell_type": "code",
      "metadata": {},
      "source": [
        "from bokeh.sampledata.autompg import autompg_clean as df\n",
        "df.head()"
      ],
      "execution_count": null,
      "outputs": []
    },
    {
      "cell_type": "markdown",
      "metadata": {},
      "source": [
        "## Define DataFrame Pipeline"
      ]
    },
    {
      "cell_type": "code",
      "metadata": {},
      "source": [
        "(\n",
        "    df[\n",
        "        (df.cyl == 4) &\n",
        "        (df.mfr.isin(['ford','chevrolet']))\n",
        "    ]\n",
        "    .groupby(['origin', 'cyl', 'mfr', 'yr'])['hp'].mean()\n",
        "    .to_frame()\n",
        "    .reset_index()\n",
        "    .sort_values(by='yr')\n",
        ").head(1)"
      ],
      "execution_count": null,
      "outputs": []
    },
    {
      "cell_type": "markdown",
      "metadata": {},
      "source": [
        "## Make DataFrame Pipeline Interactive\n",
        "\n",
        "What if we would like to turn the values of cyl, the values of mfr, and the variable hp into interactive widgets that we can change and control? Is it possible? Yes, it is, and with hvPlot it’s not even difficult. Here are the steps:\n",
        "\n",
        "- First, we need to wrap our dataframe with `.interactive()`: `idf = df.interactive()`, so that this dataframe becomes interactive and we can use Panel widgets on this dataframe.\n",
        "\n",
        "“.interactive stores a copy of your pipeline (series of method calls or other expressions on your data) and dynamically replays the pipeline whenever that widget changes.”"
      ]
    },
    {
      "cell_type": "code",
      "metadata": {},
      "source": [
        "idf = df.interactive()"
      ],
      "execution_count": null,
      "outputs": []
    },
    {
      "cell_type": "markdown",
      "metadata": {},
      "source": [
        "Define [Panel widgets](https://panel.holoviz.org/reference/index.html#widgets)\n",
        "\n",
        "- Second, we can define the panel widgets we would like to use. Here I defined a panel widget for cylinders, a widget for the manufacturer, and a widget to select the y axis."
      ]
    },
    {
      "cell_type": "code",
      "metadata": {},
      "source": [
        "cylinders = pn.widgets.IntSlider(name='Cylinders', start=4, end=8, step=2)\n",
        "cylinders"
      ],
      "execution_count": null,
      "outputs": []
    },
    {
      "cell_type": "code",
      "metadata": {},
      "source": [
        "mfr = pn.widgets.ToggleGroup(\n",
        "    name='MFR',\n",
        "    options=['ford', 'chevrolet', 'honda', 'toyota', 'audi'],\n",
        "    value=['ford', 'chevrolet', 'honda', 'toyota', 'audi'],\n",
        "    button_type='success')\n",
        "mfr"
      ],
      "execution_count": null,
      "outputs": []
    },
    {
      "cell_type": "code",
      "metadata": {},
      "source": [
        "yaxis = pn.widgets.RadioButtonGroup(\n",
        "    name='Y axis',\n",
        "    options=['hp', 'weight'],\n",
        "    button_type='success'\n",
        ")\n",
        "yaxis"
      ],
      "execution_count": null,
      "outputs": []
    },
    {
      "cell_type": "markdown",
      "metadata": {},
      "source": [
        "- Finally, we can replace the values or variables from the original Pandas pipeline to these widgets we just defined. We define the output of the pipeline as ipipeline:"
      ]
    },
    {
      "cell_type": "code",
      "metadata": {},
      "source": [
        "ipipeline = (\n",
        "    idf[\n",
        "        (idf.cyl == cylinders) &\n",
        "        (idf.mfr.isin(mfr))\n",
        "    ]\n",
        "    .groupby(['origin', 'mpg'])[yaxis].mean()\n",
        "    .to_frame()\n",
        "    .reset_index()\n",
        "    .sort_values(by='mpg')\n",
        "    .reset_index(drop=True)\n",
        ")\n",
        "ipipeline.head()"
      ],
      "execution_count": null,
      "outputs": []
    },
    {
      "cell_type": "markdown",
      "metadata": {},
      "source": [
        "## Pipe to Table"
      ]
    },
    {
      "cell_type": "code",
      "metadata": {},
      "source": [
        "itable = ipipeline.pipe(pn.widgets.Tabulator, pagination='remote', page_size=10, theme=\"fast\")\n",
        "itable"
      ],
      "execution_count": null,
      "outputs": []
    },
    {
      "cell_type": "markdown",
      "metadata": {},
      "source": [
        "Check out the [Tabulator Reference Guide](https://panel.holoviz.org/reference/widgets/Tabulator.html) for more inspiration.\n",
        "\n",
        "## Pipe to hvplot"
      ]
    },
    {
      "cell_type": "code",
      "metadata": {},
      "source": [
        "PALETTE = [\"#ff6f69\", \"#ffcc5c\", \"#88d8b0\", ]\n",
        "pn.Row(\n",
        "    pn.layout.HSpacer(height=50, styles={'background':PALETTE[0]}),\n",
        "    pn.layout.HSpacer(height=50, styles={'background':PALETTE[1]}),\n",
        "    pn.layout.HSpacer(height=50, styles={'background':PALETTE[2]}),\n",
        ")"
      ],
      "execution_count": null,
      "outputs": []
    },
    {
      "cell_type": "code",
      "metadata": {},
      "source": [
        "ihvplot = ipipeline.hvplot(x='mpg', y=yaxis, by='origin', color=PALETTE, line_width=6, height=400)"
      ],
      "execution_count": null,
      "outputs": []
    },
    {
      "cell_type": "markdown",
      "metadata": {},
      "source": [
        "### Layout using Panel"
      ]
    },
    {
      "cell_type": "code",
      "metadata": {},
      "source": [
        "layout = pn.Column(\n",
        "    pn.Row(\n",
        "        cylinders, mfr, yaxis\n",
        "    ),\n",
        "    ihvplot.panel(),\n",
        "    itable.panel()\n",
        ")"
      ],
      "execution_count": null,
      "outputs": []
    },
    {
      "cell_type": "markdown",
      "metadata": {},
      "source": [
        "From within the notebook you could try like that:\n",
        "\n",
        "```python\n",
        "layout.show()\n",
        "```\n",
        "\n",
        "### Layout using Template\n",
        "\n",
        "Here we use the [FastListTemplate](https://panel.holoviz.org/reference/templates/FastListTemplate.html#templates-gallery-fastlisttemplate).\n",
        "\n",
        "Please note that to get the Tabulator table styled nicely for dark mode you can set `theme='fast'` when you define the `itable`. It won't work in the notebook though.\n",
        "\n",
        "To *serve the notebook* run `panel serve dashboard.ipynb`.\n",
        "\n",
        "```python\n",
        "template = pn.template.FastListTemplate(\n",
        "    title='Interactive DataFrame Dashboards with hvplot .interactive',\n",
        "    sidebar=[cylinders, 'Manufacturers', mfr, 'Y axis' , yaxis],\n",
        "    main=[ihvplot.panel(), itable.panel()],\n",
        "    accent_base_color=\"#88d8b0\",\n",
        "    header_background=\"#88d8b0\",\n",
        ")\n",
        "\n",
        "template.servable();\n",
        "```\n",
        "\n",
        "## Creating a Simple Panel App with Geospatial Data\n"
      ]
    },
    {
      "cell_type": "code",
      "metadata": {},
      "source": [
        "import geopandas as gpd\n",
        "from fiona.crs import from_epsg\n",
        "from shapely.geometry import LineString, MultiLineString\n",
        "\n",
        "# Filepaths\n",
        "grid_fp = \"../files/data/L6/population_square_km.shp\"\n",
        "roads_fp = \"../files/data/L6/roads.shp\"\n",
        "schools_fp = \"../files/data/L6/schools_tartu.shp\"\n",
        "\n",
        "# Read files\n",
        "grid = gpd.read_file(grid_fp)\n",
        "roads = gpd.read_file(roads_fp)\n",
        "schools = gpd.read_file(schools_fp)\n",
        "\n",
        "# Re-project to WGS84\n",
        "grid['geometry'] = grid['geometry'].to_crs(epsg=4326)\n",
        "roads['geometry'] = roads['geometry'].to_crs(epsg=4326)\n",
        "schools['geometry'] = schools['geometry'].to_crs(epsg=4326)\n",
        "\n",
        "# Make a selection (only data above 0 and below 1000)\n",
        "grid = grid.loc[(grid['Population'] > 0)]\n",
        "\n",
        "# Create a Geo-id which is needed by the Folium (it needs to have a unique identifier for each row)\n",
        "grid['geoid'] = grid.index.astype(str)\n",
        "roads['geoid'] = roads.index.astype(str)\n",
        "schools['geoid'] = schools.index.astype(str)\n",
        "\n",
        "# Select data\n",
        "grid = grid[['geoid', 'Population', 'geometry']]\n",
        "roads = roads[['geoid', 'TYYP', 'geometry']]\n",
        "schools = schools[['geoid', 'name', 'geometry']]\n",
        "\n",
        "# convert the dataframe to geojson\n",
        "grid_jsontxt = grid.to_json()\n",
        "roads_jsontxt = roads.to_json()\n",
        "schools_jsontxt = schools.to_json()\n",
        "\n",
        "from shapely.geometry import Point\n",
        "\n",
        "def getPoints(row, geom):\n",
        "    \"\"\"Returns coordinate pair tuples for the point ('lat', 'lon') of a Point geometry\"\"\"\n",
        "    if isinstance(row[geom], Point):\n",
        "        # we need lat lon order for the folium map!!!\n",
        "        return (row[geom].y, row[geom].x)\n",
        "    else:\n",
        "        return ()"
      ],
      "execution_count": null,
      "outputs": []
    },
    {
      "cell_type": "code",
      "metadata": {},
      "source": [
        "import folium\n",
        "import pandas as pd\n",
        "import mapclassify as mc\n",
        "\n",
        "# Initialize the classifier and apply it\n",
        "classifier = mc.NaturalBreaks.make(k=5)\n",
        "\n",
        "grid['pop_km2'] = grid[['Population']].apply(classifier)\n",
        "\n",
        "# basemap\n",
        "m = folium.Map(location=[58.37, 26.72],\n",
        "               tiles='Stamen toner',\n",
        "               zoom_start=8,\n",
        "               control_scale=True,\n",
        "               prefer_canvas=True,\n",
        "               width=600,\n",
        "               height=450)\n",
        "\n",
        "# coloured polygon layer\n",
        "folium.Choropleth(\n",
        "    geo_data=grid_jsontxt,\n",
        "    data=grid,\n",
        "    columns=['geoid', 'pop_km2'],\n",
        "    key_on=\"feature.id\",\n",
        "    fill_color='RdBu',\n",
        "    fill_opacity=0.5,\n",
        "    line_opacity=0.2,\n",
        "    line_color='white',\n",
        "    line_weight=0,\n",
        "    legend_name='Population in Tartu',\n",
        "    name='Population Grid',\n",
        "    highlight=False\n",
        ").add_to(m)\n",
        "\n",
        "\n",
        "circles_layer = folium.FeatureGroup(name=\"circles layer\")\n",
        "\n",
        "# Calculate x and y coordinates of the line\n",
        "schools['points_tuple'] = schools.apply(getPoints, geom='geometry', axis=1)\n",
        "\n",
        "# the yellow school circles as reference\n",
        "for idx, school in schools.iterrows():\n",
        "    folium.CircleMarker(location=school['points_tuple'],\n",
        "                        popup=school['name'],\n",
        "                        color=\"yellow\",\n",
        "                        radius=2.5,\n",
        "                        opacity=0.9).add_to(circles_layer)\n",
        "\n",
        "circles_layer.add_to(m)\n",
        "\n",
        "# the layer control switch\n",
        "folium.LayerControl().add_to(m)"
      ],
      "execution_count": null,
      "outputs": []
    },
    {
      "cell_type": "code",
      "metadata": {},
      "source": [
        "folium_pane = pn.pane.plot.Folium(m, height=400)"
      ],
      "execution_count": null,
      "outputs": []
    },
    {
      "cell_type": "code",
      "metadata": {},
      "source": [
        "layout2 = pn.Column(\n",
        "    pn.Row(\n",
        "        pn.pane.Markdown(\"\"\"# Schools in Tartumaa\"\"\")\n",
        "    ),\n",
        "    pn.Row( folium_pane),\n",
        "    pn.Row( pn.widgets.Tabulator(pd.DataFrame(schools.drop(columns=['geometry'])))) \n",
        ")"
      ],
      "execution_count": null,
      "outputs": []
    },
    {
      "cell_type": "markdown",
      "metadata": {},
      "source": [
        "```python\n",
        "layout2.show()\n",
        "```"
      ]
    },
    {
      "cell_type": "code",
      "metadata": {},
      "source": [
        "template2 = pn.template.FastListTemplate(\n",
        "    title='Folium in Panel Dashboard',\n",
        "    sidebar=[],\n",
        "    main=[layout2],\n",
        "    accent_base_color=\"#88d8b0\",\n",
        "    header_background=\"#88d8b0\",\n",
        ")"
      ],
      "execution_count": null,
      "outputs": []
    },
    {
      "cell_type": "markdown",
      "metadata": {},
      "source": [
        "```python\n",
        "template2.show()\n",
        "```\n"
      ]
    }
  ],
  "metadata": {
    "kernelspec": {
      "name": "python3",
      "language": "python",
      "display_name": "Python 3 (ipykernel)"
    }
  },
  "nbformat": 4,
  "nbformat_minor": 4
}