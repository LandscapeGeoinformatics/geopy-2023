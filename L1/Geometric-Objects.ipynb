{
 "cells": [
  {
   "cell_type": "markdown",
   "metadata": {},
   "source": [
    "# Geometric Objects - Spatial Data Model\n",
    "\n",
    "## Overview of geometric objects - Simple Features Implementation in Shapely\n",
    "\n",
    "![](SpatialDataModel.png)\n",
    "\n",
    "Fundamental geometric objects that can be used in Python with \n",
    "[Shapely](https://shapely.readthedocs.io/en/latest/) module\n",
    "\n",
    "The most fundamental geometric objects are **Points**, **Lines** and\n",
    "**Polygons** which are the basic ingredients when working with spatial\n",
    "data in vector format. Python has a specific module called\n",
    "[Shapely](https://shapely.readthedocs.io/en/latest/) that can be used to\n",
    "create and work with *Geometric Objects*. There are many useful\n",
    "functionalities that you can do with Shapely such as:\n",
    "\n",
    "- Create a **Line** or **Polygon** from a *Collection* of **Point** geometries\n",
    "- Calculate areas/length/bounds etc. of input geometries\n",
    "- Make geometric operations based on the input geometries such as **Union**, **Difference**, **Distance** etc.\n",
    "- Make spatial queries between geometries such **Intersects**, **Touches**, **Crosses**, **Within** etc.\n",
    "\n",
    "**Geometric Objects consist of coordinate tuples where:**\n",
    "\n",
    "- **Point** -object represents a single point in space. Points can be either two-dimensional (x, y) or three dimensional (x, y, z).\n",
    "- **LineString** -object (i.e. a line) represents a sequence of points joined together to form a line. Hence, a line consist of a list of at least two coordinate tuples\n",
    "- **Polygon** -object represents a filled area that consists of a list of at least three coordinate tuples that forms the outerior ring and a (possible) list of hole polygons.\n",
    "\n",
    "**It is also possible to have a collection of geometric objects (e.g. Polygons with multiple parts):**\n",
    "\n",
    "- **MultiPoint** -object represents a collection of points and consists of a list of coordinate-tuples\n",
    "- **MultiLineString** -object represents a collection of lines and consists of a list of line-like sequences\n",
    "- **MultiPolygon** -object represents a collection of polygons that consists of a list of polygon-like sequences that construct from exterior ring and (possible) hole list tuples\n",
    "\n",
    "## Point\n",
    "\n",
    "Creating point is easy, you pass x and y coordinates into Point()-object (+ possibly also z -coordinate):"
   ]
  },
  {
   "cell_type": "code",
   "execution_count": 1,
   "metadata": {},
   "outputs": [],
   "source": [
    "# Import necessary geometric objects from shapely module\n",
    "from shapely.geometry import Point, LineString, Polygon\n",
    "\n",
    "# Create Point geometric object(s) with coordinates\n",
    "point1 = Point(2.2, 4.2)\n",
    "point2 = Point(7.2, -25.1)\n",
    "point3 = Point(9.26, -2.456)\n",
    "point3D = Point(9.26, -2.456, 0.57)\n",
    "\n",
    "# What is the type of the point? point_type = type(point1)"
   ]
  },
  {
   "cell_type": "markdown",
   "metadata": {},
   "source": [
    "Let's see what the variables look like.\n",
    "\n",
    "In many cases the `print()` function is useful for showing the content, that is, a text representation, of a variable.\n",
    "In jupyter notebooks (.ipynb) the `display()` function is useful for showing the content of a variable,\n",
    "but the output of the `display()` function often adds additional visual information. This depends on the type of the variable and the libraries used,\n",
    "how much they are adapted for use in jupyter notebooks.\n"
   ]
  },
  {
   "cell_type": "code",
   "execution_count": 2,
   "metadata": {},
   "outputs": [
    {
     "name": "stdout",
     "output_type": "stream",
     "text": [
      "POINT (2.2 4.2)\n",
      "POINT Z (9.26 -2.456 0.57)\n",
      "<class 'shapely.geometry.point.Point'>\n"
     ]
    }
   ],
   "source": [
    "print(point1)\n",
    "print(point3D)\n",
    "print(type(point1))"
   ]
  },
  {
   "cell_type": "code",
   "execution_count": 3,
   "metadata": {},
   "outputs": [
    {
     "data": {
      "image/svg+xml": [
       "<svg xmlns=\"http://www.w3.org/2000/svg\" xmlns:xlink=\"http://www.w3.org/1999/xlink\" width=\"100.0\" height=\"100.0\" viewBox=\"1.2000000000000002 3.2 2.0 2.0\" preserveAspectRatio=\"xMinYMin meet\"><g transform=\"matrix(1,0,0,-1,0,8.4)\"><circle cx=\"2.2\" cy=\"4.2\" r=\"0.06\" stroke=\"#555555\" stroke-width=\"0.02\" fill=\"#66cc99\" opacity=\"0.6\" /></g></svg>"
      ],
      "text/plain": [
       "<POINT (2.2 4.2)>"
      ]
     },
     "metadata": {},
     "output_type": "display_data"
    }
   ],
   "source": [
    "display(point1)"
   ]
  },
  {
   "cell_type": "markdown",
   "metadata": {},
   "source": [
    "We can see that the type of the point is shapely's Point which is\n",
    "represented in a specific format that is based on the\n",
    "[GEOS](https://https://libgeos.org/) C++ library that is one of the\n",
    "standard libraries in GIS. GEOS, a port of the Java Topology Suite\n",
    "(JTS), is the geometry engine of the PostGIS spatial extension for the\n",
    "PostgreSQL RDBMS. The designs of JTS and GEOS are largely guided by the\n",
    "[Open Geospatial Consortium's](http://www.ogc.org/) [Simple Features Access Specification](https://www.opengeospatial.org/standards/sfa). It runs\n",
    "under the hood e.g. in [QGIS](http://www.qgis.org/en/site/). 3D-points\n",
    "can be recognized from the capital Z -letter in front of the\n",
    "coordinates.\n",
    "\n",
    "### Point attributes and functions\n",
    "\n",
    "Point -object has some built-in attributes that can be accessed and also\n",
    "some useful functionalities. One of the most useful ones are the ability\n",
    "to extract the coordinates of a Point and calculate the Euclidian\n",
    "distance between points.\n",
    "\n",
    "Extracting the coordinates of a Point can be done in a couple of\n",
    "different ways"
   ]
  },
  {
   "cell_type": "code",
   "execution_count": 4,
   "metadata": {},
   "outputs": [
    {
     "name": "stdout",
     "output_type": "stream",
     "text": [
      "<class 'shapely.coords.CoordinateSequence'>\n"
     ]
    }
   ],
   "source": [
    "# Get the coordinates\n",
    "\n",
    "point_coords = point1.coords\n",
    "\n",
    "# What is the type of this?\n",
    "print(type(point_coords))"
   ]
  },
  {
   "cell_type": "markdown",
   "metadata": {},
   "source": [
    "Ok, we can see that the output is a Shapely CoordinateSequence. Let's\n",
    "see how we can get out the actual coordinates:"
   ]
  },
  {
   "cell_type": "code",
   "execution_count": 5,
   "metadata": {},
   "outputs": [],
   "source": [
    "# Get x and y coordinates\n",
    "xy = point_coords.xy\n",
    "\n",
    "# Get only x coordinates of Point1 \n",
    "x = point1.x\n",
    "\n",
    "# Whatabout y coordinate? \n",
    "y = point1.y"
   ]
  },
  {
   "cell_type": "markdown",
   "metadata": {},
   "source": [
    "- What is inside?"
   ]
  },
  {
   "cell_type": "code",
   "execution_count": 6,
   "metadata": {},
   "outputs": [
    {
     "name": "stdout",
     "output_type": "stream",
     "text": [
      "(array('d', [2.2]), array('d', [4.2]))\n",
      "2.2\n",
      "4.2\n"
     ]
    }
   ],
   "source": [
    "print(xy)\n",
    "print(x)\n",
    "print(y)"
   ]
  },
  {
   "cell_type": "markdown",
   "metadata": {},
   "source": [
    "Okey, so we can see that the our xy variable contains a tuple where x\n",
    "and y are stored inside of a numpy arrays. However, our x and y\n",
    "variables are plain decimal numbers.\n",
    "\n",
    "- It is also possible to calculate the distance between points which can be useful in many applications\n",
    "- the returned distance is based on the projection of the points (degrees in WGS84, meters in UTM)"
   ]
  },
  {
   "cell_type": "code",
   "execution_count": 7,
   "metadata": {},
   "outputs": [
    {
     "name": "stdout",
     "output_type": "stream",
     "text": [
      "Distance between the points is 29.72 decimal degrees\n"
     ]
    }
   ],
   "source": [
    "# Calculate the distance between point1 and point2\n",
    "point_dist = point1.distance(point2)\n",
    "\n",
    "print(\"Distance between the points is {0:.2f} decimal degrees\".format(point_dist))"
   ]
  },
  {
   "cell_type": "markdown",
   "metadata": {},
   "source": [
    "### Side note on distances in GIS\n",
    "\n",
    "In Shapely the distance is the Euclidean Distance or Linear distance\n",
    "between two points on a plane. However, if we want to calculate the real\n",
    "distance on Earth's surface, we need to calculate the distance on a\n",
    "sphere. The radius of Earth at the equator is 6378 kilometers, according\n",
    "to NASA's Goddard Space Flight Center, and Earth's polar radius is\n",
    "6,356 km - a difference of 22 km. In order to approximate Earth size as\n",
    "a simple sphere we use these as radius. In order to calculate the\n",
    "distance in more human understandable values we need some math:"
   ]
  },
  {
   "cell_type": "code",
   "execution_count": 8,
   "metadata": {},
   "outputs": [
    {
     "name": "stdout",
     "output_type": "stream",
     "text": [
      "3306.1044 for equatorial radius in km\n",
      "3294.7004 for polar radius in km\n"
     ]
    }
   ],
   "source": [
    "# law of cosines - determines the great-circle distance between two\n",
    "# points on a sphere given their longitudes and latitudes based on \"basic math\"\n",
    "\n",
    "import math\n",
    "\n",
    "distance = math.acos(math.sin(math.radians(point1.y))*math.sin(math.radians(point2.y))+math.cos(math.radians(point1.y))*math.cos(math.radians(point2.y))*math.cos(math.radians(point2.x)-math.radians(point1.x)))*6378\n",
    "print( \"{0:8.4f} for equatorial radius in km\".format(distance))\n",
    "\n",
    "distance = math.acos(math.sin(math.radians(point1.y))*math.sin(math.radians(point2.y))+math.cos(math.radians(point1.y))*math.cos(math.radians(point2.y))*math.cos(math.radians(point2.x)-math.radians(point1.x)))*6356\n",
    "print( \"{0:8.4f} for polar radius in km\".format(distance))"
   ]
  },
  {
   "cell_type": "markdown",
   "metadata": {},
   "source": [
    "But Earth is not a perfect sphere but an bubbly space rock (geoid). The\n",
    "most widely used approximations are ellipsoids. These are well-defined\n",
    "simplifications for computational reasons. And the most widely used\n",
    "standard ellipsoid is \"WGS84\". So, using PyProj with the \"WGS84\"\n",
    "ellipsoid, we can easily calculate distances (and the angles towards\n",
    "each other, aka forward and back azimuths) between initial points\n",
    "(specified by lons1, lats1) and terminus points (specified by lons2,\n",
    "lats2)."
   ]
  },
  {
   "cell_type": "code",
   "execution_count": 9,
   "metadata": {},
   "outputs": [
    {
     "name": "stdout",
     "output_type": "stream",
     "text": [
      "3286.3538 for ellipsoid WGS84 in km\n"
     ]
    }
   ],
   "source": [
    "# with pyproj\n",
    "import pyproj\n",
    "geod = pyproj.Geod(ellps='WGS84')\n",
    "\n",
    "angle1,angle2,distance = geod.inv(point1.x, point1.y, point2.x, point2.y)\n",
    "\n",
    "print (\"{0:8.4f} for ellipsoid WGS84 in km\".format(distance/1000))"
   ]
  },
  {
   "cell_type": "markdown",
   "metadata": {},
   "source": [
    "## LineString\n",
    "\n",
    "Creating a LineString -object is fairly similar to how Point is\n",
    "created. Now instead using a single coordinate-tuple we can\n",
    "construct the line using either a list of shapely Point -objects or\n",
    "pass coordinate-tuples:"
   ]
  },
  {
   "cell_type": "code",
   "execution_count": 10,
   "metadata": {},
   "outputs": [],
   "source": [
    "# Create a LineString from our Point objects\n",
    "line = LineString([point1, point2, point3])\n",
    "\n",
    "# It is also possible to use coordinate tuples having the same outcome\n",
    "line2 = LineString([(2.2, 4.2), (7.2, -25.1), (9.26, -2.456)])"
   ]
  },
  {
   "cell_type": "markdown",
   "metadata": {},
   "source": [
    "Let's see how our LineString looks like"
   ]
  },
  {
   "cell_type": "code",
   "execution_count": 11,
   "metadata": {},
   "outputs": [
    {
     "name": "stdout",
     "output_type": "stream",
     "text": [
      "LINESTRING (2.2 4.2, 7.2 -25.1, 9.26 -2.456)\n",
      "LINESTRING (2.2 4.2, 7.2 -25.1, 9.26 -2.456)\n",
      "<class 'shapely.geometry.linestring.LineString'>\n"
     ]
    },
    {
     "data": {
      "image/svg+xml": [
       "<svg xmlns=\"http://www.w3.org/2000/svg\" xmlns:xlink=\"http://www.w3.org/1999/xlink\" width=\"100.0\" height=\"100.0\" viewBox=\"1.028 -26.272000000000002 9.404 31.644000000000002\" preserveAspectRatio=\"xMinYMin meet\"><g transform=\"matrix(1,0,0,-1,0,-20.900000000000002)\"><polyline fill=\"none\" stroke=\"#66cc99\" stroke-width=\"0.63288\" points=\"2.2,4.2 7.2,-25.1 9.26,-2.456\" opacity=\"0.8\" /></g></svg>"
      ],
      "text/plain": [
       "<LINESTRING (2.2 4.2, 7.2 -25.1, 9.26 -2.456)>"
      ]
     },
     "metadata": {},
     "output_type": "display_data"
    }
   ],
   "source": [
    "print(line)\n",
    "print(line2)\n",
    "print(type(line))\n",
    "\n",
    "display(line)"
   ]
  },
  {
   "cell_type": "markdown",
   "metadata": {},
   "source": [
    "Ok, now we can see that variable line constitutes of multiple\n",
    "coordinate-pairs and the type of the data is shapely LineString.\n",
    "\n",
    "### LineString attributes and functions\n",
    "\n",
    "LineString -object has many useful built-in attributes and\n",
    "functionalities. It is for instance possible to extract the coordinates\n",
    "or the length of a LineString (line), calculate the centroid of the\n",
    "line, create points along the line at specific distance, calculate the\n",
    "closest distance from a line to specified Point and simplify the\n",
    "geometry. See full list of functionalities from [Shapely documentation](https://shapely.readthedocs.io/en/latest/manual.html).\n",
    "Here, we go through a few of them.\n",
    "\n",
    "We can extract the coordinates of a LineString similarly as with\n",
    "Point"
   ]
  },
  {
   "cell_type": "code",
   "execution_count": 12,
   "metadata": {},
   "outputs": [
    {
     "name": "stdout",
     "output_type": "stream",
     "text": [
      "(array('d', [2.2, 7.2, 9.26]), array('d', [4.2, -25.1, -2.456]))\n"
     ]
    }
   ],
   "source": [
    "# Get x and y coordinates of the line\n",
    "lxy = line.xy\n",
    "\n",
    "print(lxy)"
   ]
  },
  {
   "cell_type": "markdown",
   "metadata": {},
   "source": [
    "Okey, we can see that the coordinates are again stored as a numpy arrays\n",
    "where first array includes all x-coordinates and the second all the\n",
    "y-coordinates respectively.\n",
    "\n",
    "We can extract only x or y coordinates by referring to those arrays\n",
    "as follows"
   ]
  },
  {
   "cell_type": "code",
   "execution_count": 13,
   "metadata": {},
   "outputs": [
    {
     "name": "stdout",
     "output_type": "stream",
     "text": [
      "array('d', [2.2, 7.2, 9.26])\n",
      "array('d', [4.2, -25.1, -2.456])\n"
     ]
    }
   ],
   "source": [
    "# Extract x coordinates\n",
    "\n",
    "line_x = lxy[0]\n",
    "\n",
    "# Extract y coordinates straight from the LineObject by referring to a array at index 1\n",
    "line_y = line.xy[1]\n",
    "\n",
    "print(line_x)\n",
    "\n",
    "print(line_y)"
   ]
  },
  {
   "cell_type": "markdown",
   "metadata": {},
   "source": [
    "We can get specific attributes such as lenght of the line and center\n",
    "of the line (centroid) straight from the LineString object itself"
   ]
  },
  {
   "cell_type": "code",
   "execution_count": 14,
   "metadata": {},
   "outputs": [
    {
     "name": "stdout",
     "output_type": "stream",
     "text": [
      "Length of our line: 52.46\n",
      "Centroid of our line:  POINT (6.229961354035622 -11.892411157572392)\n",
      "Type of the centroid: <class 'shapely.geometry.point.Point'>\n"
     ]
    }
   ],
   "source": [
    "# Get the lenght of the line\n",
    "l_length = line.length\n",
    "\n",
    "# Get the centroid of the line\n",
    "l_centroid = line.centroid\n",
    "\n",
    "# What type is the centroid?\n",
    "centroid_type = type(l_centroid)\n",
    "\n",
    "# Print the outputs\n",
    "print(\"Length of our line: {0:.2f}\".format(l_length))\n",
    "print(\"Centroid of our line: \", l_centroid)\n",
    "print(\"Type of the centroid:\", centroid_type)"
   ]
  },
  {
   "cell_type": "markdown",
   "metadata": {},
   "source": [
    "Okey, so these are already fairly useful information for many different\n",
    "GIS tasks, and we didn't even calculate anything yet! These attributes\n",
    "are built-in in every LineString object that is created. Notice that the\n",
    "centroid that is returned is Point -object that has its own functions as\n",
    "was described earlier.\n",
    "\n",
    "## Polygon\n",
    "\n",
    "Creating a Polygon -object continues the same logic of how Point and\n",
    "LineString were created but Polygon object only accepts\n",
    "coordinate-tuples as input. Polygon needs at least three\n",
    "coordinate-tuples:"
   ]
  },
  {
   "cell_type": "code",
   "execution_count": 15,
   "metadata": {},
   "outputs": [
    {
     "name": "stdout",
     "output_type": "stream",
     "text": [
      "POLYGON ((2.2 4.2, 7.2 -25.1, 9.26 -2.456, 2.2 4.2))\n",
      "POLYGON ((2.2 4.2, 7.2 -25.1, 9.26 -2.456, 2.2 4.2))\n",
      "Geometry type as text: Polygon\n",
      "Geometry how Python shows it: <class 'shapely.geometry.polygon.Polygon'>\n"
     ]
    }
   ],
   "source": [
    "# Create a Polygon from the coordinates\n",
    "poly = Polygon([(2.2, 4.2), (7.2, -25.1), (9.26, -2.456)])\n",
    "\n",
    "# We can also use our previously created Point objects (same outcome)\n",
    "# --> notice that Polygon object requires x,y coordinates as input\n",
    "poly2 = Polygon([[p.x, p.y] for p in [point1, point2, point3]])\n",
    "\n",
    "# Geometry type can be accessed as a String\n",
    "poly_type = poly.geom_type\n",
    "\n",
    "# Using the Python's type function gives the type in a different format\n",
    "poly_type2 = type(poly)\n",
    "\n",
    "# Let's see how our Polygon looks like\n",
    "print(poly)\n",
    "print(poly2)\n",
    "print(\"Geometry type as text:\", poly_type)\n",
    "print(\"Geometry how Python shows it:\", poly_type2)"
   ]
  },
  {
   "cell_type": "markdown",
   "metadata": {},
   "source": [
    "Notice that Polygon has double parentheses around the coordinates. This\n",
    "is because Polygon can also have holes inside of it. As the help of\n",
    "Polygon -object tells, a Polygon can be constructed using exterior\n",
    "coordinates and interior coordinates (optional) where the interior\n",
    "coordinates creates a hole inside the Polygon:\n",
    "\n",
    "Help on Polygon in module shapely.geometry.polygon object:\n",
    "class Polygon(shapely.geometry.base.BaseGeometry)\n",
    " |  A two-dimensional figure bounded by a linear ring\n",
    " |\n",
    " |  A polygon has a non-zero area. It may have one or more negative-space\n",
    " |  \"holes\" which are also bounded by linear rings. If any rings cross each\n",
    " |  other, the feature is invalid and operations on it may fail.\n",
    " |\n",
    " |  Attributes\n",
    " |  ----------\n",
    " |  exterior : LinearRing\n",
    " |      The ring which bounds the positive space of the polygon.\n",
    " |  interiors : sequence\n",
    " |      A sequence of rings which bound all existing holes.\n",
    "\n",
    "Let's create a Polygon with a hole inside"
   ]
  },
  {
   "cell_type": "code",
   "execution_count": 16,
   "metadata": {},
   "outputs": [],
   "source": [
    "# Let's create a bounding box of the world and make a whole in it \n",
    "# First we define our exterior\n",
    "world_exterior = [(-180, 90), (-180, -90), (180, -90), (180, 90)]\n",
    "\n",
    "# Let's create a single big hole where we leave ten decimal degrees at the boundaries of the world\n",
    "# Notice: there could be multiple holes, thus we need to provide a list of holes\n",
    "hole = [[(-170, 80), (-170, -80), (170, -80), (170, 80)]]\n",
    "\n",
    "# World without a hole\n",
    "world = Polygon(shell=world_exterior)\n",
    "\n",
    "# Now we can construct our Polygon with the hole inside\n",
    "world_has_a_hole = Polygon(shell=world_exterior, holes=hole)"
   ]
  },
  {
   "cell_type": "markdown",
   "metadata": {},
   "source": [
    "Let's see what we have now:"
   ]
  },
  {
   "cell_type": "code",
   "execution_count": 17,
   "metadata": {},
   "outputs": [
    {
     "name": "stdout",
     "output_type": "stream",
     "text": [
      "POLYGON ((-180 90, -180 -90, 180 -90, 180 90, -180 90))\n",
      "POLYGON ((-180 90, -180 -90, 180 -90, 180 90, -180 90), (-170 80, -170 -80, 170 -80, 170 80, -170 80))\n",
      "<class 'shapely.geometry.polygon.Polygon'>\n"
     ]
    },
    {
     "data": {
      "image/svg+xml": [
       "<svg xmlns=\"http://www.w3.org/2000/svg\" xmlns:xlink=\"http://www.w3.org/1999/xlink\" width=\"300\" height=\"208.8\" viewBox=\"-194.4 -104.4 388.8 208.8\" preserveAspectRatio=\"xMinYMin meet\"><g transform=\"matrix(1,0,0,-1,0,0.0)\"><path fill-rule=\"evenodd\" fill=\"#66cc99\" stroke=\"#555555\" stroke-width=\"2.592\" opacity=\"0.6\" d=\"M -180.0,90.0 L -180.0,-90.0 L 180.0,-90.0 L 180.0,90.0 L -180.0,90.0 z M -170.0,80.0 L -170.0,-80.0 L 170.0,-80.0 L 170.0,80.0 L -170.0,80.0 z\" /></g></svg>"
      ],
      "text/plain": [
       "<POLYGON ((-180 90, -180 -90, 180 -90, 180 90, -180 90), (-170 80, -170 -80,...>"
      ]
     },
     "metadata": {},
     "output_type": "display_data"
    }
   ],
   "source": [
    "print(world)\n",
    "print(world_has_a_hole)\n",
    "print(type(world_has_a_hole))\n",
    "\n",
    "display(world_has_a_hole)"
   ]
  },
  {
   "cell_type": "markdown",
   "metadata": {},
   "source": [
    "Now we can see that the polygon has two different tuples of coordinates.\n",
    "The first one represents the outerior and the second one represents the\n",
    "hole inside of the Polygon.\n",
    "\n",
    "### Polygon attributes and functions\n",
    "\n",
    "We can again access different attributes that are really useful such\n",
    "as area, centroid, bounding box, exterior, and exterior-length of\n",
    "the Polygon"
   ]
  },
  {
   "cell_type": "code",
   "execution_count": 18,
   "metadata": {},
   "outputs": [],
   "source": [
    "# Get the centroid of the Polygon\n",
    "world_centroid = world.centroid\n",
    "\n",
    "# Get the area of the Polygon\n",
    "world_area = world.area\n",
    "\n",
    "# Get the bounds of the Polygon (i.e. bounding box)\n",
    "world_bbox = world.bounds\n",
    "\n",
    "# Get the exterior of the Polygon\n",
    "world_ext = world.exterior\n",
    "\n",
    "# Get the length of the exterior\n",
    "world_ext_length = world_ext.length"
   ]
  },
  {
   "cell_type": "markdown",
   "metadata": {},
   "source": [
    "Let's see what we have now"
   ]
  },
  {
   "cell_type": "code",
   "execution_count": 19,
   "metadata": {},
   "outputs": [
    {
     "name": "stdout",
     "output_type": "stream",
     "text": [
      "Poly centroid:  POINT (0 0)\n",
      "Poly Area:  64800.0\n",
      "Poly Bounding Box:  (-180.0, -90.0, 180.0, 90.0)\n",
      "Poly Exterior:  LINEARRING (-180 90, -180 -90, 180 -90, 180 90, -180 90)\n",
      "Poly Exterior Length:  1080.0\n"
     ]
    }
   ],
   "source": [
    "print(\"Poly centroid: \", world_centroid)\n",
    "print(\"Poly Area: \", world_area)\n",
    "print(\"Poly Bounding Box: \", world_bbox)\n",
    "print(\"Poly Exterior: \", world_ext)\n",
    "print(\"Poly Exterior Length: \", world_ext_length)"
   ]
  },
  {
   "cell_type": "markdown",
   "metadata": {},
   "source": [
    "## Reading X/Y Coordinates from Text files\n",
    "\n",
    "One of the \"classical\" problems in GIS is the situation where you have\n",
    "a set of coordinates in a file and you need to get them into a map (or\n",
    "into a GIS-software). Python is a really handy tool to solve this\n",
    "problem as with Python it is basically possible to read data from any\n",
    "kind of input datafile (such as csv-, txt-, excel-, or gpx-files (gps\n",
    "data) or from different databases).\n",
    "\n",
    "Python provides various helpful packages and functions to work with\n",
    "data. While you could of course also manually program to open the file,\n",
    "read it line by line, extract fields and process variables, we can also\n",
    "use a widely used library called Pandas to read a file with tabular data\n",
    "and present it to us as a so called dataframe:\n",
    "\n",
    "With the Windows File Explorer create a folder named `L1` inside your\n",
    "`geopython2023` working directory. Download the following file and save\n",
    "it into that `L1` folder.\n",
    "\n",
    "[file:global-city-population-estimates.csv](../files/data/L1/global-city-population-estimates.csv)"
   ]
  },
  {
   "cell_type": "code",
   "execution_count": 20,
   "metadata": {},
   "outputs": [
    {
     "data": {
      "text/html": [
       "<div>\n",
       "<style scoped>\n",
       "    .dataframe tbody tr th:only-of-type {\n",
       "        vertical-align: middle;\n",
       "    }\n",
       "\n",
       "    .dataframe tbody tr th {\n",
       "        vertical-align: top;\n",
       "    }\n",
       "\n",
       "    .dataframe thead th {\n",
       "        text-align: right;\n",
       "    }\n",
       "</style>\n",
       "<table border=\"1\" class=\"dataframe\">\n",
       "  <thead>\n",
       "    <tr style=\"text-align: right;\">\n",
       "      <th></th>\n",
       "      <th>Country or area</th>\n",
       "      <th>Urban Agglomeration</th>\n",
       "      <th>Latitude</th>\n",
       "      <th>Longitude</th>\n",
       "      <th>Population_2015</th>\n",
       "      <th>Unnamed: 5</th>\n",
       "    </tr>\n",
       "  </thead>\n",
       "  <tbody>\n",
       "    <tr>\n",
       "      <th>0</th>\n",
       "      <td>Japan</td>\n",
       "      <td>Tokyo</td>\n",
       "      <td>35.689500</td>\n",
       "      <td>139.691710</td>\n",
       "      <td>38001018</td>\n",
       "      <td>NaN</td>\n",
       "    </tr>\n",
       "    <tr>\n",
       "      <th>1</th>\n",
       "      <td>India</td>\n",
       "      <td>Delhi</td>\n",
       "      <td>28.666670</td>\n",
       "      <td>77.216670</td>\n",
       "      <td>25703168</td>\n",
       "      <td>NaN</td>\n",
       "    </tr>\n",
       "    <tr>\n",
       "      <th>2</th>\n",
       "      <td>China</td>\n",
       "      <td>Shanghai</td>\n",
       "      <td>31.220000</td>\n",
       "      <td>121.460000</td>\n",
       "      <td>23740778</td>\n",
       "      <td>NaN</td>\n",
       "    </tr>\n",
       "    <tr>\n",
       "      <th>3</th>\n",
       "      <td>Brazil</td>\n",
       "      <td>S?o Paulo</td>\n",
       "      <td>-23.550000</td>\n",
       "      <td>-46.640000</td>\n",
       "      <td>21066245</td>\n",
       "      <td>NaN</td>\n",
       "    </tr>\n",
       "    <tr>\n",
       "      <th>4</th>\n",
       "      <td>India</td>\n",
       "      <td>Mumbai (Bombay)</td>\n",
       "      <td>19.073975</td>\n",
       "      <td>72.880838</td>\n",
       "      <td>21042538</td>\n",
       "      <td>NaN</td>\n",
       "    </tr>\n",
       "  </tbody>\n",
       "</table>\n",
       "</div>"
      ],
      "text/plain": [
       "  Country or area Urban Agglomeration   Latitude   Longitude  Population_2015  \\\n",
       "0           Japan               Tokyo  35.689500  139.691710         38001018   \n",
       "1           India               Delhi  28.666670   77.216670         25703168   \n",
       "2           China            Shanghai  31.220000  121.460000         23740778   \n",
       "3          Brazil           S?o Paulo -23.550000  -46.640000         21066245   \n",
       "4           India     Mumbai (Bombay)  19.073975   72.880838         21042538   \n",
       "\n",
       "   Unnamed: 5  \n",
       "0         NaN  \n",
       "1         NaN  \n",
       "2         NaN  \n",
       "3         NaN  \n",
       "4         NaN  "
      ]
     },
     "metadata": {},
     "output_type": "display_data"
    }
   ],
   "source": [
    "import pandas as pd\n",
    "\n",
    "# make sure you have the correct path to your working file\n",
    "# e.g. 'L1/global-city-population-estimates.csv' if you saved the file in your working directory\n",
    "df = pd.read_csv('../files/data/L1/global-city-population-estimates.csv', sep=';', encoding='latin1')\n",
    "\n",
    "# this option tells pandas to print up to 20 columns, typically a the\n",
    "# print function will cut the output for better visibility \n",
    "# (depending on the size and dimension of the dataframe)\n",
    "#\n",
    "pd.set_option('display.max_columns',20)\n",
    "\n",
    "display(df.head(5))"
   ]
  },
  {
   "cell_type": "markdown",
   "metadata": {},
   "source": [
    "Now we want to process the tabular data. Thus, let's see how we can go\n",
    "through our data and create Point -objects from them:"
   ]
  },
  {
   "cell_type": "code",
   "execution_count": 21,
   "metadata": {},
   "outputs": [
    {
     "data": {
      "text/html": [
       "<div>\n",
       "<style scoped>\n",
       "    .dataframe tbody tr th:only-of-type {\n",
       "        vertical-align: middle;\n",
       "    }\n",
       "\n",
       "    .dataframe tbody tr th {\n",
       "        vertical-align: top;\n",
       "    }\n",
       "\n",
       "    .dataframe thead th {\n",
       "        text-align: right;\n",
       "    }\n",
       "</style>\n",
       "<table border=\"1\" class=\"dataframe\">\n",
       "  <thead>\n",
       "    <tr style=\"text-align: right;\">\n",
       "      <th></th>\n",
       "      <th>Country or area</th>\n",
       "      <th>Urban Agglomeration</th>\n",
       "      <th>Latitude</th>\n",
       "      <th>Longitude</th>\n",
       "      <th>Population_2015</th>\n",
       "      <th>Unnamed: 5</th>\n",
       "      <th>points</th>\n",
       "    </tr>\n",
       "  </thead>\n",
       "  <tbody>\n",
       "    <tr>\n",
       "      <th>0</th>\n",
       "      <td>Japan</td>\n",
       "      <td>Tokyo</td>\n",
       "      <td>35.689500</td>\n",
       "      <td>139.691710</td>\n",
       "      <td>38001018</td>\n",
       "      <td>NaN</td>\n",
       "      <td>POINT (139.69171 35.6895)</td>\n",
       "    </tr>\n",
       "    <tr>\n",
       "      <th>1</th>\n",
       "      <td>India</td>\n",
       "      <td>Delhi</td>\n",
       "      <td>28.666670</td>\n",
       "      <td>77.216670</td>\n",
       "      <td>25703168</td>\n",
       "      <td>NaN</td>\n",
       "      <td>POINT (77.21667 28.66667)</td>\n",
       "    </tr>\n",
       "    <tr>\n",
       "      <th>2</th>\n",
       "      <td>China</td>\n",
       "      <td>Shanghai</td>\n",
       "      <td>31.220000</td>\n",
       "      <td>121.460000</td>\n",
       "      <td>23740778</td>\n",
       "      <td>NaN</td>\n",
       "      <td>POINT (121.46 31.22)</td>\n",
       "    </tr>\n",
       "    <tr>\n",
       "      <th>3</th>\n",
       "      <td>Brazil</td>\n",
       "      <td>S?o Paulo</td>\n",
       "      <td>-23.550000</td>\n",
       "      <td>-46.640000</td>\n",
       "      <td>21066245</td>\n",
       "      <td>NaN</td>\n",
       "      <td>POINT (-46.64 -23.55)</td>\n",
       "    </tr>\n",
       "    <tr>\n",
       "      <th>4</th>\n",
       "      <td>India</td>\n",
       "      <td>Mumbai (Bombay)</td>\n",
       "      <td>19.073975</td>\n",
       "      <td>72.880838</td>\n",
       "      <td>21042538</td>\n",
       "      <td>NaN</td>\n",
       "      <td>POINT (72.880838 19.073975)</td>\n",
       "    </tr>\n",
       "  </tbody>\n",
       "</table>\n",
       "</div>"
      ],
      "text/plain": [
       "  Country or area Urban Agglomeration   Latitude   Longitude  Population_2015  \\\n",
       "0           Japan               Tokyo  35.689500  139.691710         38001018   \n",
       "1           India               Delhi  28.666670   77.216670         25703168   \n",
       "2           China            Shanghai  31.220000  121.460000         23740778   \n",
       "3          Brazil           S?o Paulo -23.550000  -46.640000         21066245   \n",
       "4           India     Mumbai (Bombay)  19.073975   72.880838         21042538   \n",
       "\n",
       "   Unnamed: 5                       points  \n",
       "0         NaN    POINT (139.69171 35.6895)  \n",
       "1         NaN    POINT (77.21667 28.66667)  \n",
       "2         NaN         POINT (121.46 31.22)  \n",
       "3         NaN        POINT (-46.64 -23.55)  \n",
       "4         NaN  POINT (72.880838 19.073975)  "
      ]
     },
     "metadata": {},
     "output_type": "display_data"
    }
   ],
   "source": [
    "# we make a function, that takes a row object coming from Pandas. The\n",
    "# single fields per row are addressed by their column name.\n",
    "def make_point(row):\n",
    "    return Point(row['Longitude'], row['Latitude'])\n",
    "\n",
    "# Go through every row, and make a point out of its lat and lon, by\n",
    "# applying the function from above (downwards row by row -> axis=1)\n",
    "df['points'] = df.apply(make_point, axis=1)\n",
    "\n",
    "display(df.head(5))"
   ]
  },
  {
   "cell_type": "markdown",
   "metadata": {},
   "source": [
    "## Geometry collections (optional)\n",
    "\n",
    "::: {.callout-note}\n",
    "This part is not obligatory but it contains some useful information\n",
    "related to construction and usage of geometry collections and some\n",
    "special geometric objects -such as bounding box.\n",
    ":::\n",
    "\n",
    "In some occassions it is useful to store e.g. multiple lines or polygons\n",
    "under a single feature (i.e. a single row in a Shapefile represents more\n",
    "than one line or polygon object). Collections of points are implemented\n",
    "by using a MultiPoint -object, collections of curves by using a\n",
    "MultiLineString -object, and collections of surfaces by a MultiPolygon\n",
    "-object. These collections are not computationally significant, but are\n",
    "useful for modeling certain kinds of features. A Y-shaped line feature\n",
    "(such as road), or multiple polygons (e.g. islands on a like), can be\n",
    "presented nicely as a whole by a using MultiLineString or MultiPolygon\n",
    "accordingly. Creating and visualizing a minimum [bounding box](https://en.wikipedia.org/wiki/Minimum_bounding_box) e.g. around\n",
    "your data points is a really useful function for many purposes (e.g.\n",
    "trying to understand the extent of your data), here we demonstrate how\n",
    "to create one using Shapely.\n",
    "\n",
    "Geometry collections can be constructed in a following manner:"
   ]
  },
  {
   "cell_type": "code",
   "execution_count": 22,
   "metadata": {},
   "outputs": [
    {
     "data": {
      "image/svg+xml": [
       "<svg xmlns=\"http://www.w3.org/2000/svg\" xmlns:xlink=\"http://www.w3.org/1999/xlink\" width=\"100.0\" height=\"100.0\" viewBox=\"1.028 -26.272000000000002 9.404 31.644000000000002\" preserveAspectRatio=\"xMinYMin meet\"><g transform=\"matrix(1,0,0,-1,0,-20.900000000000002)\"><g><polyline fill=\"none\" stroke=\"#66cc99\" stroke-width=\"0.63288\" points=\"2.2,4.2 7.2,-25.1\" opacity=\"0.8\" /><polyline fill=\"none\" stroke=\"#66cc99\" stroke-width=\"0.63288\" points=\"7.2,-25.1 9.26,-2.456\" opacity=\"0.8\" /></g></g></svg>"
      ],
      "text/plain": [
       "<MULTILINESTRING ((2.2 4.2, 7.2 -25.1), (7.2 -25.1, 9.26 -2.456))>"
      ]
     },
     "metadata": {},
     "output_type": "display_data"
    }
   ],
   "source": [
    "# Import collections of geometric objects + bounding box\n",
    "from shapely.geometry import MultiPoint, MultiLineString, MultiPolygon, box\n",
    "\n",
    "# Create a MultiPoint object of our points 1,2 and 3\n",
    "multi_point = MultiPoint([point1, point2, point3])\n",
    "\n",
    "# It is also possible to pass coordinate tuples inside\n",
    "multi_point2 = MultiPoint([(2.2, 4.2), (7.2, -25.1), (9.26, -2.456)])\n",
    "\n",
    "# We can also create a MultiLineString with two lines\n",
    "line1 = LineString([point1, point2])\n",
    "line2 = LineString([point2, point3])\n",
    "multi_line = MultiLineString([line1, line2])\n",
    "\n",
    "display(multi_line)"
   ]
  },
  {
   "cell_type": "markdown",
   "metadata": {},
   "source": [
    "MultiPolygon can be done in a similar manner # Let's divide our\n",
    "world into western and eastern hemispheres with a hole on the western\n",
    "hemisphere:"
   ]
  },
  {
   "cell_type": "code",
   "execution_count": 23,
   "metadata": {},
   "outputs": [],
   "source": [
    "# Let's create the exterior of the western part of the world\n",
    "west_exterior = [(-180, 90), (-180, -90), (0, -90), (0, 90)]\n",
    "\n",
    "# Let's create a hole --> remember there can be multiple holes, thus\n",
    "# we need to have a list of hole(s).\n",
    "# Here we have just one.\n",
    "west_hole = [[(-170, 80), (-170, -80), (-10, -80), (-10, 80)]]\n",
    "\n",
    "# Create the Polygon\n",
    "west_poly = Polygon(shell=west_exterior, holes=west_hole)\n",
    "\n",
    "# Let's create the Polygon of our Eastern hemisphere polygon using bounding box\n",
    "# For bounding box we need to specify the lower-left\n",
    "# corner coordinates and upper-right coordinates\n",
    "min_x, min_y = 0, -90\n",
    "max_x, max_y = 180, 90\n",
    "\n",
    "# Create the polygon using box() function\n",
    "east_poly_box = box(minx=min_x, miny=min_y, maxx=max_x, maxy=max_y)\n",
    "\n",
    "# Let's create our MultiPolygon. We can pass multiple Polygon -objects\n",
    "# into our MultiPolygon as a list\n",
    "multi_poly = MultiPolygon([west_poly, east_poly_box])"
   ]
  },
  {
   "cell_type": "markdown",
   "metadata": {},
   "source": [
    "Let's see what do we have:"
   ]
  },
  {
   "cell_type": "code",
   "execution_count": 24,
   "metadata": {},
   "outputs": [
    {
     "name": "stdout",
     "output_type": "stream",
     "text": [
      "MultiPoint: MULTIPOINT (2.2 4.2, 7.2 -25.1, 9.26 -2.456)\n",
      "MultiLine:  MULTILINESTRING ((2.2 4.2, 7.2 -25.1), (7.2 -25.1, 9.26 -2.456))\n",
      "Bounding box:  POLYGON ((180 -90, 180 90, 0 90, 0 -90, 180 -90))\n",
      "MultiPoly:  MULTIPOLYGON (((-180 90, -180 -90, 0 -90, 0 90, -180 90), (-170 80, -170 -80, -10 -80, -10 80, -170 80)), ((180 -90, 180 90, 0 90, 0 -90, 180 -90)))\n"
     ]
    },
    {
     "data": {
      "image/svg+xml": [
       "<svg xmlns=\"http://www.w3.org/2000/svg\" xmlns:xlink=\"http://www.w3.org/1999/xlink\" width=\"300\" height=\"208.8\" viewBox=\"-194.4 -104.4 388.8 208.8\" preserveAspectRatio=\"xMinYMin meet\"><g transform=\"matrix(1,0,0,-1,0,0.0)\"><g><path fill-rule=\"evenodd\" fill=\"#ff3333\" stroke=\"#555555\" stroke-width=\"2.592\" opacity=\"0.6\" d=\"M -180.0,90.0 L -180.0,-90.0 L 0.0,-90.0 L 0.0,90.0 L -180.0,90.0 z M -170.0,80.0 L -170.0,-80.0 L -10.0,-80.0 L -10.0,80.0 L -170.0,80.0 z\" /><path fill-rule=\"evenodd\" fill=\"#ff3333\" stroke=\"#555555\" stroke-width=\"2.592\" opacity=\"0.6\" d=\"M 180.0,-90.0 L 180.0,90.0 L 0.0,90.0 L 0.0,-90.0 L 180.0,-90.0 z\" /></g></g></svg>"
      ],
      "text/plain": [
       "<MULTIPOLYGON (((-180 90, -180 -90, 0 -90, 0 90, -180 90), (-170 80, -170 -8...>"
      ]
     },
     "metadata": {},
     "output_type": "display_data"
    }
   ],
   "source": [
    "print(\"MultiPoint:\", multi_point)\n",
    "print(\"MultiLine: \", multi_line)\n",
    "print(\"Bounding box: \", east_poly_box)\n",
    "print(\"MultiPoly: \", multi_poly)\n",
    "\n",
    "display(multi_poly)"
   ]
  },
  {
   "cell_type": "markdown",
   "metadata": {},
   "source": [
    "We can see that the outputs are similar to the basic geometric objects\n",
    "that we created previously but now these objects contain multiple\n",
    "features of those points, lines or polygons.\n",
    "\n",
    "### Geometry collection -objects' attributes and functions\n",
    "\n",
    "We can also get many useful attributes from those objects:"
   ]
  },
  {
   "cell_type": "code",
   "execution_count": 25,
   "metadata": {},
   "outputs": [],
   "source": [
    "# Convex Hull of our MultiPoint -->\n",
    "# <https://en.wikipedia.org/wiki/Convex_hull>\n",
    "convex = multi_point.convex_hull\n",
    "\n",
    "# How many lines do we have inside our MultiLineString?\n",
    "lines_count = len(multi_line.geoms)\n",
    "\n",
    "# Let's calculate the area of our MultiPolygon\n",
    "multi_poly_area = multi_poly.area\n",
    "\n",
    "# We can also access different items inside our geometry collections.\n",
    "# We can e.g. access a single polygon from our MultiPolygon -object by\n",
    "# referring to the index\n",
    "\n",
    "# Let's calculate the area of our Western hemisphere (with a hole)\n",
    "# which is at index 0\n",
    "west_area = multi_poly.geoms[0].area\n",
    "\n",
    "# We can check if we have a \"valid\" MultiPolygon. MultiPolygon is\n",
    "# thought as valid if the individual polygons does notintersect with\n",
    "# each other. Here, because the polygons have a common 0-meridian, we\n",
    "# should NOT have a valid polygon. This can be really useful\n",
    "# information when trying to find topological errors from your data \n",
    "valid = multi_poly.is_valid"
   ]
  },
  {
   "cell_type": "markdown",
   "metadata": {},
   "source": [
    "Let's see what do we have:"
   ]
  },
  {
   "cell_type": "code",
   "execution_count": 26,
   "metadata": {},
   "outputs": [
    {
     "name": "stdout",
     "output_type": "stream",
     "text": [
      "Convex hull of the points:  POLYGON ((7.2 -25.1, 2.2 4.2, 9.26 -2.456, 7.2 -25.1))\n",
      "Number of lines in MultiLineString: 2\n",
      "Area of our MultiPolygon: 39200.0\n",
      "Area of our Western Hemisphere polygon: 6800.0\n",
      "Is polygon valid?:  False\n"
     ]
    }
   ],
   "source": [
    "print(\"Convex hull of the points: \", convex)\n",
    "print(\"Number of lines in MultiLineString:\", lines_count)\n",
    "print(\"Area of our MultiPolygon:\", multi_poly_area)\n",
    "print(\"Area of our Western Hemisphere polygon:\", west_area)\n",
    "print(\"Is polygon valid?: \", valid)"
   ]
  },
  {
   "cell_type": "markdown",
   "metadata": {},
   "source": [
    "From the above we can see that MultiPolygons have exactly the same\n",
    "attributes available as single geometric objects but now the information\n",
    "such as area calculates the area of ALL of the individual -objects\n",
    "combined. There are also some extra features available such as\n",
    "*is_valid* attribute that tells if the polygons or lines intersect with\n",
    "each other.\n",
    "\n",
    "**Launch in the web/MyBinder:**\n",
    "\n",
    "[![image](https://mybinder.org/badge_logo.svg)](https://mybinder.org/v2/gh/allixender/testgeo2021a/main?filepath=L1%2Flesson1.ipynb)\n",
    "\n",
    "**Acknowledgments:**\n",
    "\n",
    "These materials are partly based on [Shapely-documentation](https://shapely.readthedocs.io/en/latest/) and\n",
    "[Westra E. (2016), Chapter 3](https://www.packtpub.com/eu/application-development/python-geospatial-development-third-edition).\n"
   ]
  }
 ],
 "metadata": {
  "kernelspec": {
   "display_name": "Python 3 (ipykernel)",
   "language": "python",
   "name": "python3"
  },
  "language_info": {
   "codemirror_mode": {
    "name": "ipython",
    "version": 3
   },
   "file_extension": ".py",
   "mimetype": "text/x-python",
   "name": "python",
   "nbconvert_exporter": "python",
   "pygments_lexer": "ipython3",
   "version": "3.9.16"
  }
 },
 "nbformat": 4,
 "nbformat_minor": 4
}
