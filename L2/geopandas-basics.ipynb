{
  "cells": [
    {
      "cell_type": "markdown",
      "metadata": {},
      "source": [
        "# Introduction to Geopandas\n",
        "\n",
        "## Downloading data\n",
        "\n",
        "[file:damselfish-data.zip](../files/data/L2/damselfish-data.zip)\n",
        "\n",
        "For this lesson we are using data that you need to download from the provided link above.\n",
        "Once you have downloaded\n",
        "the damselfish-data.zip file into your `geopython2023` directory\n",
        "(ideally under **L2**), you can unzip the file using e.g. 7Zip (on\n",
        "Windows).\n",
        "\n",
        "> ``` \n",
        "> DAMSELFISH_distributions.dbf   DAMSELFISH_distributions.prj\n",
        "> DAMSELFISH_distributions.sbn   DAMSELFISH_distributions.sbx\n",
        "> DAMSELFISH_distributions.shp   DAMSELFISH_distributions.shp.xml\n",
        "> DAMSELFISH_distributions.shx\n",
        "> ```\n",
        "\n",
        "The data includes a Shapefile called **DAMSELFISH_distribution.shp**\n",
        "(and files related to it).\n",
        "\n",
        "## Reading a Shapefile\n",
        "\n",
        "Spatial data can be read easily with geopandas using [`gpd.read_file()`](https://geopandas.org/en/stable/docs/reference/api/geopandas.read_file.html#geopandas.read_file)\n",
        "-function:"
      ]
    },
    {
      "cell_type": "code",
      "metadata": {},
      "source": [
        "# Import necessary module\n",
        "import geopandas as gpd\n",
        "\n",
        "# Set filepath relative to your `geopython2023` working directory, from\n",
        "# where your Jupyter Notebook also should be started\n",
        "fp = \"../files/data/L2/DAMSELFISH_distributions.shp\"\n",
        "\n",
        "# depending if you have your notebook file (.ipynb) also under L2\n",
        "# fp = \"DAMSELFISH_distributions.shp\"\n",
        "# or full path for Windows with \"r\" and \"\\\" backslashes\n",
        "# fp = r\"C:\\Users\\kmoch\\geopython2023\\L2\\DAMSELFISH_distributions.shp\"\n",
        "\n",
        "# Read file using gpd.read_file()\n",
        "data = gpd.read_file(fp)"
      ],
      "execution_count": null,
      "outputs": []
    },
    {
      "cell_type": "markdown",
      "metadata": {},
      "source": [
        "Let's see what datatype is our 'data' variable"
      ]
    },
    {
      "cell_type": "code",
      "metadata": {},
      "source": [
        "print(type(data))"
      ],
      "execution_count": null,
      "outputs": []
    },
    {
      "cell_type": "markdown",
      "metadata": {},
      "source": [
        "So from the above we can see that our `data` -variable is a\n",
        "**GeoDataFrame**. GeoDataFrame extends the functionalities of\n",
        "**pandas.DataFrame** in a way that it is possible to use and handle\n",
        "spatial data within pandas (hence the name geopandas). GeoDataFrame have\n",
        "some special features and functions that are useful in GIS.\n",
        "\n",
        "Let's take a look at our data and print the first 5 rows using the\n",
        "`head()` -function prints the first 5 rows by default"
      ]
    },
    {
      "cell_type": "code",
      "metadata": {},
      "source": [
        "display(data.head(5))"
      ],
      "execution_count": null,
      "outputs": []
    },
    {
      "cell_type": "markdown",
      "metadata": {},
      "source": [
        "Let's also take a look how our data looks like on a map. If you just\n",
        "want to explore your data on a map, you can use `.plot()` -function in\n",
        "geopandas that creates a simple map out of the data (uses matplotlib as\n",
        "a backend):"
      ]
    },
    {
      "cell_type": "code",
      "metadata": {},
      "source": [
        "# import matplotlib, make it show plots directly in Jupyter notebooks\n",
        "import matplotlib.pyplot as plt\n",
        "\n",
        "data.plot()"
      ],
      "execution_count": null,
      "outputs": []
    },
    {
      "cell_type": "markdown",
      "metadata": {},
      "source": [
        "## Writing a spatial datafile\n",
        "\n",
        "Writing a layer into a spatial data file is something that is needed\n",
        "frequently.\n",
        "\n",
        "Typical spatial vector file formats are:\n",
        "\n",
        "-   GeoPackage (file extension: .gpkg, driver=\"GPKG\",\n",
        "    layer=\"layername\")\n",
        "-   Shapefile (file extension: .shp + several more, default)\n",
        "-   GeoJSON (file extension: .geojson, driver=\"GeoJSON\", only use for\n",
        "    web maps)\n",
        "\n",
        "Let's select 50 first rows of the input data and write those into a new\n",
        "Shapefile by first selecting the data using index slicing and then write\n",
        "the selection into a Shapefile with the `.to_file()` -function on a\n",
        "GeoDataFrame:\n",
        "\n",
        "```python\n",
        "# Create a output path for the data\n",
        "out_file_path = \"DAMSELFISH_distributions_SELECTION.shp\"\n",
        "\n",
        "# Select first 50 rows, this a the numpy/pandas syntax to ``slice`` parts out a dataframe or array, from position 0 until (excluding) 50\n",
        "selection = data[0:50]\n",
        "\n",
        "# Write those rows into a new Shapefile (the default output file format is Shapefile)\n",
        "selection.to_file(out_file_path)\n",
        "```\n",
        "\n",
        "**Task:** Open the Shapefile now in QGIS (or ArcGIS) on your computer,\n",
        "and see how the data looks like.\n",
        "\n",
        "## Geometries in Geopandas\n",
        "\n",
        "Geopandas takes advantage of Shapely's geometric objects. Geometries\n",
        "are typically stored in a column called *geometry* (or geom). This is a\n",
        "default column name for storing geometric information in geopandas.\n",
        "\n",
        "Let's print the first 5 rows of the column 'geometry':"
      ]
    },
    {
      "cell_type": "code",
      "metadata": {},
      "source": [
        "# It is possible to use only specific columns by specifying the column\n",
        "# name within square brackets []\n",
        "\n",
        "data['geometry'].head()"
      ],
      "execution_count": null,
      "outputs": []
    },
    {
      "cell_type": "markdown",
      "metadata": {},
      "source": [
        "Since spatial data is stored as Shapely objects, **it is possible to use\n",
        "all of the functionalities of Shapely module** that we practiced\n",
        "earlier.\n",
        "\n",
        "Let's print the areas of the first 5 polygons:"
      ]
    },
    {
      "cell_type": "code",
      "metadata": {},
      "source": [
        "# Make a selection that contains only the first five rows\n",
        "selection = data[0:5]"
      ],
      "execution_count": null,
      "outputs": []
    },
    {
      "cell_type": "markdown",
      "metadata": {},
      "source": [
        "We can iterate over the selected rows using a specific `.iterrows()`\n",
        "-function in (geo)pandas and print the area for each polygon:\n",
        "\n",
        "::: {.callout-note}\n",
        "As stated in the last session, area (or length) calculations purely\n",
        "based on WGS84 latitude/longitude (aka GPS) is not useful as such. To\n",
        "calculate areas reliably we would have to reproject the data into\n",
        "projected coordinate reference system. This will be introduced in the\n",
        "next lessons.\n",
        ":::"
      ]
    },
    {
      "cell_type": "code",
      "metadata": {},
      "source": [
        "for index, row in selection.iterrows():\n",
        "    # Calculate the area of the polygon\n",
        "    poly_area = row['geometry'].area\n",
        "    # Print information for the user\n",
        "    print(\"Polygon area at index {0} is: {1:.3f}\".format(index, poly_area))"
      ],
      "execution_count": null,
      "outputs": []
    },
    {
      "cell_type": "markdown",
      "metadata": {},
      "source": [
        "Hence, as you might guess from here, all the functionalities of\n",
        "**Pandas** are available directly in Geopandas without the need to call\n",
        "pandas separately because Geopandas is an **extension** for Pandas.\n",
        "\n",
        "Let's next create a new column into our GeoDataFrame where we calculate\n",
        "and store the areas individual polygons. Calculating the areas of\n",
        "polygons is really easy in geopandas by using `GeoDataFrame.area`\n",
        "attribute:"
      ]
    },
    {
      "cell_type": "code",
      "metadata": {},
      "source": [
        "#| warning: false\n",
        "data['area'] = data.area"
      ],
      "execution_count": null,
      "outputs": []
    },
    {
      "cell_type": "markdown",
      "metadata": {},
      "source": [
        "::: {.callout-warning}\n",
        "Here your notebook will likely show a warning message:\n",
        "\n",
        "`UserWarning: Geometry is in a geographic CRS. Results from 'area' are likely incorrect.\n",
        "Use 'GeoSeries.to_crs()' to re-project geometries to a projected CRS before this operation.`\n",
        "\n",
        "This is helpful and just reiterates the point, how important it is to consider in which coordinate reference system (CRS) your data is.\n",
        ":::\n",
        "\n",
        "Let's see the first 2 rows of our 'area' column."
      ]
    },
    {
      "cell_type": "code",
      "metadata": {},
      "source": [
        "display(data['area'].head(2))"
      ],
      "execution_count": null,
      "outputs": []
    },
    {
      "cell_type": "markdown",
      "metadata": {},
      "source": [
        "So we can see that the area of our first polygon seems to be 19.39 and\n",
        "6.14 for the second polygon. They correspond to the ones we saw in\n",
        "previous step when iterating rows, hence, everything seems to work as it\n",
        "should. Let's check what is the min and the max of those areas using\n",
        "familiar functions from our previous Pandas lessions."
      ]
    },
    {
      "cell_type": "code",
      "metadata": {},
      "source": [
        "# Maximum area\n",
        "max_area = data['area'].max()\n",
        "\n",
        "# Mean area\n",
        "mean_area = data['area'].mean()\n",
        "\n",
        "print(\"Max area: {:.2f}\\nMean area: {:.2f}\".format(round(max_area, 2), round(mean_area, 2)))"
      ],
      "execution_count": null,
      "outputs": []
    },
    {
      "cell_type": "markdown",
      "metadata": {},
      "source": [
        "So the largest Polygon in our dataset seems to be 1494 square decimal\n",
        "degrees (~ 165 000 km2) and the average size is ~20 square decimal\n",
        "degrees (~2200 km2).\n",
        "\n",
        "## Creating geometries into a GeoDataFrame\n",
        "\n",
        "Since geopandas takes advantage of Shapely geometric objects it is\n",
        "possible to create a Shapefile from a scratch by passing Shapely's\n",
        "geometric objects into the GeoDataFrame. This is useful as it makes it\n",
        "easy to convert e.g. a text file that contains coordinates into a\n",
        "Shapefile or other geodata format, such as GeoPackage.\n",
        "\n",
        "Let's create an empty `GeoDataFrame`."
      ]
    },
    {
      "cell_type": "code",
      "metadata": {},
      "source": [
        "# Import necessary modules first\n",
        "import pandas as pd\n",
        "import geopandas as gpd\n",
        "from shapely.geometry import Point, Polygon\n",
        "\n",
        "# Create an empty geopandas GeoDataFrame\n",
        "newdata = gpd.GeoDataFrame()\n",
        "\n",
        "# Let's see what's inside\n",
        "display(newdata)"
      ],
      "execution_count": null,
      "outputs": []
    },
    {
      "cell_type": "markdown",
      "metadata": {},
      "source": [
        "The GeoDataFrame is empty since we haven't placed any data inside.\n",
        "\n",
        "Let's create a new column called `geometry` that will contain our\n",
        "Shapely objects:"
      ]
    },
    {
      "cell_type": "code",
      "metadata": {},
      "source": [
        "#| warning: false\n",
        "# Create a new column called 'geometry' to the GeoDataFrame\n",
        "newdata['geometry'] = None\n",
        "\n",
        "# Let's see what's inside\n",
        "display(newdata)"
      ],
      "execution_count": null,
      "outputs": []
    },
    {
      "cell_type": "markdown",
      "metadata": {},
      "source": [
        "::: {.callout-tip}\n",
        "Here will likely also show a warning about an empty Geometry column:\n",
        "\n",
        "`FutureWarning: You are adding a column named 'geometry' to a GeoDataFrame constructed without an active geometry column.\n",
        "Currently, this automatically sets the active geometry column to 'geometry' but in the future that will no longer happen.\n",
        "Instead, either provide geometry to the GeoDataFrame constructor (GeoDataFrame(... geometry=GeoSeries()) \n",
        "or use 'set_geometry('geometry')' to explicitly set the active geometry column.`\n",
        "\n",
        "Typically, we will assign the geometry column through a more elaborate compute function, but here we will do it manually.\n",
        ":::\n",
        "\n",
        "Now we have a geometry column in our GeoDataFrame but we don't have any\n",
        "data yet.\n",
        "\n",
        "Let's create a Shapely Polygon representing the Tartu Townhall square\n",
        "that we can insert to our GeoDataFrame:"
      ]
    },
    {
      "cell_type": "code",
      "metadata": {},
      "source": [
        "# Coordinates of the Tartu Townhall square in Decimal Degrees\n",
        "coordinates = [(26.722117, 58.380184), (26.724853, 58.380676),\n",
        "               (26.724961, 58.380518), (26.722372, 58.379933)]\n",
        "\n",
        "# Create a Shapely polygon from the coordinate-tuple list\n",
        "poly = Polygon(coordinates)\n",
        "\n",
        "# Let's see what we have\n",
        "display(poly)"
      ],
      "execution_count": null,
      "outputs": []
    },
    {
      "cell_type": "markdown",
      "metadata": {},
      "source": [
        "So now we have appropriate Polygon -object.\n",
        "\n",
        "Let's insert the polygon into our 'geometry' column in our\n",
        "GeoDataFrame:"
      ]
    },
    {
      "cell_type": "code",
      "metadata": {},
      "source": [
        "# Insert the polygon into 'geometry' -column at index 0\n",
        "newdata.loc[0, 'geometry'] = poly\n",
        "\n",
        "# Let's see what we have now\n",
        "display(newdata)"
      ],
      "execution_count": null,
      "outputs": []
    },
    {
      "cell_type": "markdown",
      "metadata": {},
      "source": [
        "Now we have a GeoDataFrame with Polygon that we can export to a\n",
        "Shapefile.\n",
        "\n",
        "Let's add another column to our GeoDataFrame called `Location` with the\n",
        "text *Tartu Townhall Square*."
      ]
    },
    {
      "cell_type": "code",
      "metadata": {},
      "source": [
        "# Add a new column and insert data\n",
        "newdata.loc[0, 'Location'] = 'Tartu Townhall Square'\n",
        "\n",
        "# Let's check the data\n",
        "display(newdata)"
      ],
      "execution_count": null,
      "outputs": []
    },
    {
      "cell_type": "markdown",
      "metadata": {},
      "source": [
        "Now we have additional information that is useful to be able to\n",
        "recognize what the feature represents.\n",
        "\n",
        "Before exporting the data it is useful to **determine the coordinate\n",
        "reference system (projection) for the GeoDataFrame.**\n",
        "\n",
        "GeoDataFrame has a property called *.crs* that (more about projection on\n",
        "next tutorial) shows the coordinate system of the data which is empty\n",
        "(None) in our case since we are creating the data from the scratch:"
      ]
    },
    {
      "cell_type": "code",
      "metadata": {},
      "source": [
        "print(newdata.crs)"
      ],
      "execution_count": null,
      "outputs": []
    },
    {
      "cell_type": "markdown",
      "metadata": {},
      "source": [
        "Let's declare the crs for our GeoDataFrame."
      ]
    },
    {
      "cell_type": "code",
      "metadata": {},
      "source": [
        "# Set the GeoDataFrame's coordinate system to WGS84\n",
        "newdata.crs = 4326\n",
        "\n",
        "# Let's see how the crs definition looks like newdata.crs"
      ],
      "execution_count": null,
      "outputs": []
    },
    {
      "cell_type": "markdown",
      "metadata": {},
      "source": [
        "::: {.callout-info}\n",
        "Setting the coordinate reference system (crs) for the GeoDataFrame like this is\n",
        "akin to \"Assigning projection\" in ArcGIS or QGIS. We are not changing the coordinate values itself,\n",
        "but only the spatial metadata that is associated with the data.\n",
        ":::"
      ]
    },
    {
      "cell_type": "code",
      "metadata": {},
      "source": [
        "newdata.plot()"
      ],
      "execution_count": null,
      "outputs": []
    },
    {
      "cell_type": "markdown",
      "metadata": {},
      "source": [
        "Finally, we can export the data using GeoDataFrames `.to_file()`\n",
        "-function. The function works similarly as numpy or pandas, but here we\n",
        "only need to provide the output path for the Shapefile:\n",
        "\n",
        "``` python\n",
        "# Determine the output path for the Shapefile\n",
        "out_file = \"raekoja_plats.shp\"\n",
        "\n",
        "# Write the data into that Shapefile\n",
        "newdata.to_file(out_file)\n",
        "```\n",
        "\n",
        "Now we have successfully created a Shapefile from the scratch using only\n",
        "Python programming. Similar approach can be used to for example to read\n",
        "coordinates from a text file (e.g. points) and create Shapefiles from\n",
        "those automatically.\n",
        "\n",
        "**Task:** check the output Shapefile in QGIS and make sure that the\n",
        "attribute table seems correct.\n",
        "\n",
        "## Interactive plotting and data exploration with hvPlot and GeoViews\n",
        "\n",
        "Since recent versions, GeoPandas support the `.explore()` function that allows\n",
        "interactive plotting of the data. This function is based on the [hvPlot](https://hvplot.pyviz.org/)\n",
        "\n",
        "```python\n",
        "# lets use the data from the previous example\n",
        "data.explore()\n",
        "```\n",
        "\n",
        "[GeoViews](http://geoviews.org/) is a Python library that makes it easy to explore and visualize\n",
        "geographical datasets.It provides a set of coordinate-aware data types (geometries) and functions\n",
        "for visual integration with the HoloViews library.\n",
        "\n",
        "GeoViews, like matplotlib, has a large number of options to customize the plots. These will be shown in later lessons.\n",
        "For now, this only serves an example for more interactive plotting in the Jupiter notebook for your convenience, while you\n",
        "explore the datasets."
      ]
    },
    {
      "cell_type": "code",
      "metadata": {},
      "source": [
        "import geoviews as gv\n",
        "import geoviews.feature as gf\n",
        "from cartopy import crs\n",
        "\n",
        "gv.extension('bokeh')\n",
        "\n",
        "data_view = gv.Polygons(data, vdims=['ID_NO', 'BINOMIAL']).opts(tools=['hover'])\n",
        "\n",
        "(gf.coastline * data_view).opts(width=700, height=400, projection=crs.EckertIV(), global_extent=True)"
      ],
      "execution_count": null,
      "outputs": []
    },
    {
      "cell_type": "markdown",
      "metadata": {},
      "source": [
        "## Practical example: Save multiple layers in one GeoPackage\n",
        "\n",
        "One really useful function that can be used in Pandas/Geopandas is\n",
        "[.groupby()](http://pandas.pydata.org/pandas-docs/stable/generated/pandas.DataFrame.groupby.html).\n",
        "With the `Group by` function we can group data based on values on\n",
        "selected column(s).\n",
        "\n",
        "Let's group individual fish species in `DAMSELFISH_distribution.shp`\n",
        "and export to individual layers and store them conveniently in a single GeoPackage:\n",
        "\n",
        "::: {.callout-tip}\n",
        "If your `data` -variable doesn't contain the Damselfish\n",
        "data anymore, read the Shapefile again into memory using\n",
        "`gpd.read_file()` -function.\n",
        ":::"
      ]
    },
    {
      "cell_type": "code",
      "metadata": {},
      "source": [
        "# Group the data by column 'BINOMIAL'\n",
        "grouped = data.groupby('BINOMIAL')\n",
        "\n",
        "# Let's see what we got\n",
        "display(grouped)"
      ],
      "execution_count": null,
      "outputs": []
    },
    {
      "cell_type": "markdown",
      "metadata": {},
      "source": [
        "The `groupby` -function gives us an object called `DataFrameGroupBy`\n",
        "which is similar to list of keys and values (in a dictionary) that we\n",
        "can iterate over."
      ]
    },
    {
      "cell_type": "code",
      "metadata": {},
      "source": [
        "# Iterate over the group object\n",
        "\n",
        "for key, values in grouped:\n",
        "    individual_fish = values\n",
        "    print(key)"
      ],
      "execution_count": null,
      "outputs": []
    },
    {
      "cell_type": "markdown",
      "metadata": {},
      "source": [
        "Let's check again the datatype of the grouped object and what does the\n",
        "`key` variable contain"
      ]
    },
    {
      "cell_type": "code",
      "metadata": {},
      "source": [
        "# Let's see what is the LAST item that we iterated\n",
        "print(individual_fish)\n",
        "\n",
        "print(type(individual_fish))\n",
        "\n",
        "print(key)"
      ],
      "execution_count": null,
      "outputs": []
    },
    {
      "cell_type": "markdown",
      "metadata": {},
      "source": [
        "From here we can see that an individual_fish variable now contains all\n",
        "the rows that belongs to a fish called `Teixeirichthys jordani`. Notice\n",
        "that the index numbers refer to the row numbers in the original data\n",
        "-GeoDataFrame.\n",
        "\n",
        "As can be seen from the example above, each set of data are now grouped\n",
        "into separate GeoDataFrames that we can export into Shapefiles using the\n",
        "variable `key` for creating the output filepath names. Here we use a\n",
        "specific string formatting method to produce the output filename using\n",
        "the `.format()` ([read more here (we use the new style with Python3)](https://pyformat.info/)).\n",
        "\n",
        "Let's now export those species into individual GeoPackage layers.\n",
        "\n",
        "```python\n",
        "import os\n",
        "\n",
        "# Determine outputpath\n",
        "result_folder = \"results\"\n",
        "\n",
        "# Create an output path, we join two folder names together without using slash or back-slash -> avoiding operating system differences\n",
        "outfile = os.path.join(result_folder, \"DAMSELFISH_distributions.gpkg\")\n",
        "\n",
        "# Create a new folder called 'Results' (if does not exist) to that folder using os.makedirs() function\n",
        "if not os.path.exists(result_folder):\n",
        "    os.makedirs(result_folder)\n",
        "\n",
        "# Iterate over the\n",
        "for key, values in grouped:\n",
        "    # Format the filename (replace spaces with underscores)\n",
        "    updated_key = key.replace(\" \", \"_\")\n",
        "    out_name = updated_key\n",
        "\n",
        "    # Print some information for the user\n",
        "    print( \"Processing: {}\".format(out_name) )\n",
        "\n",
        "    # Export the data\n",
        "    values.to_file(outfile, layer=out_name, driver=\"GPKG\")\n",
        "```\n",
        "\n",
        "Now we have saved those individual fishes into single GeoPackage, but as separate layers and\n",
        "named each layer according to the species name. These kind of grouping\n",
        "operations can be really handy when dealing with Shapefiles. Doing\n",
        "similar process manually would be really laborious and error-prone.\n",
        "\n",
        "**Download the notebook:**\n",
        "\n",
        "[file:geopandas-basics.ipynb](../files/data/L2/geopandas-basics.ipynb)\n",
        "\n",
        "**Launch in the web/MyBinder:**\n",
        "\n",
        "[![](../files/img/colab-badge.svg)](https://colab.research.google.com/github/LandscapeGeoinformatics/geopy-2023/blob/main/L2/geopandas-basics.ipynb){target=\"blank\"}\n",
        "\n",
        "[![](https://mybinder.org/badge_logo.svg)](https://mybinder.org/v2/gh/LandscapeGeoinformatics/geopy-2023/main?filepath=L2%2Fgeopandas-basics.ipynb)\n"
      ]
    }
  ],
  "metadata": {
    "kernelspec": {
      "name": "python3",
      "language": "python",
      "display_name": "Python 3 (ipykernel)"
    }
  },
  "nbformat": 4,
  "nbformat_minor": 4
}