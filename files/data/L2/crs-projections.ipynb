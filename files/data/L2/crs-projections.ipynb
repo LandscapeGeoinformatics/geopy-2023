{
  "cells": [
    {
      "cell_type": "markdown",
      "metadata": {},
      "source": [
        "# Coordinate Reference Systems (CRS)\n",
        "\n",
        "Coordinate reference systems (CRS) are important because the geometric\n",
        "shapes in a GeoDataFrame are simply a collection of coordinates in an\n",
        "arbitrary space. A CRS tells Python how those coordinates related to\n",
        "places on the Earth. A map projection (or a projected coordinate system)\n",
        "is a systematic transformation of the latitudes and longitudes into a\n",
        "plain surface where units are quite commonly represented as meters\n",
        "(instead of decimal degrees).\n",
        "\n",
        "As map projections of gis-layers are fairly often defined differently\n",
        "(i.e. they do not match), it is a common procedure to redefine the map\n",
        "projections to be identical in both layers. It is important that the\n",
        "layers have the same projection as it makes it possible to analyze the\n",
        "spatial relationships between layers, such as in conducting the Point in\n",
        "Polygon spatial query.\n",
        "\n",
        "Coordinate Reference Systems (CRS), also referred to as Spatial\n",
        "Reference Systems (SRS), include two common types:\n",
        "\n",
        "- Geographic Coordinate Sytems\n",
        "- Projected Coordinate Systems\n",
        "\n",
        "::: {.callout-warning}\n",
        "In developer jargon and often also sloppily used by GIS technicians, the\n",
        "term \"projection\" is often used for all types of CRS/SRS. For example,\n",
        "WGS84 is called WGS84 projection. To be correct, WGS84, is a Geographic\n",
        "Coordinate System and **NOT** a projection.\n",
        ":::\n",
        "\n",
        "Little joke on the side by XKCD - [\"What you favourite Map Projection\n",
        "says about you!\"](https://xkcd.com/977/)\n",
        "\n",
        "## Geographic coordinate system (GCS)\n",
        "\n",
        "A geographic coordinate system uses a ellipsoidal surface to define\n",
        "locations on the Earth. There are three parts to a geographic coordinate\n",
        "system:\n",
        "\n",
        "-   A datum - an ellipsoidal (spheroid) model of the Earth to use.\n",
        "    Common datums include WGS84 (used in GPS).\n",
        "-   A prime meridian\n",
        "-   Angular unit of measure\n",
        "\n",
        "Both latitude and longitude are typically represented in two ways:\n",
        "\n",
        "-   Degrees, Minutes, Seconds (DMS), for example, 58° 23′ 12′ ′N, 26°\n",
        "    43′ 21′ ′E\n",
        "-   Decimal Degrees (DD) used by computers and stored as float data\n",
        "    type, for example, 58.38667 and 26.7225\n",
        "\n",
        "## Projected coordinate system (PCS)\n",
        "\n",
        "Projected coordinate systems define a flat 2D Cartesian surface. Unlike\n",
        "a geographic coordinate system, a projected coordinate system has\n",
        "constant lengths, angles, and areas across the two dimensions. A\n",
        "projected coordinate system is always based on a geographic coordinate\n",
        "system that references a specific datum.\n",
        "\n",
        "Projected Coordinate Systems consist of:\n",
        "\n",
        "-   Geographic Coordinate System\n",
        "-   Projection Method\n",
        "-   Projection Parameters (standard points and lines, Latitude of\n",
        "    Origin, Longitude of Origin, False Easting, False Northing etc)\n",
        "-   Linear units (meters, kilometers, miles etc)\n",
        "\n",
        "## Defining and changing CRSs in Geopandas\n",
        "\n",
        "Luckily, defining and changing CRSs is easy in Geopandas. In this\n",
        "tutorial we will see how to retrieve the coordinate reference system\n",
        "information from the data, and how to change it. We will re-project a\n",
        "data file from WGS84 (lat, lon coordinates) into a Lambert Azimuthal\n",
        "Equal Area projection which is the [recommended projection for\n",
        "Europe](http://mapref.org/LinkedDocuments/MapProjectionsForEurope-EUR-20120.pdf)\n",
        "by European Commission.\n",
        "\n",
        "::: {.callout-tip}\n",
        "Choosing an appropriate projection for your map is not always\n",
        "straightforward because it depends on what you actually want to\n",
        "represent with your map, and what is the spatial scale of your data. In\n",
        "fact, there does not exist a \"perfect projection\" since each one of\n",
        "them has some strengths and weaknesses, and you should choose such\n",
        "projection that fits best for your needs. There was an interesting article incl. comment thread about\n",
        "[the strengths and weaknesses of few commonly used projections](https://web.archive.org/web/20200715124418/http://usersguidetotheuniverse.com/index.php/2011/03/03/whats-the-best-map-projection/)\n",
        "\n",
        "The [original post](http://usersguidetotheuniverse.com/index.php/2011/03/03/whats-the-best-map-projection/) seems to have vanished.\n",
        ":::\n",
        "\n",
        "## Download data\n",
        "\n",
        "For this tutorial we will be using a Shapefile representing Europe.\n",
        "Download and extract:\n",
        "\n",
        "[file:Europe_borders.zip](../files/data/L2/Europe_borders.zip) \n",
        "contains a Shapefile with following files:\n",
        "\n",
        "``` \n",
        "Europe_borders.cpg  Europe_borders.prj  Europe_borders.sbx  Europe_borders.shx\n",
        "Europe_borders.dbf  Europe_borders.sbn  Europe_borders.shp\n",
        "```\n",
        "\n",
        "## Changing Coordinate Reference System\n",
        "\n",
        "GeoDataFrame that is read from a Shapefile contains *always* (well not\n",
        "always but should) information about the coordinate system in which the\n",
        "data is projected.\n",
        "\n",
        "Let's start by reading the data from the `Europe_borders.shp` file."
      ]
    },
    {
      "cell_type": "code",
      "metadata": {},
      "source": [
        "import geopandas as gpd\n",
        "\n",
        "# Filepath to the Europe borders Shapefile\n",
        "fp = \"../files/data/L2/Europe_borders.shp\"\n",
        "\n",
        "# Read data\n",
        "data = gpd.read_file(fp)"
      ],
      "execution_count": null,
      "outputs": []
    },
    {
      "cell_type": "markdown",
      "metadata": {},
      "source": [
        "We can see the current coordinate reference system from `.crs`\n",
        "attribute:"
      ]
    },
    {
      "cell_type": "code",
      "metadata": {},
      "source": [
        "print(data.crs)"
      ],
      "execution_count": null,
      "outputs": []
    },
    {
      "cell_type": "markdown",
      "metadata": {},
      "source": [
        "So from this disctionary we can see that the data is something called\n",
        "**epsg:4326**. The EPSG number (*\"European Petroleum Survey Group\"*)\n",
        "is a code that tells about the coordinate system of the dataset. \n",
        "[EPSG Geodetic Parameter Dataset](https://www.epsg.org/) is a collection of\n",
        "definitions of coordinate reference systems and coordinate\n",
        "transformations which may be global, regional, national or local in\n",
        "application. EPSG-number 4326 that we have here belongs to the WGS84\n",
        "coordinate system (i.e. coordinates are in decimal degrees (lat, lon)).\n",
        "\n",
        "You can find a lot of information about different available coordinate\n",
        "reference systems from:\n",
        "\n",
        "> -   [www.spatialreference.org](https://spatialreference.org/)\n",
        "> -   [www.epsg.io](https://epsg.io/)\n",
        "> -   [www.proj4.org](https://proj.org/operations/projections/index.html)\n",
        "> -   [www.mapref.org](http://mapref.org/CollectionofCRSinEurope.html)\n",
        "\n",
        "Let's also check the values in our `geometry` column."
      ]
    },
    {
      "cell_type": "code",
      "metadata": {},
      "source": [
        "display(data['geometry'].head())"
      ],
      "execution_count": null,
      "outputs": []
    },
    {
      "cell_type": "markdown",
      "metadata": {},
      "source": [
        "So the coordinate values of the Polygons indeed look like lat-lon\n",
        "values.\n",
        "\n",
        "Let's convert (aka reproject) those geometries into Lambert Azimuthal\n",
        "Equal Area projection\n",
        "([EPSG:3035](http://spatialreference.org/ref/epsg/etrs89-etrs-laea/)). Changing\n",
        "the CRS (and the coordinates accordingly) is really easy to [do in Geopandas](https://geopandas.org/en/stable/docs/user_guide/projections.html) with\n",
        "`.to_crs()` -function. As an input for the function, you should define\n",
        "the `epgs` value of the target CRS that you want to use."
      ]
    },
    {
      "cell_type": "code",
      "metadata": {},
      "source": [
        "# Reproject the geometries by replacing the values with projected ones\n",
        "# and assign it as a copy of our layer\n",
        "data_proj = data.to_crs(epsg=3035)"
      ],
      "execution_count": null,
      "outputs": []
    },
    {
      "cell_type": "markdown",
      "metadata": {},
      "source": [
        "Let's see how the coordinates look now."
      ]
    },
    {
      "cell_type": "code",
      "metadata": {},
      "source": [
        "display(data_proj['geometry'].head())"
      ],
      "execution_count": null,
      "outputs": []
    },
    {
      "cell_type": "markdown",
      "metadata": {},
      "source": [
        "And here we go, the numbers have changed! Now we have successfully\n",
        "changed the CRS of our layer into a new one, i.e. to ETRS-LAEA\n",
        "projection.\n",
        "\n",
        "::: {.callouti-tip}\n",
        "\n",
        "There is also possibility to pass the CRS information as proj4 strings\n",
        "or dictionaries, see more\n",
        "[here](https://geopandas.org/en/stable/docs/user_guide/projections.html)\n",
        ":::\n",
        "\n",
        "To really understand what is going on, it is good to explore our data\n",
        "visually. Hence, let's compare the datasets by making maps out of them.\n"
      ]
    },
    {
      "cell_type": "code",
      "metadata": {},
      "source": [
        "import matplotlib.pyplot as plt\n",
        "\n",
        "# Plot the WGS84\n",
        "data.plot(facecolor='gray');\n",
        "\n",
        "# Add title\n",
        "plt.title(\"WGS84 CRS\");\n",
        "\n",
        "# Remove empty white space around the plot\n",
        "plt.tight_layout()\n",
        "\n",
        "# Plot the one with ETRS-LAEA projection\n",
        "data_proj.plot(facecolor='blue');\n",
        "\n",
        "# Add title\n",
        "plt.title(\"ETRS Lambert Azimuthal Equal Area projection\");\n",
        "\n",
        "# Remove empty white space around the plot\n",
        "plt.tight_layout()"
      ],
      "execution_count": null,
      "outputs": []
    },
    {
      "cell_type": "markdown",
      "metadata": {},
      "source": [
        "Indeed, they look quite different and our re-projected one looks much\n",
        "better in Europe as the areas especially in the north are more realistic\n",
        "and not so stretched as in WGS84.\n",
        "\n",
        "Finally, let's save our projected layer into a Shapefile so that we can\n",
        "use it later.\n",
        "\n",
        "``` python\n",
        "# Ouput file path\n",
        "out_fp = \"Europe_borders_epsg3035.shp\"\n",
        "\n",
        "# Save to disk\n",
        "data_proj.to_file(out_fp)\n",
        "```\n",
        "\n",
        "::: {.callouti-note}\n",
        "It is possible to pass more specific coordinate reference definition\n",
        "information as proj4 text, like following example for EPSG:3035\n",
        ":::\n",
        "\n",
        "\n",
        "``` python\n",
        "crs_def = '+proj=laea +lat_0=52 +lon_0=10 +x_0=4321000 +y_0=3210000 +ellps=GRS80 +units=m +no_defs'\n",
        "data_proj = data.to_crs(crs_def)\n",
        "```\n",
        "\n",
        "You can find `proj4` text versions for different CRS from\n",
        "[spatialreference.org](https://spatialreference.org) or\n",
        "<https://epsg.io/>. Each page showing spatial reference information has\n",
        "links for different formats for the CRS. Click a link that says `Proj4`\n",
        "and you will get the correct proj4 text presentation for your CRS.\n",
        "\n",
        "## Calculating distances\n",
        "\n",
        "Let's, continue working with our `Europe_borders.shp` file and find out\n",
        "the Euclidean distances from the centroids of the European countries to\n",
        "Tartu, Estonia. We will calculate the distance between Tartu and other\n",
        "European countries (centroids) using a metric projection (World\n",
        "Azimuthal Equidistant) that gives us the distance in meters.\n",
        "\n",
        "Let's first import necessary packages."
      ]
    },
    {
      "cell_type": "code",
      "metadata": {},
      "source": [
        "from shapely.geometry import Point"
      ],
      "execution_count": null,
      "outputs": []
    },
    {
      "cell_type": "markdown",
      "metadata": {},
      "source": [
        "Next we need to specify our CRS to metric system using [World Azimuthal\n",
        "Equidistant -projection](https://epsg.io/54032) where distances are\n",
        "represented correctly from the center point.\n",
        "\n",
        "Let's specify our target location to be the coordinates of Tartu\n",
        "(lon=26.7290 and lat=58.3780)."
      ]
    },
    {
      "cell_type": "code",
      "metadata": {},
      "source": [
        "tartu_lon = 26.7290\n",
        "tartu_lat = 58.3780"
      ],
      "execution_count": null,
      "outputs": []
    },
    {
      "cell_type": "markdown",
      "metadata": {},
      "source": [
        "Next we need to specify a Proj4 string to reproject our data into World\n",
        "Azimuthal Equidistant in which we also want to center our projection to\n",
        "Tartu. We need to specify the `+lat_0` and `+lon_0` parameters in Proj4\n",
        "string to do this."
      ]
    },
    {
      "cell_type": "code",
      "metadata": {},
      "source": [
        "proj4_txt = '+proj=aeqd +lat_0=58.3780 +lon_0=26.7290 +x_0=0 +y_0=0 +ellps=WGS84 +datum=WGS84 +units=m +no_defs'"
      ],
      "execution_count": null,
      "outputs": []
    },
    {
      "cell_type": "markdown",
      "metadata": {},
      "source": [
        "Now we are ready to transform our `Europe_borders.shp` data into the\n",
        "desired projection. Let's create a new copy of our GeoDataFrame called\n",
        "`data_d` (d for 'distance')."
      ]
    },
    {
      "cell_type": "code",
      "metadata": {},
      "source": [
        "data_d = data.to_crs(proj4_txt)"
      ],
      "execution_count": null,
      "outputs": []
    },
    {
      "cell_type": "markdown",
      "metadata": {},
      "source": [
        "Let's take a look of our data and create a map, so we can see what we\n",
        "have now."
      ]
    },
    {
      "cell_type": "code",
      "metadata": {},
      "source": [
        "data_d.plot(facecolor='purple')\n",
        "plt.title(\"World Azimuthal Equidistant, centred on Tartu\")\n",
        "\n",
        "plt.tight_layout();"
      ],
      "execution_count": null,
      "outputs": []
    },
    {
      "cell_type": "markdown",
      "metadata": {},
      "source": [
        "From here we can see that indeed our map is now centered to Tartu as the\n",
        "0-position in both x and y is on top of Tartu.\n",
        "\n",
        "Let's continue our analysis by creating a Point object from Tartu and\n",
        "insert it into a GeoPandas GeoSeries. We also specify that the CRS of\n",
        "the GeoSeries is WGS84. You can do this by using `crs` parameter when\n",
        "creating the GeoSeries."
      ]
    },
    {
      "cell_type": "code",
      "metadata": {},
      "source": [
        "tartu = gpd.GeoSeries([Point(tartu_lon, tartu_lat)], crs=4326)"
      ],
      "execution_count": null,
      "outputs": []
    },
    {
      "cell_type": "markdown",
      "metadata": {},
      "source": [
        "Let's convert this point to the same CRS as our Europe data is."
      ]
    },
    {
      "cell_type": "code",
      "metadata": {},
      "source": [
        "tartu = tartu.to_crs(proj4_txt)\n",
        "print(tartu)"
      ],
      "execution_count": null,
      "outputs": []
    },
    {
      "cell_type": "markdown",
      "metadata": {},
      "source": [
        "Aha! So the Point coordinates of Tartu are 0. This confirms us that the\n",
        "center point of our projection is indeed Tartu.\n",
        "\n",
        "Next we need to calculate the centroids for all the Polygons of the\n",
        "European countries. This can be done easily in Geopandas by using the\n",
        "`centroid` attribute."
      ]
    },
    {
      "cell_type": "code",
      "metadata": {},
      "source": [
        "data_d['country_centroid'] = data_d.centroid\n",
        "data_d.head(2)"
      ],
      "execution_count": null,
      "outputs": []
    },
    {
      "cell_type": "markdown",
      "metadata": {},
      "source": [
        "So now we have a new column `country_centroid` that has the Point\n",
        "geometries representing the centroids of each Polygon.\n",
        "\n",
        "Now we can calculate the distances between the centroids and Tartu. We\n",
        "saw an example in an erarlier lesson/exercise where we used `apply()`\n",
        "function for doing the loop instead of using the `iterrows()` function.\n",
        "\n",
        "In (Geo)Pandas, the `apply()` function takes advantage of numpy when\n",
        "looping, and is hence much faster which can give a lot of speed benefit\n",
        "when you have many rows to iterate over. Here, we will see how we can\n",
        "use that to calculate the distance between the centroids and Tartu. We\n",
        "will create our own function to do this calculation.\n",
        "\n",
        "Let's first create our function called `calculateDistance()`."
      ]
    },
    {
      "cell_type": "code",
      "metadata": {},
      "source": [
        "def calculateDistance(row, dest_geom, src_col='geometry'):\n",
        "    \"\"\"\n",
        "    Calculates the distance between a single Shapely Point geometry and a GeoDataFrame with Point geometries.\n",
        "\n",
        "    Parameters\n",
        "    ----------\n",
        "    dest_geom : shapely.Point\n",
        "        A single Shapely Point geometry to which the distances will be calculated to.\n",
        "    src_col : str\n",
        "        A name of the column that has the Shapely Point objects from where the distances will be calculated from.\n",
        "    \"\"\"\n",
        "    # Calculate the distances\n",
        "    dist = row[src_col].distance(dest_geom)\n",
        "    # Tranform into kilometers\n",
        "    dist_km = dist/1000\n",
        "    # return the distance value\n",
        "    return dist_km"
      ],
      "execution_count": null,
      "outputs": []
    },
    {
      "cell_type": "markdown",
      "metadata": {},
      "source": [
        "The parameter row is used to pass the data from each row of our\n",
        "GeoDataFrame into our function and then the other paramaters are used\n",
        "for passing other necessary information for using our function.\n",
        "\n",
        "Before using our function and calculating the distances between Tartu\n",
        "and centroids, we need to get the Shapely point geometry from the\n",
        "re-projected Tartu center point. We can use the `get()` function to\n",
        "retrieve a value from specific index (here index 0)."
      ]
    },
    {
      "cell_type": "code",
      "metadata": {},
      "source": [
        "tartu_geom = tartu.get(0)\n",
        "print(tartu_geom)"
      ],
      "execution_count": null,
      "outputs": []
    },
    {
      "cell_type": "markdown",
      "metadata": {},
      "source": [
        "Now we are ready to use our function with `apply()` function. When using\n",
        "the function, it is important to specify that the `axis=1`. This\n",
        "specifies that the calculations should be done row by row (instead of\n",
        "column-wise)."
      ]
    },
    {
      "cell_type": "code",
      "metadata": {},
      "source": [
        "data_d['dist_to_tartu'] = data_d.apply(calculateDistance, dest_geom=tartu_geom, src_col='country_centroid', axis=1)\n",
        "data_d.head(20)"
      ],
      "execution_count": null,
      "outputs": []
    },
    {
      "cell_type": "markdown",
      "metadata": {},
      "source": [
        "Great! Now we have successfully calculated the distances between the\n",
        "Polygon centroids and Tartu. :)\n",
        "\n",
        "Let's check what is the longest and mean distance to Tartu from the\n",
        "centroids of other European countries."
      ]
    },
    {
      "cell_type": "code",
      "metadata": {},
      "source": [
        "max_dist = data_d['dist_to_tartu'].max()\n",
        "mean_dist = data_d['dist_to_tartu'].mean()\n",
        "print(\"Maximum distance to Tartu is {:.2f} km, and the mean distance is {:.2f} km.\".format(max_dist, mean_dist))"
      ],
      "execution_count": null,
      "outputs": []
    },
    {
      "cell_type": "markdown",
      "metadata": {},
      "source": [
        "::: {.callout-tip}\n",
        "If you would like to calculate distances between multiple locations\n",
        "across the globe, it is recommended to use [Haversine\n",
        "formula](https://en.wikipedia.org/wiki/Haversine_formula) to do the\n",
        "calculations. [Haversine](https://github.com/mapado/haversine) package\n",
        "in Python provides an easy-to-use function for calculating these based\n",
        "on latitude and longitude values.\n",
        ":::\n",
        "\n",
        "**Download the notebook:**\n",
        "\n",
        "[file:crs-projections.ipynb](../files/data/L2/crs-projections.ipynb)\n",
        "\n",
        "**Launch in the web/MyBinder:**\n",
        "\n",
        "[![](../files/img/colab-badge.svg)](https://colab.research.google.com/github/LandscapeGeoinformatics/geopy-2023/blob/main/L2/crs-projections.ipynb){target=\"blank\"}\n",
        "\n",
        "[![](https://mybinder.org/badge_logo.svg)](https://mybinder.org/v2/gh/LandscapeGeoinformatics/geopy-2023/main?filepath=L2%2Fcrs-projections.ipynb)"
      ]
    }
  ],
  "metadata": {
    "kernelspec": {
      "name": "python3",
      "language": "python",
      "display_name": "Python 3 (ipykernel)"
    }
  },
  "nbformat": 4,
  "nbformat_minor": 4
}