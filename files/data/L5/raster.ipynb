{
  "cells": [
    {
      "cell_type": "markdown",
      "metadata": {},
      "source": [
        "# Working with Raster data\n",
        "\n",
        "## Data Structures Recap: Raster and Vector\n",
        "\n",
        "The two primary types of geospatial data are raster and vector data:\n",
        "\n",
        "-   Vector data structures represent specific features on the Earth's\n",
        "    surface, and assign attributes to those features.\n",
        "-   Raster data is stored as a grid of values which are rendered on a\n",
        "    map as pixels. Each pixel value represents an area on the Earth's\n",
        "    surface.\n",
        "\n",
        "Raster data is any pixelated (or gridded) data where each pixel is\n",
        "associated with a specific geographical location. The value of a pixel\n",
        "can be continuous (e.g. elevation) or categorical (e.g. land use). If\n",
        "this sounds familiar, it is because this data structure is very common:\n",
        "it's how we represent any digital image. A geospatial raster is only\n",
        "different from a digital photo in that it is accompanied by spatial\n",
        "information that connects the data to a particular location. This\n",
        "includes the raster's extent and cell size, the number of rows and\n",
        "columns, and its coordinate reference system (or CRS).\n",
        "\n",
        "![image](../files/img/raster_concept.png){width=\"500px\"}\n",
        "\n",
        "*Source: National Ecological Observatory Network (NEON)*\n",
        "\n",
        "Common properties of any raster:\n",
        "\n",
        "-   number of rows and columns (sometimes referred to as lines and\n",
        "    samples)\n",
        "-   data type (dtype, or bit depth) - e.g., 8-bit (2^8 possible values,\n",
        "    0-255)\n",
        "-   some kind of resolution information, often dots per inch (dpi) with\n",
        "    raster graphics\n",
        "\n",
        "A geospatial raster is only different from a digital photo in that it is\n",
        "accompanied by metadata that connects the grid to a particular location.\n",
        "\n",
        "### Examples of continuous rasters\n",
        "\n",
        "2.  Digital Elevation Models (DEMs) such as [ASTER\n",
        "    GDEM](https://asterweb.jpl.nasa.gov/gdem.asp)\n",
        "3.  Satellite imagery such as those acquired by\n",
        "    [Landsat](https://landsat.usgs.gov) or\n",
        "    [MODIS](https://modis.gsfc.nasa.gov)\n",
        "4.  Maps of canopy height derived from LiDAR data.\n",
        "\n",
        "A map of elevation for Harvard Forest derived from the [NEON AOP LiDAR\n",
        "sensor](http://www.neonscience.org/data-collection/airborne-remote-sensing)\n",
        "is below. Elevation is represented as continuous numeric variable in\n",
        "this map. The legend shows the continuous range of values in the data\n",
        "from around 300 to 420 meters.\n",
        "\n",
        "![image](../files/img/rmd-01-elevation-map-1.png){width=\"500px\"}\n",
        "\n",
        "### Examples of categorical rasters\n",
        "\n",
        "Some rasters contain categorical data where each pixel represents a\n",
        "discrete class such as a landcover type (e.g., \"coniferous forest\" or\n",
        "\"grassland\") rather than a continuous value such as elevation or\n",
        "temperature. Some examples of classified maps include:\n",
        "\n",
        "1.  Landcover / land-use maps\n",
        "2.  Snowcover masks (binary snow or no snow)\n",
        "\n",
        "The following map shows elevation data for the NEON Harvard Forest field\n",
        "site. In this map, the elevation data (a continuous variable) has been\n",
        "divided up into categories to yield a categorical raster.\n",
        "\n",
        "![image](../files/img/rmd-01-classified-elevation-map-1.png){height=\"500px\"}\n",
        "\n",
        "### Raster Advantages and Disadvantages\n",
        "\n",
        "Advantages:\n",
        "\n",
        "-   efficient representation of continuous surfaces\n",
        "-   cell-by-cell calculations can be very fast and efficient\n",
        "-   potentially very high levels of detail\n",
        "-   data is 'unweighted' across its extent\n",
        "\n",
        "Disadvantages:\n",
        "\n",
        "-   very large file sizes as cell size gets smaller\n",
        "-   can be difficult to represent complex information\n",
        "-   Measurements are spatially arranged in a regular grid, which may not\n",
        "    be an accurate representation of real-world phenomena\n",
        "-   Space-filling model assumes that all pixels have value\n",
        "-   Changes in resolution can drastically change the meaning of values\n",
        "    in a dataset\n",
        "\n",
        "### What makes a raster geospatial?\n",
        "\n",
        "A raster is just an image in local pixel coordinates until we specify\n",
        "what part of the earth the image covers. This is done through two\n",
        "fundamental pieces of metadata that accompany the pixel values of the\n",
        "image:\n",
        "\n",
        "1.  Coordinate Reference System or \"CRS\"\n",
        "\n",
        "This specifies the datum, projection, and additional parameters needed\n",
        "to place the raster in geographic space, see [lesson 2 crs and\n",
        "projections](../L2/crs-projections.html).\n",
        "\n",
        "![image](../files/img/us_crs.jpg){width=\"500px\"}\n",
        "\n",
        "2.  Geotransformation\n",
        "\n",
        "This is the essential matrix that relates the raster pixel coordinates\n",
        "(rows, columns) to the geographic coordiantes (x and y defined by the\n",
        "CRS). This is typically a 6-parameter transformation that defines the\n",
        "origin, pixel size and rotation of the raster in the geographic\n",
        "coordinate system:\n",
        "\n",
        "``` \n",
        "Xgeo = GT(0) + Xpixel*GT(1) + Yline*GT(2)\n",
        "Ygeo = GT(3) + Xpixel*GT(4) + Yline*GT(5)\n",
        "```\n",
        "\n",
        "Defining this for the whole image allows the image's pixels to be\n",
        "referenced by a local array index rather than global coordinates, and\n",
        "answers questions such as:\n",
        "\n",
        "-   How much area does a given pixel cover?\n",
        "-   Given the CRS, what is the origin?\n",
        "-   In what direction does the raster \"grow\" as pixel indices\n",
        "    increase?\n",
        "\n",
        "3.  Extent / BBOX\n",
        "\n",
        "The affine transformation specifies an \"extent\" or \"bounding box\",\n",
        "which is defined by the minimum and maximum x and y coordinates of the\n",
        "data.\n",
        "\n",
        "4.  Resolution / Posting\n",
        "\n",
        "The affine transformation specifies a pixel size of the area on the\n",
        "ground that each pixel of the raster covers. This is often refered to as\n",
        "\"resolution\", but because images are often resampled to different\n",
        "resolutions it is also refered to as \"posting\" or \"ground sample\n",
        "distance (gsd)\". Ultimately, \"resolution\" refers to a sensors ability\n",
        "to distinguish different objects on the ground. The image below\n",
        "illustrates the effect of changes in resolution:\n",
        "\n",
        "![image](../files/img/raster_resolution.png){width=\"500px\"}\n",
        "\n",
        "*Source: National Ecological Observatory Network (NEON)*\n",
        "\n",
        "More resources:\n",
        "\n",
        "-   <https://gdal.org/user/raster_data_model.html>\n",
        "-   <https://rasterio.readthedocs.io/en/stable/>\n",
        "-   <https://docs.xarray.dev/en/stable/index.html>\n",
        "-   <https://earthpy.readthedocs.io/en/latest/>\n",
        "\n",
        "### Multi-band Raster Data\n",
        "\n",
        "A raster can contain one or more bands. In a multi-band dataset, the\n",
        "rasters will always have the same extent, resolution, and CRS. Each band\n",
        "represents light reflected (or emmitted) from the different portions of\n",
        "the electromagnetic spectrum. The pixel brightness for each band, when\n",
        "composited creates the colors that we see in an image.\n",
        "\n",
        "![image](../files/img/ETM+vOLI-TIRS-web_Feb20131_sm.jpg){height=\"400px\"}\n",
        "\n",
        "*Source: L.Rocchio & J.Barsi*\n",
        "\n",
        "One type of multi-band raster dataset that is familiar to many of us is\n",
        "a color image. A basic color image consists of three bands: red, green,\n",
        "and blue.\n",
        "\n",
        "![image](../files/img/RGBSTack_1.jpg){width=\"500px\"}\n",
        "\n",
        "*Source: National Ecological Observatory Network (NEON).*\n",
        "\n",
        "Multi-band raster data might also contain:\n",
        "\n",
        "1.  Time series: the same variable, over the same area, over time\n",
        "2.  Multi or hyperspectral imagery: image rasters that have 4 or more\n",
        "    (multi-spectral) or more than 10-15 (hyperspectral) bands\n",
        "\n",
        "::: {.callout-tip}\n",
        "\n",
        "Key points\n",
        "\n",
        "-   Raster data is pixelated data stored as a matrix\n",
        "-   Raster images are often packaged as multidimensional arrays -\n",
        "    containing for example RGB and other spectral bands\n",
        "-   Geospatial raster data always has a coordinate reference system\n",
        "    (CRS) and geotransform that maps image coordinates to locations on\n",
        "    Earth's surface\n",
        "-   People often refer to \"resolution\" as the ground pixel size of a\n",
        "    raster, but more specifically it refers to the sensor's ability to\n",
        "    disabiguate adjacent objects on the ground\n",
        ":::\n",
        "\n",
        "## Exploring and visualisation of raster data\n",
        "\n",
        "[Rasterio](https://rasterio.readthedocs.io/en/stable/) is a very useful\n",
        "module for raster processing which you can use for reading and writing\n",
        "several different raster formats in Python. Rasterio is based on GDAL\n",
        "and Python automatically registers all known GDAL drivers for reading\n",
        "supported formats when importing the module. Most common file formats\n",
        "include for example TIFF and GeoTIFF, ASCII Grid and Erdas Imagine .img\n",
        "-files.\n",
        "\n",
        "Download [example tif raster file\n",
        "forest_loss_porijogi_wgs84.tif](../files/data/L5/forest_loss_porijogi_wgs84.tif)\n",
        "\n",
        "This is a categorical raster containing one band, which is representing\n",
        "the measured (by satellite) forest loss of the years 2001-2018. Each\n",
        "raster cell should have a value, from 0 to 18, representing 0: no forest\n",
        "loss, or one of the numbers 1-18, indicating forest less in this cell in\n",
        "the year 20xx.\n",
        "\n",
        "Let's open the dataset:"
      ]
    },
    {
      "cell_type": "code",
      "metadata": {},
      "source": [
        "import matplotlib.pyplot as plt\n",
        "import rasterio\n",
        "\n",
        "dataset = rasterio.open('../files/data/L5/forest_loss_porijogi_wgs84.tif')"
      ],
      "execution_count": null,
      "outputs": []
    },
    {
      "cell_type": "markdown",
      "metadata": {},
      "source": [
        "The `dataset` handle in rasterio provides many useful informative\n",
        "attributes:"
      ]
    },
    {
      "cell_type": "code",
      "metadata": {},
      "source": [
        "print(dataset.name)\n",
        "print(dataset.mode)\n",
        "print(dataset.count)\n",
        "print(dataset.width)\n",
        "print(dataset.height)\n",
        "print(dataset.crs)\n",
        "print(dataset.bounds)"
      ],
      "execution_count": null,
      "outputs": []
    },
    {
      "cell_type": "markdown",
      "metadata": {},
      "source": [
        "Another interesting, slightly more complex, attribute is the profile.\n",
        "Where we can quickly see a variety of important aspects."
      ]
    },
    {
      "cell_type": "code",
      "metadata": {},
      "source": [
        "print(dataset.profile)"
      ],
      "execution_count": null,
      "outputs": []
    },
    {
      "cell_type": "markdown",
      "metadata": {},
      "source": [
        "As explained above in the introduction, this is the Geotransformation /\n",
        "Geotransform:"
      ]
    },
    {
      "cell_type": "code",
      "metadata": {},
      "source": [
        "print(dataset.transform)\n",
        "\n",
        "for i in range(len(dataset.indexes) ):\n",
        "    print(\"{}: {}\".format(i, dataset.dtypes[i]))"
      ],
      "execution_count": null,
      "outputs": []
    },
    {
      "cell_type": "markdown",
      "metadata": {},
      "source": [
        "Each raster dataset can have several so called bands. Each band in\n",
        "Python and Rasterio is essentially handled as a Numpy array, `ndarray`.\n",
        "The same computationally efficient data structure that also underlies\n",
        "our Pandas dataframes."
      ]
    },
    {
      "cell_type": "code",
      "metadata": {},
      "source": [
        "# reading the first band (not from zero!)\n",
        "band1 = dataset.read(1)\n",
        "display(band1)"
      ],
      "execution_count": null,
      "outputs": []
    },
    {
      "cell_type": "markdown",
      "metadata": {},
      "source": [
        "And similarly to other plotting mechanisms, like we use for Pandas or\n",
        "Geopandas, we use `matplotlib` for the foundational functionality. Now,\n",
        "as we learned, raster datasets are essentially \"just\" pixels in a\n",
        "properly organized grid - an image - we can use default plotting from\n",
        "matplotlib and numpy to plot a basic 2D image."
      ]
    },
    {
      "cell_type": "code",
      "metadata": {},
      "source": [
        "import matplotlib.pyplot as plt\n",
        "# add this in your Jupyter Notebook too\n",
        "%matplotlib inline\n",
        "\n",
        "plt.imshow(band1)\n",
        "\n",
        "plt.tight_layout()"
      ],
      "execution_count": null,
      "outputs": []
    },
    {
      "cell_type": "markdown",
      "metadata": {},
      "source": [
        "For convenience, Rasterio provides its own slightly advancd plot method,\n",
        "called `show()`, where we can either add the whole dataset or specific\n",
        "bands. In order to retain the geotransform logic when plotting a\n",
        "rasterio image, it is of advantage to use the `tuple`-based\n",
        "nomenclature:"
      ]
    },
    {
      "cell_type": "code",
      "metadata": {},
      "source": [
        "from rasterio.plot import show\n",
        "\n",
        "# band1 is just a numpy ndarray\n",
        "show(band1)\n",
        "\n",
        "# a tuple -> (dataset, 1) indicating the first band in the\n",
        "# raster dataset\n",
        "\n",
        "show((dataset, 1))\n",
        "\n",
        "# the whole dataset, eg. RGB bands\n",
        "# making up the normal colorspctrum\n",
        "show(dataset)\n",
        "\n",
        "plt.tight_layout()"
      ],
      "execution_count": null,
      "outputs": []
    },
    {
      "cell_type": "markdown",
      "metadata": {},
      "source": [
        "Let's dig deeper into our categorical raster. We use numpy's `unique`\n",
        "function to extract all occurring unique values (in our case: the\n",
        "year-based classes). And then we manually calculate the histgram with\n",
        "numpy, too:"
      ]
    },
    {
      "cell_type": "code",
      "metadata": {},
      "source": [
        "import numpy as np\n",
        "\n",
        "# get classes\n",
        "uniq_vals = np.unique(band1)\n",
        "\n",
        "# display sorted order\n",
        "print(sorted(uniq_vals))\n",
        "\n",
        "# Patches = the matplotlib objects drawn\n",
        "counts, bins = np.histogram(band1, bins=18)\n",
        "\n",
        "# Print histogram outputs\n",
        "for i in range(len(bins)-1):\n",
        "    print(\"bin lower bound:\", bins[i])\n",
        "    print(\"counts:\", counts[i])"
      ],
      "execution_count": null,
      "outputs": []
    },
    {
      "cell_type": "markdown",
      "metadata": {},
      "source": [
        "Now, a short side note on adding a custom legend to our plot. Sometimes,\n",
        "we can't get the legend information from the image, so provide it\n",
        "directly. We use the \"viridis\" colormap as a base, which is a\n",
        "colorband with 256 colors forming the spectrum of this colormap. We then\n",
        "evenly take color definition elements out of that colormap and assign\n",
        "them to our classes. The even steps are derived from the number of\n",
        "values in our raster dataset, i.e. in this particular nump ndarray."
      ]
    },
    {
      "cell_type": "code",
      "metadata": {},
      "source": [
        "from matplotlib.patches import Patch\n",
        "from matplotlib.colors import BoundaryNorm\n",
        "from matplotlib import rcParams, cycler\n",
        "\n",
        "fig, ax = plt.subplots()\n",
        "\n",
        "cmap = plt.cm.viridis\n",
        "\n",
        "lst = [int(x) for x in np.linspace(0,255,19)]\n",
        "\n",
        "legend_patches = [Patch(color=icolor, label=label) for icolor, label in zip( cmap(lst), sorted(uniq_vals))]\n",
        "\n",
        "ax.legend(handles=legend_patches, facecolor=\"white\", edgecolor=\"white\", bbox_to_anchor=(1.35, 1))\n",
        "\n",
        "plt.imshow(band1, cmap=cmap, interpolation='nearest')\n",
        "\n",
        "plt.tight_layout()"
      ],
      "execution_count": null,
      "outputs": []
    },
    {
      "cell_type": "markdown",
      "metadata": {},
      "source": [
        "It also always advisable to look at the distribution of values visually,\n",
        "like a histogram plot:"
      ]
    },
    {
      "cell_type": "code",
      "metadata": {},
      "source": [
        "from rasterio.plot import show_hist\n",
        "\n",
        "show_hist(dataset, bins=19, lw=0.0, stacked=False, alpha=0.3, histtype='stepfilled', title=\"Histogram\")\n",
        "plt.tight_layout()"
      ],
      "execution_count": null,
      "outputs": []
    },
    {
      "cell_type": "markdown",
      "metadata": {},
      "source": [
        "With matplotlib it is also easy to build multi-figure plots:"
      ]
    },
    {
      "cell_type": "code",
      "metadata": {},
      "source": [
        "fig, (ax_dat, ax_hist) = plt.subplots(1, 2, figsize=(14,7))\n",
        "\n",
        "ax_dat.legend(handles=legend_patches, facecolor=\"white\", edgecolor=\"white\")\n",
        "\n",
        "show((dataset, 1), ax=ax_dat)\n",
        "\n",
        "show_hist((dataset, 1), bins=19, ax=ax_hist)\n",
        "\n",
        "plt.tight_layout()"
      ],
      "execution_count": null,
      "outputs": []
    },
    {
      "cell_type": "markdown",
      "metadata": {},
      "source": [
        "## Reproject a raster\n",
        "\n",
        "As we learned before, in order to perform meaning spatial operations and\n",
        "analyses, we need to make sure that our spatial datasets are in the same\n",
        "coordinate reference system. In addition, if we want to make assumptions\n",
        "about distances or areas we should consider using a projected coordinate\n",
        "reference system that has its units of measurement defined in e.g.\n",
        "metres. This is the same for raster data, where each pixel represents a\n",
        "certain area. Typically, all pixels are assumed to represent the same\n",
        "size.\n",
        "\n",
        "In order to reproject a raster, we have to get a bit more involved. But\n",
        "before we get in-depth, a short side-note on Python resources handling.\n",
        "When files are opened, they are controlled by the Python process through\n",
        "a so called filehandle. If these filehandles are not closed properly, it\n",
        "can cause problems, such as data not been written to the harddisk,\n",
        "several filehandles looking at the same file causing undefind behaviour,\n",
        "or general resource-shortage, which becomes a problem, when many\n",
        "thousands of files are opened but not closed.\n",
        "\n",
        "In Python we can open a file and work with it like so:\n",
        "\n",
        "``` python\n",
        "fh = open(\"data.csv\", \"rw\"):\n",
        "\n",
        "for lines in fh.readlines():\n",
        "    do_something()\n",
        "    fh.write(\"new data,1,2,3n\")\n",
        "\n",
        "# fh.flush()\n",
        "fh.close()\n",
        "```\n",
        "\n",
        "`fh` represents the filehandle. Once it is open, it will be around for\n",
        "the lifetime of your program or Python session. If you use it later\n",
        "again, you should make sure, that your data is always written properly,\n",
        "e.g. with the `flush()` method.\n",
        "\n",
        "Python provides also a more \"sophisticated\" way, in the form similar\n",
        "to the \"for\" comprehensions that we use to go over lists, etc. Here\n",
        "Python manages not the iterating for us, but the opening and closing of\n",
        "the file. Everything in the `with` block below is safe, and once the\n",
        "block is completed, the `flush` and `close` are managed by Python and\n",
        "the file is safely and reliably written and closed. We will see this\n",
        "pattern today occasionally.\n",
        "\n",
        "``` python\n",
        "with open(\"data.csv\") as fh:\n",
        "    fh.read()\n",
        "    fh.write()\n",
        "\n",
        "# done, no flush or close necessary\n",
        "```\n",
        "\n",
        "Now let's reproject the forest loss example tif from WGS84 to the\n",
        "Estonian grid 1997, aka EPSG:3301. FYI, We are still using the same\n",
        "[example tif raster file\n",
        "forest_loss_porijogi_wgs84.tif](../files/data/L5/forest_loss_porijogi_wgs84.tif)."
      ]
    },
    {
      "cell_type": "code",
      "metadata": {},
      "source": [
        "import numpy as np\n",
        "import rasterio\n",
        "from rasterio.warp import calculate_default_transform, reproject, Resampling\n",
        "\n",
        "dst_crs = 'EPSG:3301'\n",
        "\n",
        "with rasterio.open('../files/data/L5/forest_loss_porijogi_wgs84.tif') as src:\n",
        "    transform, width, height = calculate_default_transform(src.crs, dst_crs, src.width, src.height, *src.bounds)\n",
        "    kwargs = src.meta.copy()\n",
        "    kwargs.update({ 'crs': dst_crs, 'transform': transform, 'width': width, 'height': height })\n",
        "\n",
        "    with rasterio.open('../files/data/L5/forest_loss_porijogi_3301.tif', 'w',**kwargs) as dst:\n",
        "        for i in range(1, src.count + 1):\n",
        "            reproject(\n",
        "                source=rasterio.band(src, i),\n",
        "                destination=rasterio.band(dst, i),\n",
        "                src_transform=src.transform, src_crs=src.crs,\n",
        "                dst_transform=transform, dst_crs=dst_crs,\n",
        "                resampling=Resampling.nearest)"
      ],
      "execution_count": null,
      "outputs": []
    },
    {
      "cell_type": "markdown",
      "metadata": {},
      "source": [
        "A lot of stuff happened here:\n",
        "\n",
        "1.  We do the imports and then we define our target CRS. No surprises\n",
        "    here. Then we open a first `with` block to open our source dataset.\n",
        "2.  we calculate a standard transformation (the pre-calculation so to\n",
        "    say) `calculate_default_transform` with the information from source\n",
        "    dataset and the taret CRS.\n",
        "3.  We copy the metadata from the original source dataset into a\n",
        "    dictionary object `kwargs` (keyword arguments, just a structure with\n",
        "    additional parameters and values)\n",
        "4.  We update some important information in the kwargs object, in\n",
        "    particular the newly calulated values for transform and CRS\n",
        "5.  We are still within the first `with` block for reading the source,\n",
        "    and now open a nested new `with` block for writing the projected\n",
        "    data to file.\n",
        "6.  For each band then we do the actual `reproject` with the calculated\n",
        "    parameters from source to destination.\n",
        "\n",
        "Let's open the written file to look at it.\n",
        "\n",
        "``` python\n",
        "# quickly load and check\n",
        "with rasterio.open('../files/data/L5/forest_loss_porijogi_3301.tif', 'r') as data2:\n",
        "    print(data2.profile)\n",
        "    show(data2, cmap=cmap)\n",
        "```\n",
        "\n",
        "This is equivalent to above, but keeps the `data2` fiel handle open, which is not ideal in many cases,\n",
        "but sometimes you want to refer to it later.\n",
        "\n",
        "``` python\n",
        "data2 = rasterio.open('../files/data/L5/forest_loss_porijogi_3301.tif', 'r')\n",
        "\n",
        "print(data2.profile)\n",
        "show(data2, cmap=cmap)\n",
        "plt.tight_layout()\n",
        "```\n",
        "\n",
        "More details:\n",
        "<https://rasterio.readthedocs.io/en/stable/topics/reproject.html>\n",
        "\n",
        "## Clipping a raster\n",
        "\n",
        "One common task in raster processing is to clip raster files based on a\n",
        "Polygon. We will reuse the Porijõgi GeoJSON-file from last lecture or\n",
        "[download here\n",
        "porijogi_sub_catchments.geojson](../files/data/L3/porijogi_sub_catchments.geojson).\n",
        "\n",
        "At first let's juts quickly load and look at the vector dataset."
      ]
    },
    {
      "cell_type": "code",
      "metadata": {},
      "source": [
        "import geopandas as gpd\n",
        "\n",
        "catchments = gpd.read_file('../files/data/L5/porijogi_sub_catchments.geojson')\n",
        "\n",
        "print(catchments.crs)\n",
        "print(catchments.head(5))\n",
        "\n",
        "# plot to quickly again to see its geographic layout\n",
        "catchments.plot()\n",
        "plt.tight_layout()"
      ],
      "execution_count": null,
      "outputs": []
    },
    {
      "cell_type": "markdown",
      "metadata": {},
      "source": [
        "In order to use the features, technically only the polygon geometries,\n",
        "for clipping in Rasterio, we need to provide them in a slightly more\n",
        "low-level format. We remember that the `fiona` library works actually\n",
        "under the hood of our now well-known Geopandas library. With fiona we\n",
        "can open vector/feature datasets directly without loading them into a\n",
        "dataframe. Here we extract the \"low-level\" geometry object with fiona\n",
        "in order to obtain our vector mask.\n",
        "\n",
        "We have to make sure the data is in the same coordinate reference system, too!"
      ]
    },
    {
      "cell_type": "code",
      "metadata": {},
      "source": [
        "catchments_3301 = catchments.to_crs(epsg=3301)\n",
        "shapes = list(catchments_3301.geometry)"
      ],
      "execution_count": null,
      "outputs": []
    },
    {
      "cell_type": "markdown",
      "metadata": {},
      "source": [
        "With this list `shapes` tha twe just created we can pass the polygons to\n",
        "the `mask` function of Rasterio to do the clipping. The clipping itself\n",
        "is pretty straightfoward. Here we demonstrate the opening of the raster\n",
        "dataset without a `with` block, so simply opening it and working with\n",
        "the filehandle thereof, and eventually closing it again.\n",
        "\n",
        "The shapes values must be a GeoJSON-like dict or an object that implements the Python geo interface protocol (such as a Shapely Polygon)."
      ]
    },
    {
      "cell_type": "code",
      "metadata": {},
      "source": [
        "from rasterio.mask import mask\n",
        "\n",
        "# we have to use the newly created reprojected raster file\n",
        "data2 = rasterio.open('../files/data/L5/forest_loss_porijogi_3301.tif', 'r')\n",
        "\n",
        "# Clip the raster with Polygon\n",
        "out_image, out_transform = mask(dataset=data2, shapes=shapes, crop=True)\n",
        "\n",
        "out_meta = data2.meta.copy()\n",
        "\n",
        "data2.close()"
      ],
      "execution_count": null,
      "outputs": []
    },
    {
      "cell_type": "markdown",
      "metadata": {},
      "source": [
        "The whole work during the clipping process is very similar to the\n",
        "reprojecting workflow. As we change the dimension of the raster data,\n",
        "because we are literally clipping stuff off it, we have to retrieve a\n",
        "new transform together with the raw data. We keep some of the original\n",
        "meta information again, but we update of course dimensions and transform\n",
        "before we write the new dataset to file."
      ]
    },
    {
      "cell_type": "code",
      "metadata": {},
      "source": [
        "print(out_meta)\n",
        "\n",
        "out_meta.update({\"driver\": \"GTiff\",\n",
        "                 \"height\": out_image.shape[1],\n",
        "                 \"width\": out_image.shape[2],\n",
        "                 \"transform\": out_transform})\n",
        "\n",
        "with rasterio.open(\"../files/data/L5/forest_loss_clipped.tif\", \"w\", **out_meta) as dest:\n",
        "    dest.write(out_image)"
      ],
      "execution_count": null,
      "outputs": []
    },
    {
      "cell_type": "markdown",
      "metadata": {},
      "source": [
        "And let's load the newly created clipped raster:"
      ]
    },
    {
      "cell_type": "code",
      "metadata": {},
      "source": [
        "# quickly load and check\n",
        "with rasterio.open('../files/data/L5/forest_loss_clipped.tif', 'r') as data3:\n",
        "    print(data3.profile)\n",
        "    show(data3, cmap=cmap)"
      ],
      "execution_count": null,
      "outputs": []
    },
    {
      "cell_type": "markdown",
      "metadata": {},
      "source": [
        "More details:\n",
        "<https://rasterio.readthedocs.io/en/stable/topics/masking-by-shapefile.html>\n",
        "\n",
        "## Calculating zonal statistics\n",
        "\n",
        "Often we want to summarize raster datasets based on vector geometries,\n",
        "such as calculating the average elevation of specific area or\n",
        "aggregating summaries of areas or other count-based statistics per pixel\n",
        "under given polygons.\n",
        "[Rasterstats](https://pythonhosted.org/rasterstats/index.html) is a\n",
        "Python module that works on top of Rasterio and does exactly that.\n",
        "\n",
        "Continuous raster are representing a continuous surface of the\n",
        "distribution of a phenomenon in space - e.g. elevation or temperature.\n",
        "DEMs are continuous rasters and now we want to look at a Digital\n",
        "Elevation Model (DEM) raster file:\n",
        "[dem.tif](../files/data/L5/dem.tif).\n",
        "\n",
        "We are again reusing the Porijõgi GeoJSON-file from last lecture:\n",
        "[porijogi_sub_catchments.geojson](../files/data/L3/porijogi_sub_catchments.geojson).\n",
        "These will be our polygons for which we want to aggregate summary\n",
        "statistics from the DEM raster.\n",
        "\n",
        "Now let's open the DEM and inspect its attributes:"
      ]
    },
    {
      "cell_type": "code",
      "metadata": {},
      "source": [
        "demdata = rasterio.open('../files/data/L5/dem.tif')\n",
        "\n",
        "print(demdata.name)\n",
        "print(demdata.mode)\n",
        "print(demdata.count)\n",
        "print(demdata.width)\n",
        "print(demdata.height)\n",
        "print(demdata.crs)\n",
        "print(demdata.bounds)"
      ],
      "execution_count": null,
      "outputs": []
    },
    {
      "cell_type": "markdown",
      "metadata": {},
      "source": [
        "And we can also plot vector features and raster datasets together:\n",
        "Again, we make sure we are plotting on top of the same \"axes\", we use\n",
        "the Rasterio `show` function and tell it to plot the the first band in\n",
        "the `demdata` dataset, and then we plot our Geopandas dataframe on top\n",
        "of it. We have to be sure of course, that our datasets are in the same\n",
        "spatial coordinate reference system."
      ]
    },
    {
      "cell_type": "code",
      "metadata": {},
      "source": [
        "fig, ax = plt.subplots(1, figsize=(9, 7))\n",
        "\n",
        "show((demdata, 1), cmap='terrain', interpolation='none', ax=ax)\n",
        "\n",
        "catchments_3301.plot(ax=ax, facecolor=\"none\", edgecolor='black', lw=0.7)\n",
        "\n",
        "plt.title(\"Elevation in the Porijogi catchment\")\n",
        "\n",
        "plt.tight_layout()"
      ],
      "execution_count": null,
      "outputs": []
    },
    {
      "cell_type": "markdown",
      "metadata": {},
      "source": [
        "Importing and calling the zonal statistics function from the Rasterstats\n",
        "module is very easy. However, we have to be aware that we directly refer\n",
        "to the file paths of the datasets, and not to a variable containing a\n",
        "numpy array or dataframe! We can name the desired statistics via the\n",
        "`stats` parameter. [Check the detailed\n",
        "API](https://pythonhosted.org/rasterstats/manual.html#zonal-statistics)\n",
        "which statistics are available.\n",
        "\n",
        "We can also reuse our reprojected catchment shapes from above."
      ]
    },
    {
      "cell_type": "code",
      "metadata": {},
      "source": [
        "from rasterstats import zonal_stats\n",
        "\n",
        "zs = zonal_stats(shapes, '../files/data/L5/dem.tif', stats=['mean','std'])\n",
        "print(zs)"
      ],
      "execution_count": null,
      "outputs": []
    },
    {
      "cell_type": "markdown",
      "metadata": {},
      "source": [
        "The `zs` variable is a list of dictionary objects that holds the\n",
        "calculated statistics for each feature/polygon in the same order. So we\n",
        "have to rely on the order of the features in the source GeoJSON file for\n",
        "the zonal_statistics to be the same as in our Geopandas dataframe. But\n",
        "because *computers* we can, and we make this a list into a Pandas\n",
        "dataframe and just concat (join/merge by merely \"plucking it onto\") as\n",
        "additional columns."
      ]
    },
    {
      "cell_type": "code",
      "metadata": {},
      "source": [
        "import pandas as pd\n",
        "\n",
        "demstats_df = pd.DataFrame(zs)\n",
        "\n",
        "demstats_df.rename(columns={'mean':'dem_mean','std':'dem_std'}, inplace=True)\n",
        "\n",
        "catchments_3301 = pd.concat([catchments_3301, demstats_df], axis=1)"
      ],
      "execution_count": null,
      "outputs": []
    },
    {
      "cell_type": "markdown",
      "metadata": {},
      "source": [
        "We also rename the columns to be more explicit of the meaning of the\n",
        "calculated variable. Finally, we plot our catchments geodataframe based\n",
        "on the `dem_mean` column. The distribution of mean elevation within the\n",
        "catchment makes sense, the outlet is in the North-East."
      ]
    },
    {
      "cell_type": "code",
      "metadata": {},
      "source": [
        "fig, ax = plt.subplots(1, 1)\n",
        "\n",
        "plt.title(\"Mean elevation per subcatchment\")\n",
        "\n",
        "catchments_3301.plot(column='dem_mean', ax=ax, legend=True)\n",
        "\n",
        "plt.tight_layout()"
      ],
      "execution_count": null,
      "outputs": []
    },
    {
      "cell_type": "markdown",
      "metadata": {},
      "source": [
        "**Download the notebook:**\n",
        "\n",
        "[file:raster.ipynb](../files/data/L5/raster.ipynb)\n",
        "\n",
        "**Launch in the web/MyBinder:**\n",
        "\n",
        "[![](../files/img/colab-badge.svg)](https://colab.research.google.com/github/LandscapeGeoinformatics/geopy-2023/blob/main/L5/raster.ipynb){target=\"blank\"}\n",
        "\n",
        "[![image](https://mybinder.org/badge_logo.svg)](https://mybinder.org/v2/gh/allixender/testgeo2020b/master?filepath=L5%2Fraster.ipynb)"
      ]
    }
  ],
  "metadata": {
    "kernelspec": {
      "name": "python3",
      "language": "python",
      "display_name": "Python 3 (ipykernel)"
    }
  },
  "nbformat": 4,
  "nbformat_minor": 4
}