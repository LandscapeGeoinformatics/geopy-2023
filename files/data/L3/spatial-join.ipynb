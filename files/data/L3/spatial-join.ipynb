{
  "cells": [
    {
      "cell_type": "markdown",
      "metadata": {},
      "source": [
        "# Spatial join\n",
        "\n",
        "[A Spatial join](http://wiki.gis.com/wiki/index.php/Spatial_Join) is yet\n",
        "another classic GIS problem. Getting attributes from one layer and\n",
        "transferring them into another layer based on their spatial relationship\n",
        "is something you most likely need to do on a regular basis.\n",
        "\n",
        "The previous materials focused on learning how to perform a \n",
        "[Point in Polygon query](point-in-polygon.html). We could now apply those\n",
        "techniques and create our own function to perform a spatial join between\n",
        "two layers based on their spatial relationship. We could for example\n",
        "join the attributes of a polygon layer into a point layer where each\n",
        "point would get the attributes of a polygon that `contains` the point.\n",
        "\n",
        "Luckily, [spatial joins](https://geopandas.org/en/stable/docs/user_guide/mergingdata.html)\n",
        "(`gpd.sjoin()` -function) is already implemented in Geopandas, thus we\n",
        "do not need to create it ourselves. There are three possible types of\n",
        "join that can be applied in spatial join that are determined with `op`\n",
        "-parameter:\n",
        "\n",
        "-   `\"intersects\"`\n",
        "-   `\"within\"`\n",
        "-   `\"contains\"`\n",
        "\n",
        "Sounds familiar? Yep, all of those spatial relationships were discussed\n",
        "in the [previous materials](point-in-polygon.html), and even \n",
        "[Shapely basics](../Py_01/Geometric-Objects.html) thus you should know\n",
        "how they work.\n",
        "\n",
        "Let's perform a spatial join between the species monitoring data\n",
        "GeoPackage file, [category_3_species_porijogi.gpkg](../files/data/L3/category_3_species_porijogi.gpkg)\n",
        "and a Polygon layer that is extracted Corine Landuse Cover for the\n",
        "Porijogi region.\n",
        "\n",
        "## Download and clean the data\n",
        "\n",
        "For this lesson we will be using publicly available Corine Landuse Cover for the Porijogi region in Tartumaa:\n",
        "\n",
        "- Download [file:porijogi_corine_landuse.zip](../files/data/L3/porijogi_corine_landuse.zip)\n",
        "- Unzip the file into into your L3 folder:\n",
        "\n",
        "``` \n",
        "porijogi_corine_landuse.dbf  porijogi_corine_landuse.shp\n",
        "porijogi_corine_landuse.prj  porijogi_corine_landuse.shx\n",
        "```\n",
        "\n",
        "You should now have the files listed above in your Data folder.\n",
        "\n",
        "Let's read the data into geopandas and see what we have."
      ]
    },
    {
      "cell_type": "code",
      "metadata": {},
      "source": [
        "import geopandas as gpd\n",
        "\n",
        "# Filepath\n",
        "fp = \"../files/data/L3/porijogi_corine_landuse.shp\"\n",
        "\n",
        "# Read the data\n",
        "lulc = gpd.read_file(fp)\n",
        "\n",
        "# See the first rows\n",
        "display(lulc.head(5))"
      ],
      "execution_count": null,
      "outputs": []
    },
    {
      "cell_type": "markdown",
      "metadata": {},
      "source": [
        "We have multiple columns in the dataset but the most important\n",
        "one here is the column `clc_int` (*corine landuse code*) that tells the\n",
        "type of landuse cover under that polygon. Download the codes lookup\n",
        "table:\n",
        "\n",
        "- [file:corine_landuse_codes.csv](../files/data/L3/corine_landuse_codes.csv)\n",
        "\n",
        "In order to know what the codes mean, we will merge a lookup table to\n",
        "our spatial landuse cover GeoDataframe."
      ]
    },
    {
      "cell_type": "code",
      "metadata": {},
      "source": [
        "import pandas as pd\n",
        "\n",
        "codes = pd.read_csv('../files/data/L3/corine_landuse_codes.csv', sep=';')\n",
        "display(codes.head(5))"
      ],
      "execution_count": null,
      "outputs": []
    },
    {
      "cell_type": "markdown",
      "metadata": {},
      "source": [
        "This table contains a field `CLC_CODE` which we use to connect the\n",
        "correct mapping to our landuse cover GeoDataframe, which has a field\n",
        "`clc_int`. We will now merge the lookup table `codes` (a Pandas\n",
        "dataframe) into our `lulc` GeoDataframe, based on the identifiers in the\n",
        "mentioned fields:"
      ]
    },
    {
      "cell_type": "code",
      "metadata": {},
      "source": [
        "# general pandas table join\n",
        "lulc = lulc.merge(codes, left_on='clc_int', right_on='CLC_CODE')\n",
        "display(lulc.sample(5))"
      ],
      "execution_count": null,
      "outputs": []
    },
    {
      "cell_type": "code",
      "metadata": {},
      "source": [
        "# See the column names and confirm that we now have a column called\n",
        "# LABEL2, that gives us some textual description for the landuse codes\n",
        "display(lulc.columns)"
      ],
      "execution_count": null,
      "outputs": []
    },
    {
      "cell_type": "markdown",
      "metadata": {},
      "source": [
        "Let's also get rid of the unnecessary columns by selecting only columns\n",
        "that we need i.e. `Landuse`, `LABEL2` and `geometry`"
      ]
    },
    {
      "cell_type": "code",
      "metadata": {},
      "source": [
        "# Columns that will be selected\n",
        "selected_cols = ['Landuse', 'LABEL2','geometry']\n",
        "\n",
        "# Select those columns, we intentional assign to and overwrite the same variable\n",
        "lulc = lulc[selected_cols]\n",
        "\n",
        "# Let's see 5 randomly sampled rows\n",
        "display(lulc.sample(5))"
      ],
      "execution_count": null,
      "outputs": []
    },
    {
      "cell_type": "markdown",
      "metadata": {},
      "source": [
        "Now we have cleaned the data and have only those columns that we need\n",
        "for our analysis.\n",
        "\n",
        "## Join the layers\n",
        "\n",
        "Now we are ready to perform the spatial join between the two layers that\n",
        "we have. The aim here is to get information about **how many species\n",
        "sightings (of which species) happened in which landuse types?** . Thus,\n",
        "we want to join attributes from the landuse layer we just modified into\n",
        "the already used and prepared monitoring GeoPackage file:\n",
        "\n",
        "- [category_3_species_porijogi.gpkg](../files/data/L3/category_3_species_porijogi.gpkg)\n",
        "\n",
        "Read the category_3_species_porijogi.gpkg layer into memory"
      ]
    },
    {
      "cell_type": "code",
      "metadata": {},
      "source": [
        "# protected species under class 3 monitoring sightings\n",
        "species_fp = \"../files/data/L3/category_3_species_porijogi.gpkg\"\n",
        "\n",
        "# Read data \n",
        "species = gpd.read_file(species_fp, layer='category_3_species_porijogi', driver='GPKG')"
      ],
      "execution_count": null,
      "outputs": []
    },
    {
      "cell_type": "markdown",
      "metadata": {},
      "source": [
        "Let's make sure that the coordinate reference system of the layers are\n",
        "identical:"
      ]
    },
    {
      "cell_type": "code",
      "metadata": {},
      "source": [
        "# Check the crs of landuse\n",
        "print(lulc.crs)\n",
        "\n",
        "# Check the crs of species layer in case we need to reproject the\n",
        "# geometries to make them comparable\n",
        "print(species.crs)\n",
        "\n",
        "# Do they match? - We can test that\n",
        "print(f\"Do they match: {lulc.crs == species.crs} \")"
      ],
      "execution_count": null,
      "outputs": []
    },
    {
      "cell_type": "markdown",
      "metadata": {},
      "source": [
        "They are identical. Thus, we can be sure that when doing spatial queries\n",
        "between layers the locations match and we get the right results e.g.\n",
        "from the spatial join that we are conducting here.\n",
        "\n",
        "Let's now join the attributes from `lulc` (2) GeoDataFrame into\n",
        "`species` GeoDataFrame (1) by using `gpd.sjoin()` -function"
      ]
    },
    {
      "cell_type": "code",
      "metadata": {},
      "source": [
        "# Make a spatial join\n",
        "joined = gpd.sjoin(species, lulc, how=\"inner\", predicate=\"within\")\n",
        "\n",
        "# Let's check the result\n",
        "display(joined.head(5))"
      ],
      "execution_count": null,
      "outputs": []
    },
    {
      "cell_type": "markdown",
      "metadata": {},
      "source": [
        "Well done. Now we have performed a successful spatial join where we got\n",
        "two new columns into our `join` GeoDataFrame, i.e. `index_right` that\n",
        "tells the index of the matching polygon in the `lulc` layer and\n",
        "`species`.\n",
        "\n",
        "We could save this layer into a file and review it in QGIS:\n",
        "\n",
        "```python\n",
        "# Output path\n",
        "outfp = \"../files/data/L3/landuse_per_species.gpkg\"\n",
        "\n",
        "# Save to disk\n",
        "joined.to_file(outfp, driver=\"GPKG\", layer='landuse_per_species')\n",
        "```\n",
        "\n",
        "Do the results make sense? Let's evaluate this a bit by grouping and\n",
        "querying the resulting `join` for largest landuse type and species types\n",
        "combinations:"
      ]
    },
    {
      "cell_type": "code",
      "metadata": {},
      "source": [
        "# how many times each species is represented in the data\n",
        "display(joined['NIMI'].value_counts())"
      ],
      "execution_count": null,
      "outputs": []
    },
    {
      "cell_type": "code",
      "metadata": {},
      "source": [
        "# how many times each landuse type is represented in the data\n",
        "display(joined['LABEL2'].value_counts())"
      ],
      "execution_count": null,
      "outputs": []
    },
    {
      "cell_type": "markdown",
      "metadata": {},
      "source": [
        "Those values by themselves only give a cursorily view of the data. Let's make some \n",
        "meaningful aggregations."
      ]
    },
    {
      "cell_type": "code",
      "metadata": {},
      "source": [
        "# initialise empty list\n",
        "data_list = []\n",
        "\n",
        "for species_id, species_group in joined.groupby('NIMI'):\n",
        "    lulc_count = species_group['LABEL2'].value_counts()\n",
        "    top = lulc_count.head(1)\n",
        "    # add info to list\n",
        "    data_row_as_dict = {'species_id':species_id,\n",
        "                        'all_sights': len(species_group),\n",
        "                        'top_lulc': top.index[0],\n",
        "                        'sights_in_top': top[0] }\n",
        "    data_list.append(data_row_as_dict)\n",
        "\n",
        "# Creates DataFrame from now filled list with data items.\n",
        "top_sights = pd.DataFrame(data_list)\n",
        "\n",
        "# Print the data\n",
        "top_sights.sort_values(by=['all_sights','sights_in_top'], ascending=False).head(5)"
      ],
      "execution_count": null,
      "outputs": []
    },
    {
      "cell_type": "markdown",
      "metadata": {},
      "source": [
        "The \"valge-toonekurk\" (white stork) is the most sighted bird species in the data, and 15 out of 20 sights are in \n",
        "the \"Heterogeneous agricultural areas\" landuse type.\n",
        "\n",
        "**Download the notebook:**\n",
        "\n",
        "[file:geopandas-basics.ipynb](../files/data/L3/spatial-join.ipynb)\n",
        "\n",
        "**Launch in the web/MyBinder:**\n",
        "\n",
        "[![](../files/img/colab-badge.svg)](https://colab.research.google.com/github/LandscapeGeoinformatics/geopy-2023/blob/main/L3/spatial-join.ipynb){target=\"blank\"}\n",
        "\n",
        "[![image](https://mybinder.org/badge_logo.svg)](https://mybinder.org/v2/gh/allixender/testgeo2020b/master?filepath=L3%2Fspatial-join.ipynb)"
      ]
    }
  ],
  "metadata": {
    "kernelspec": {
      "name": "python3",
      "language": "python",
      "display_name": "Python 3 (ipykernel)"
    }
  },
  "nbformat": 4,
  "nbformat_minor": 4
}