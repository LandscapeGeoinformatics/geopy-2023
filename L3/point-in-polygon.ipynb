{
  "cells": [
    {
      "cell_type": "markdown",
      "metadata": {},
      "source": [
        "# Point in Polygon & Intersect\n",
        "\n",
        "Finding out if a certain point is located inside or outside of an area,\n",
        "or finding out if a line intersects with another line or polygon are\n",
        "fundamental geospatial operations that are often used e.g. to select\n",
        "data based on location. Such spatial queries are one of the typical\n",
        "first steps of the workflow when doing spatial analysis. Performing a\n",
        "spatial join (will be introduced later) between two spatial datasets is\n",
        "one of the most typical applications where Point in Polygon query is\n",
        "used.\n",
        "\n",
        "## How to check if point is inside a polygon?\n",
        "\n",
        "Computationally, detecting if a point is inside a polygon is a\n",
        "complicated matter. Luckily, we can use ready-made function for\n",
        "conducting the Point in Polygon query. We can take advantage of\n",
        "[Shapely's binary predicates](https://shapely.readthedocs.io/en/latest/manual.html#binary-predicates)\n",
        "that can evaluate the topolocical relationships between geographical\n",
        "objects, such as the PIP as we're interested here.\n",
        "\n",
        "There are basically two ways of conducting Point in Polygon queries in\n",
        "Shapely:\n",
        "\n",
        "1.  using a function called\n",
        "    [.within()](https://shapely.readthedocs.io/en/latest/manual.html#object.within)\n",
        "    that checks if a point is within a polygon\n",
        "2.  using a function called\n",
        "    [.contains()](https://shapely.readthedocs.io/en/latest/manual.html#object.contains)\n",
        "    that checks if a polygon contains a point\n",
        "\n",
        "Notice: even though we are talking here about **Point** in Polygon\n",
        "operation, it is also possible to check if a LineString or Polygon is\n",
        "inside another Polygon.\n",
        "\n",
        "-   Let's first create a Polygon using a list of coordinate-tuples and\n",
        "    a couple of Point objects"
      ]
    },
    {
      "cell_type": "code",
      "metadata": {},
      "source": [
        "from shapely.geometry import Point, Polygon\n",
        "\n",
        "# Create Point objects\n",
        "p1 = Point(24.952242, 60.1696017)\n",
        "p2 = Point(24.976567, 60.1612500)\n",
        "\n",
        "# Create a Polygon\n",
        "coords = [(24.950899, 60.169158), (24.953492, 60.169158), (24.953510, 60.170104), (24.950958, 60.169990)]\n",
        "poly = Polygon(coords)\n",
        "\n",
        "# Let's check what we have\n",
        "print(p1)\n",
        "print(p2)\n",
        "print(poly)"
      ],
      "execution_count": null,
      "outputs": []
    },
    {
      "cell_type": "markdown",
      "metadata": {},
      "source": [
        "Let's check if those points are `within` the polygon"
      ]
    },
    {
      "cell_type": "code",
      "metadata": {},
      "source": [
        "# Check if p1 is within the polygon using the within function\n",
        "print(p1.within(poly))\n",
        "\n",
        "# Check if p2 is within the polygon\n",
        "print(p2.within(poly))"
      ],
      "execution_count": null,
      "outputs": []
    },
    {
      "cell_type": "markdown",
      "metadata": {},
      "source": [
        "Ok, so we can see that the first point seems to be inside that polygon\n",
        "and the other one doesn't.\n",
        "\n",
        "In fact, the first point is close to the center of the polygon as we can\n",
        "see:"
      ]
    },
    {
      "cell_type": "code",
      "metadata": {},
      "source": [
        "# Our point\n",
        "print(p1)\n",
        "\n",
        "# The centroid\n",
        "print(poly.centroid)"
      ],
      "execution_count": null,
      "outputs": []
    },
    {
      "cell_type": "markdown",
      "metadata": {},
      "source": [
        "It is also possible to do PIP other way around, i.e. to check if polygon\n",
        "contains a point:"
      ]
    },
    {
      "cell_type": "code",
      "metadata": {},
      "source": [
        "# Does polygon contain p1? \n",
        "print(poly.contains(p1))\n",
        "\n",
        "# Does polygon contain p2? \n",
        "print(poly.contains(p2))"
      ],
      "execution_count": null,
      "outputs": []
    },
    {
      "cell_type": "markdown",
      "metadata": {},
      "source": [
        "Thus, both ways of checking the spatial relationship results in the same\n",
        "way.\n",
        "\n",
        "Which one should you use then? Well, it depends:\n",
        "\n",
        "-   if you have many points and just one polygon and you try to find out\n",
        "    which one of them is inside the polygon:\n",
        "-   you need to iterate over the points and check one at a time if it is\n",
        "    **within()** the polygon specified\n",
        "-   if you have many polygons and just one point and you want to find\n",
        "    out which polygon contains the point\n",
        "-   you need to iterate over the polygons until you find a polygon that\n",
        "    **contains()** the point specified (assuming there are no\n",
        "    overlapping polygons)\n",
        "\n",
        "## Intersect\n",
        "\n",
        "Another typical geospatial operation is to see if a geometry\n",
        "[intersect](https://shapely.readthedocs.io/en/latest/manual.html#object.intersects)\n",
        "or\n",
        "[touches](https://shapely.readthedocs.io/en/latest/manual.html#object.touches)\n",
        "another one. The difference between these two is that:\n",
        "\n",
        "-   if objects intersect, the boundary and interior of an object needs\n",
        "    to intersect in any way with those of the other.\n",
        "-   If an object touches the other one, it is only necessary to have (at\n",
        "    least) a single point of their boundaries in common but their\n",
        "    interiors shoud NOT intersect.\n",
        "\n",
        "Let's try these out.\n",
        "\n",
        "Let's create two LineStrings"
      ]
    },
    {
      "cell_type": "code",
      "metadata": {},
      "source": [
        "from shapely.geometry import LineString, MultiLineString\n",
        "\n",
        "# Create two lines\n",
        "\n",
        "line_a = LineString([(0, 0), (1, 1)])\n",
        "line_b = LineString([(1, 1), (0, 2)])\n",
        "\n",
        "# Let's see if they intersect\n",
        "\n",
        "display(line_a.intersects(line_b))"
      ],
      "execution_count": null,
      "outputs": []
    },
    {
      "cell_type": "markdown",
      "metadata": {},
      "source": [
        "Do they also touch each other?"
      ]
    },
    {
      "cell_type": "code",
      "metadata": {},
      "source": [
        "display(line_a.touches(line_b))"
      ],
      "execution_count": null,
      "outputs": []
    },
    {
      "cell_type": "markdown",
      "metadata": {},
      "source": [
        "Indeed, they do and we can see this by plotting the features together"
      ]
    },
    {
      "cell_type": "code",
      "metadata": {},
      "source": [
        "# Create a MultiLineString\n",
        "multi_line = MultiLineString([line_a, line_b])\n",
        "display(multi_line)"
      ],
      "execution_count": null,
      "outputs": []
    },
    {
      "cell_type": "markdown",
      "metadata": {},
      "source": [
        "Thus, the `line_b` continues from the same node ( (1,1) ) where `line_a`\n",
        "ends.\n",
        "\n",
        "However, if the lines overlap fully, they don't touch due to the\n",
        "spatial relationship rule, as we can see:\n",
        "\n",
        "Check if line_a touches itself:"
      ]
    },
    {
      "cell_type": "code",
      "metadata": {},
      "source": [
        "# Does the line touch with itself?\n",
        "print(line_a.touches(line_a))"
      ],
      "execution_count": null,
      "outputs": []
    },
    {
      "cell_type": "markdown",
      "metadata": {},
      "source": [
        "It does not. However, it does intersect - a curious thing to note!"
      ]
    },
    {
      "cell_type": "code",
      "metadata": {},
      "source": [
        "# Does the line intersect with itself?\n",
        "print(line_a.intersects(line_a))"
      ],
      "execution_count": null,
      "outputs": []
    },
    {
      "cell_type": "markdown",
      "metadata": {},
      "source": [
        "## Point in Polygon using Geopandas\n",
        "\n",
        "Next we will do a practical example where we check which of Estonian\n",
        "Category III protected species sightings from a prepared monitoring\n",
        "GeoPackage file, [category_3_species_porijogi.gpkg](../files/data/L3/category_3_species_porijogi.gpkg),\n",
        "are located in the Idaoja sub-catchment of the Porijogi river, by\n",
        "cross-checking with the polygons from [a GeoJSON-file](../files/data/L3/porijogi_sub_catchments.geojson).\n",
        "The polygons are the modelled sub-catchments of the Porijogi river.\n",
        "\n",
        "Download the files here:\n",
        "\n",
        "- [category_3_species_porijogi.gpkg](../files/data/L3/category_3_species_porijogi.gpkg)\n",
        "- [porijogi_sub_catchments.geojson](../files/data/L3/porijogi_sub_catchments.geojson)\n",
        "\n",
        "However, reading a layer from a GeoPackage file needs an additional\n",
        "information of the `layer` name, because GeoPackage is basically an\n",
        "embedded database format, building on top of SQLite.\n",
        "\n",
        "Let's start by reading the addresses from the GeoPackage layer file."
      ]
    },
    {
      "cell_type": "code",
      "metadata": {},
      "source": [
        "import geopandas as gpd\n",
        "\n",
        "# protected species under class 3 monitoring sightings\n",
        "species_fp = \"../files/data/L3/category_3_species_porijogi.gpkg\"\n",
        "species_data = gpd.read_file(species_fp, layer='category_3_species_porijogi', driver='GPKG')\n",
        "display(species_data.head(5))"
      ],
      "execution_count": null,
      "outputs": []
    },
    {
      "cell_type": "markdown",
      "metadata": {},
      "source": [
        "### Reading GeoJSON-files in Geopandas\n",
        "\n",
        "It is possible to read the data from GeoJSON-file in the same manner as\n",
        "a Shapefile."
      ]
    },
    {
      "cell_type": "code",
      "metadata": {},
      "source": [
        "# porijogi_sub_catchments\n",
        "polys_fp = \"../files/data/L3/porijogi_sub_catchments.geojson\"\n",
        "polys = gpd.read_file(polys_fp, driver='GeoJSON')\n",
        "\n",
        "display(polys.head(5))"
      ],
      "execution_count": null,
      "outputs": []
    },
    {
      "cell_type": "markdown",
      "metadata": {},
      "source": [
        "Nice, now we can see that we have the sub-diveded catchments for the\n",
        "Porijogi river.\n",
        "\n",
        "\n",
        "::: {.callout-warning}\n",
        "ATTENTION: The GeoJSON specification requires that coordinates are given\n",
        "in WGS84 geographic coordinate reference system. The species GPKG data \n",
        "are in the Estonian National Grid EPSG:3301!\n",
        "\n",
        "So we need to reproject the catchments GeoJSON data to the same coordinate reference system!\n",
        "\n",
        "In order to be geographically correct, we need to reproject the data to \n",
        "the locally more accurate projected coordinate reference system, EPSG:3301.\n",
        ":::"
      ]
    },
    {
      "cell_type": "code",
      "metadata": {},
      "source": [
        "# Reproject to EPSG:3301\n",
        "# here we intentially overwrite the original GeoDataFrame with the reprojected one\n",
        "polys = polys.to_crs(3301)\n",
        "\n",
        "# attention to the coordinates in the geometry column\n",
        "display(polys.head(5))"
      ],
      "execution_count": null,
      "outputs": []
    },
    {
      "cell_type": "markdown",
      "metadata": {},
      "source": [
        "We are interested in the sub-catchment that is called `Idaoja`.\n",
        "Let's sub-select this single catchment and see where our data is located,\n",
        "and how they are relating with a plot of these two datasets on top of each\n",
        "other on a map.\n"
      ]
    },
    {
      "cell_type": "code",
      "metadata": {},
      "source": [
        "import matplotlib.pyplot as plt\n",
        "\n",
        "plt.style.use('ggplot')\n",
        "plt.rcParams['figure.figsize'] = (7, 8)\n",
        "\n",
        "subcatch = polys.loc[polys['NAME_1']=='Idaoja']\n",
        "subcatch.reset_index(drop=True, inplace=True)\n",
        "\n",
        "# create a plot basis, with the ax object\n",
        "fig, ax = plt.subplots()\n",
        "\n",
        "# use the ax object as shared basis for the plot\n",
        "# plot all the sub-catchments\n",
        "polys.plot(ax=ax, facecolor='gray')\n",
        "\n",
        "# plot the Idaoja subcatchment in red\n",
        "subcatch.plot(ax=ax, facecolor='red')\n",
        "\n",
        "# plot the species point data on top of the sub-catchments\n",
        "species_data.plot(ax=ax, color='blue', markersize=5)\n",
        "\n",
        "plt.tight_layout()"
      ],
      "execution_count": null,
      "outputs": []
    },
    {
      "cell_type": "markdown",
      "metadata": {},
      "source": [
        "Okey, so we can see that, indeed, certain points are within the selected\n",
        "red Polygon.\n",
        "\n",
        "Let's find out which one of them are located within the Polygon. Hence,\n",
        "we are conducting a Point in Polygon query.\n",
        "\n",
        "Let's check which Points are within the `subcatch` Polygon. Notice,\n",
        "that here we check if the Points are `within` the **geometry** of\n",
        "the `subcatch` GeoDataFrame. Hence, we use the `loc[0, 'geometry']`\n",
        "to parse the actual Polygon geometry object from the GeoDataFrame."
      ]
    },
    {
      "cell_type": "code",
      "metadata": {},
      "source": [
        "# test the whole species point geodataframe against the single subcatchment polygon geometry\n",
        "pip_mask = species_data.within(subcatch.loc[0, 'geometry'])\n",
        "\n",
        "display(pip_mask)"
      ],
      "execution_count": null,
      "outputs": []
    },
    {
      "cell_type": "markdown",
      "metadata": {},
      "source": [
        "As we can see, we now have an array of boolean values for each row,\n",
        "where the result is `True` if Point was inside the Polygon, and `False`\n",
        "if it was not.\n",
        "\n",
        "We can now use this mask array to select the Points that are inside\n",
        "the Polygon. Selecting data with this kind of mask array (of boolean\n",
        "values) is easy by passing the array inside the `loc` indexing\n",
        "function of Pandas."
      ]
    },
    {
      "cell_type": "code",
      "metadata": {},
      "source": [
        "pip_data = species_data.loc[pip_mask]\n",
        "display(pip_data.head(5))"
      ],
      "execution_count": null,
      "outputs": []
    },
    {
      "cell_type": "markdown",
      "metadata": {},
      "source": [
        "Let's finally confirm that our Point in Polygon query worked as it\n",
        "should by plotting the data."
      ]
    },
    {
      "cell_type": "code",
      "metadata": {},
      "source": [
        "fig, ax = plt.subplots()\n",
        "\n",
        "polys.plot(ax=ax, facecolor='gray')\n",
        "subcatch.plot(ax=ax, facecolor='red')\n",
        "\n",
        "pip_data.plot(ax=ax, color='gold', markersize=10)\n",
        "\n",
        "plt.tight_layout()"
      ],
      "execution_count": null,
      "outputs": []
    },
    {
      "cell_type": "markdown",
      "metadata": {},
      "source": [
        "Now we only have the (golden) points that, indeed, are inside the red\n",
        "Polygon which is exactly what we wanted!\n",
        "\n",
        "**Download the notebook:**\n",
        "\n",
        "[file:point-in-polygon.ipynb](../files/data/L3/point-in-polygon.ipynb)\n",
        "\n",
        "**Launch in the web/MyBinder:**\n",
        "\n",
        "[![](../files/img/colab-badge.svg)](https://colab.research.google.com/github/LandscapeGeoinformatics/geopy-2023/blob/main/L3/point-in-polygon.ipynb){target=\"blank\"}\n",
        "\n",
        "[![](https://mybinder.org/badge_logo.svg)](https://mybinder.org/v2/gh/LandscapeGeoinformatics/geopy-2023/main?filepath=L3%2Fpoint-in-polygon.ipynb)"
      ]
    }
  ],
  "metadata": {
    "kernelspec": {
      "name": "python3",
      "language": "python",
      "display_name": "Python 3 (ipykernel)"
    }
  },
  "nbformat": 4,
  "nbformat_minor": 4
}